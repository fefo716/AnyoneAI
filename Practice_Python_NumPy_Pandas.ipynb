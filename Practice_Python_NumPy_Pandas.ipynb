{
  "cells": [
    {
      "cell_type": "markdown",
      "metadata": {
        "id": "view-in-github",
        "colab_type": "text"
      },
      "source": [
        "<a href=\"https://colab.research.google.com/github/fefo716/AnyoneAI/blob/main/Practice_Python_NumPy_Pandas.ipynb\" target=\"_parent\"><img src=\"https://colab.research.google.com/assets/colab-badge.svg\" alt=\"Open In Colab\"/></a>"
      ]
    },
    {
      "cell_type": "markdown",
      "metadata": {
        "id": "osPqycuhQ4hD"
      },
      "source": [
        "# 1. Python"
      ]
    },
    {
      "cell_type": "markdown",
      "metadata": {
        "id": "_s04rcLVQ4hO"
      },
      "source": [
        "Recommendation: in addition to doing the exercises, we strongly suggest that you test and modify the code in this notebook. The best way to learn is by doing, 'breaking' the code and trying to understand why it stopped working. There is nothing irreversible, do not be afraid! You can always re-download the notebook."
      ]
    },
    {
      "cell_type": "markdown",
      "metadata": {
        "id": "kg81027uQ4hQ"
      },
      "source": [
        "## Variables\n",
        "\n",
        "By creating a variable you are giving an object a name. Each variable must have a name through which we will refer to it, the names must be unique and, as far as possible, be as explicit as possible to avoid confusion.\n",
        "\n",
        "Using the = assigns a value to a variable. It is not a mathematical/logical equal."
      ]
    },
    {
      "cell_type": "code",
      "execution_count": null,
      "metadata": {
        "id": "V2eslGOAQ4hS",
        "outputId": "bdc80de3-535f-4d33-c057-23cd83512a24"
      },
      "outputs": [
        {
          "name": "stdout",
          "output_type": "stream",
          "text": [
            "35\n",
            "1.7\n",
            "36.7\n",
            "Hello!\n"
          ]
        }
      ],
      "source": [
        "x = 35\n",
        "print(x)\n",
        "\n",
        "y = 1.7\n",
        "print(y)\n",
        "\n",
        "z = x + y\n",
        "print(z)\n",
        "\n",
        "my_text = 'Hello!'\n",
        "print(my_text)"
      ]
    },
    {
      "cell_type": "markdown",
      "metadata": {
        "id": "nJg3b3OlQ4hW"
      },
      "source": [
        "**TODO:** What is the difference in the following cell"
      ]
    },
    {
      "cell_type": "code",
      "execution_count": null,
      "metadata": {
        "id": "_75xxSqLQ4hY"
      },
      "outputs": [],
      "source": [
        "print(18.8)\n",
        "print('18.8')"
      ]
    },
    {
      "cell_type": "markdown",
      "metadata": {
        "id": "zNJkqeU6Q4hZ"
      },
      "source": [
        "**TODO:** How do we remove a variable that we don't want to use anymore?"
      ]
    },
    {
      "cell_type": "code",
      "execution_count": null,
      "metadata": {
        "id": "IKUXfayuQ4hb"
      },
      "outputs": [],
      "source": [
        "# To complete"
      ]
    },
    {
      "cell_type": "markdown",
      "metadata": {
        "id": "JNFFlKxEQ4hd"
      },
      "source": [
        "## Data Types\n",
        "\n",
        "When we define a variable, depending on the content that we assign to it, it will be of a certain type. The most common data types of variables are: int, float, string and boolean."
      ]
    },
    {
      "cell_type": "markdown",
      "metadata": {
        "id": "8VsT34IVQ4hf"
      },
      "source": [
        "**TODO:** What type are the following variables?"
      ]
    },
    {
      "cell_type": "code",
      "execution_count": null,
      "metadata": {
        "id": "_74g2lw5Q4hh"
      },
      "outputs": [],
      "source": [
        "a = 42\n",
        "b = 7.8\n",
        "c = True\n",
        "t1 = 'hola'\n",
        "t2 = '523'"
      ]
    },
    {
      "cell_type": "code",
      "execution_count": null,
      "metadata": {
        "id": "hr9ZF1UjQ4hi"
      },
      "outputs": [],
      "source": [
        "# To complete"
      ]
    },
    {
      "cell_type": "markdown",
      "metadata": {
        "id": "eS-LCSwmQ4hj"
      },
      "source": [
        "**TODO:** Convert __a__ to float, __b__ to int and __c__ to string"
      ]
    },
    {
      "cell_type": "code",
      "execution_count": null,
      "metadata": {
        "id": "kpDtahwiQ4hk"
      },
      "outputs": [],
      "source": [
        "# To complete"
      ]
    },
    {
      "cell_type": "markdown",
      "metadata": {
        "id": "yJ2ht_jlQ4hm"
      },
      "source": [
        "## Operations\n",
        "\n",
        "With the variables we define, we can perform different operations. Depending on the type of variable, there are different operations available."
      ]
    },
    {
      "cell_type": "code",
      "execution_count": null,
      "metadata": {
        "id": "4RonEgwhQ4hm",
        "outputId": "10a1d240-b880-44a3-95a5-570a99844ceb"
      },
      "outputs": [
        {
          "name": "stdout",
          "output_type": "stream",
          "text": [
            "24\n",
            "16\n"
          ]
        }
      ],
      "source": [
        "a = 20\n",
        "b = 4\n",
        "print(a+b)\n",
        "print(a-b)"
      ]
    },
    {
      "cell_type": "markdown",
      "metadata": {
        "id": "MfwmgKYlQ4ho"
      },
      "source": [
        "Operations can be performed even between different types of variables"
      ]
    },
    {
      "cell_type": "code",
      "execution_count": null,
      "metadata": {
        "id": "wpxxxpNYQ4hp",
        "outputId": "2f12f69b-93d8-4628-a9b0-8e06b21bca1e"
      },
      "outputs": [
        {
          "name": "stdout",
          "output_type": "stream",
          "text": [
            "24.5\n",
            "15.5\n"
          ]
        }
      ],
      "source": [
        "a = 20\n",
        "b = 4.5\n",
        "\n",
        "c = a+b\n",
        "d = a-b\n",
        "\n",
        "print(c)\n",
        "print(d)"
      ]
    },
    {
      "cell_type": "markdown",
      "metadata": {
        "id": "9__lcdeuQ4hq"
      },
      "source": [
        "We can divide"
      ]
    },
    {
      "cell_type": "code",
      "execution_count": null,
      "metadata": {
        "id": "It9iLBZZQ4hr",
        "outputId": "3b18e82b-2cd7-4a2a-af3a-ecbaf20b4e23"
      },
      "outputs": [
        {
          "name": "stdout",
          "output_type": "stream",
          "text": [
            "3.3333333333333335\n"
          ]
        }
      ],
      "source": [
        "x = 10\n",
        "y = 3\n",
        "z = x / y\n",
        "print(z)"
      ]
    },
    {
      "cell_type": "markdown",
      "metadata": {
        "id": "ELi9e-2dQ4ht"
      },
      "source": [
        "**TODO:** Calculate the percentage that represents the value 165 over a total of 648 and store it in a variable called percentage."
      ]
    },
    {
      "cell_type": "code",
      "execution_count": null,
      "metadata": {
        "id": "ZtizI6BcQ4hu"
      },
      "outputs": [],
      "source": [
        "# To complete"
      ]
    },
    {
      "cell_type": "markdown",
      "metadata": {
        "id": "OX5IzOTsQ4hv"
      },
      "source": [
        "**TODO:** Calculate the sum and multiplication of the variables a, b and c. I.e. `a+b+c` and `a*b*c`."
      ]
    },
    {
      "cell_type": "code",
      "execution_count": null,
      "metadata": {
        "id": "aZP5FdKRQ4hw"
      },
      "outputs": [],
      "source": [
        "a = '12'\n",
        "b = '-5.75'\n",
        "c = '23.87'"
      ]
    },
    {
      "cell_type": "code",
      "execution_count": null,
      "metadata": {
        "id": "56kagoqlQ4hx"
      },
      "outputs": [],
      "source": [
        "# To complete"
      ]
    },
    {
      "cell_type": "markdown",
      "metadata": {
        "id": "TeJGerOHQ4hy"
      },
      "source": [
        "## Lists\n",
        "\n",
        "They are composed of a succession of objects in a certain order. They are defined by square brackets [], and the objects within them are separated by commas."
      ]
    },
    {
      "cell_type": "code",
      "execution_count": null,
      "metadata": {
        "id": "0YqW1I0VQ4hy",
        "outputId": "80a54745-d4be-45ec-ca61-030fb941faca",
        "colab": {
          "base_uri": "https://localhost:8080/"
        }
      },
      "outputs": [
        {
          "output_type": "stream",
          "name": "stdout",
          "text": [
            "[42, 10.7, True, 'Messi']\n"
          ]
        }
      ],
      "source": [
        "my_list = [42, 10.7, True, 'Messi']\n",
        "print(my_list)"
      ]
    },
    {
      "cell_type": "markdown",
      "metadata": {
        "id": "SKcUqunlQ4hz"
      },
      "source": [
        "A very common question that one asks when working with lists is how many elements does it have."
      ]
    },
    {
      "cell_type": "code",
      "execution_count": null,
      "metadata": {
        "id": "lw63KDgjQ4h0",
        "outputId": "4f2d2c63-9d61-4473-d4b4-35589086be5e",
        "colab": {
          "base_uri": "https://localhost:8080/"
        }
      },
      "outputs": [
        {
          "output_type": "execute_result",
          "data": {
            "text/plain": [
              "4"
            ]
          },
          "metadata": {},
          "execution_count": 2
        }
      ],
      "source": [
        "len(my_list)"
      ]
    },
    {
      "cell_type": "markdown",
      "metadata": {
        "id": "ThtlfWP8Q4h1"
      },
      "source": [
        "Each element in a list is assigned a position (index) that we can use to inspect or operate on that element. Indices start at 0, and are specified by putting square brackets with the index inside after the list name:"
      ]
    },
    {
      "cell_type": "code",
      "execution_count": null,
      "metadata": {
        "id": "Yx6JzzVuQ4h1",
        "outputId": "bbb7dd1e-e3a8-419c-b9be-f57960342f12",
        "colab": {
          "base_uri": "https://localhost:8080/"
        }
      },
      "outputs": [
        {
          "output_type": "stream",
          "name": "stdout",
          "text": [
            "5\n",
            "6.0\n",
            "Messi\n"
          ]
        }
      ],
      "source": [
        "my_list = [5, 6.0, 'Messi',-5, False, 'Maradona', True, 100]\n",
        "\n",
        "print(my_list[0])\n",
        "print(my_list[1])\n",
        "print(my_list[2])"
      ]
    },
    {
      "cell_type": "markdown",
      "metadata": {
        "id": "GpNB9W4IQ4h2"
      },
      "source": [
        "**TODO:** print the seventh element of my_list."
      ]
    },
    {
      "cell_type": "code",
      "execution_count": null,
      "metadata": {
        "id": "yCYgBi6IQ4h2"
      },
      "outputs": [],
      "source": [
        "# To complete"
      ]
    },
    {
      "cell_type": "markdown",
      "metadata": {
        "id": "YnkXNJHIQ4h3"
      },
      "source": [
        "We can also, slice a list."
      ]
    },
    {
      "cell_type": "code",
      "execution_count": null,
      "metadata": {
        "id": "TxusDuW2Q4h3",
        "outputId": "ce6fa49c-9333-4c9e-a5f2-49ae28c8a6a4",
        "colab": {
          "base_uri": "https://localhost:8080/"
        }
      },
      "outputs": [
        {
          "output_type": "stream",
          "name": "stdout",
          "text": [
            "[5, 6.0, 'Messi']\n",
            "[False, 'Maradona', True, 100]\n",
            "[6.0, -5]\n"
          ]
        }
      ],
      "source": [
        "print(my_list[0:3])\n",
        "print(my_list[4:])\n",
        "print(my_list[1:5:2])"
      ]
    },
    {
      "cell_type": "markdown",
      "metadata": {
        "id": "Ry-Oxu1pQ4h4"
      },
      "source": [
        "What is the logic that governs this syntax? Play around with it a bit and see if you can figure out the rule. If not, you can also google what slicing is."
      ]
    },
    {
      "cell_type": "markdown",
      "metadata": {
        "id": "Hg3jSE5dQ4h5"
      },
      "source": [
        "We can also use negative numbers for indexing."
      ]
    },
    {
      "cell_type": "code",
      "execution_count": null,
      "metadata": {
        "id": "47lfhlN4Q4h5",
        "outputId": "5a75b4f0-d6ae-48cf-9f4e-481057b8a4a9",
        "colab": {
          "base_uri": "https://localhost:8080/"
        }
      },
      "outputs": [
        {
          "output_type": "stream",
          "name": "stdout",
          "text": [
            "100\n",
            "True\n",
            "5\n"
          ]
        }
      ],
      "source": [
        "print(my_list[-1])\n",
        "print(my_list[-2])\n",
        "print(my_list[-8])"
      ]
    },
    {
      "cell_type": "markdown",
      "metadata": {
        "id": "8hR3TJeRQ4h6"
      },
      "source": [
        "We can have list of lists."
      ]
    },
    {
      "cell_type": "code",
      "execution_count": null,
      "metadata": {
        "id": "PiUoO44fQ4h6",
        "outputId": "2fa01162-42ad-413a-880d-e64ad17a9e96",
        "colab": {
          "base_uri": "https://localhost:8080/"
        }
      },
      "outputs": [
        {
          "output_type": "stream",
          "name": "stdout",
          "text": [
            "[0, ['hello', 'how', 'are', 'you?'], 'Mas texto', [1, 2, 3]]\n",
            "4\n"
          ]
        }
      ],
      "source": [
        "my_list_1 = ['hello', 'how', 'are', 'you?'] \n",
        "my_list_2 = [1, 2, 3]\n",
        "mother_list = [0, my_list_1, 'Mas texto', my_list_2]\n",
        "\n",
        "print(mother_list)\n",
        "print(len(mother_list))"
      ]
    },
    {
      "cell_type": "markdown",
      "metadata": {
        "id": "s1hI4BcZQ4h7"
      },
      "source": [
        "**TODO:** Taking my_list_1 from mother_list (what we just did in the previous cell), index the second element of my_list_1."
      ]
    },
    {
      "cell_type": "code",
      "execution_count": null,
      "metadata": {
        "id": "m9VAJdwPQ4h8"
      },
      "outputs": [],
      "source": [
        "# To complete"
      ]
    },
    {
      "cell_type": "markdown",
      "metadata": {
        "id": "RzsnCD3fQ4h9"
      },
      "source": [
        "Append values to a list"
      ]
    },
    {
      "cell_type": "code",
      "execution_count": null,
      "metadata": {
        "id": "Tk_sGJmOQ4h9",
        "outputId": "b36b8f1a-543f-4aef-8568-eb15919e61d0",
        "colab": {
          "base_uri": "https://localhost:8080/"
        }
      },
      "outputs": [
        {
          "output_type": "execute_result",
          "data": {
            "text/plain": [
              "0"
            ]
          },
          "metadata": {},
          "execution_count": 9
        }
      ],
      "source": [
        "empty_list = []\n",
        "len(empty_list)"
      ]
    },
    {
      "cell_type": "code",
      "execution_count": null,
      "metadata": {
        "id": "TFvjTQc9Q4h-",
        "outputId": "26253a99-5f38-4669-8cd6-7dff240ed746",
        "colab": {
          "base_uri": "https://localhost:8080/"
        }
      },
      "outputs": [
        {
          "output_type": "stream",
          "name": "stdout",
          "text": [
            "[89, 'text']\n",
            "2\n"
          ]
        }
      ],
      "source": [
        "empty_list.append(89)\n",
        "empty_list.append('text')\n",
        "print(empty_list)\n",
        "print(len(empty_list))"
      ]
    },
    {
      "cell_type": "markdown",
      "metadata": {
        "id": "QxHcfHwLQ4h_"
      },
      "source": [
        "**TODO:** What happens if they run the previous cell again and again?"
      ]
    },
    {
      "cell_type": "markdown",
      "metadata": {
        "id": "XuehTfFTQ4h_"
      },
      "source": [
        "**TODO:** Define a list and append a, b and c"
      ]
    },
    {
      "cell_type": "code",
      "execution_count": null,
      "metadata": {
        "id": "Zl632C5bQ4h_"
      },
      "outputs": [],
      "source": [
        "a = 8\n",
        "b = 'world'\n",
        "c = [12,24.5,66]"
      ]
    },
    {
      "cell_type": "code",
      "execution_count": null,
      "metadata": {
        "id": "QK2vNp-gQ4iA"
      },
      "outputs": [],
      "source": [
        "# To complete"
      ]
    },
    {
      "cell_type": "markdown",
      "metadata": {
        "id": "vSAQ8A84Q4iA"
      },
      "source": [
        "We must be careful when we copy lists and operate on it, let's see a little about what it is"
      ]
    },
    {
      "cell_type": "code",
      "execution_count": null,
      "metadata": {
        "id": "CTMaaJO-Q4iB",
        "outputId": "c79a3678-1daa-441b-a553-740a1118d827",
        "colab": {
          "base_uri": "https://localhost:8080/"
        }
      },
      "outputs": [
        {
          "output_type": "stream",
          "name": "stdout",
          "text": [
            "[1, 2, 3, 100] [1, 2, 3, 100]\n"
          ]
        }
      ],
      "source": [
        "list_1 = [1, 2, 3, 4]\n",
        "list_2 = list_1\n",
        "list_2[-1] = 100\n",
        "\n",
        "print(list_1, list_2)"
      ]
    },
    {
      "cell_type": "markdown",
      "metadata": {
        "id": "Y6KGIxh5Q4iB"
      },
      "source": [
        "Note that both lists have been modified! This, in general, is not what is desired. But we can do it right:"
      ]
    },
    {
      "cell_type": "code",
      "execution_count": null,
      "metadata": {
        "id": "4aBb35AwQ4iC",
        "outputId": "2742f7fa-d6ba-4749-c8a1-b27bc7e55668",
        "colab": {
          "base_uri": "https://localhost:8080/"
        }
      },
      "outputs": [
        {
          "output_type": "stream",
          "name": "stdout",
          "text": [
            "[1, 2, 3, 4] [1, 2, 3, 100]\n"
          ]
        }
      ],
      "source": [
        "list_1 = [1, 2, 3, 4]\n",
        "list_2 = list_1.copy()\n",
        "list_2[-1] = 100\n",
        "    \n",
        "print(list_1, list_2)"
      ]
    },
    {
      "cell_type": "markdown",
      "metadata": {
        "id": "qJdXAHzqQ4iC"
      },
      "source": [
        "## Dictionaries"
      ]
    },
    {
      "cell_type": "markdown",
      "metadata": {
        "id": "ALPS_uDUQ4iD"
      },
      "source": [
        "Dictionaries in Python are a type of data structure that allows you to store an unordered set of key:value pairs, the keys being unique within the same dictionary (that is, there cannot be two elements with the same key).\n",
        "\n",
        "Let's see below an example of how we would declare a dictionary in Python in whose elements we have the Boca Juniors players of the year 2000, the key being the number of their shirt (unique key) and the value being their name:"
      ]
    },
    {
      "cell_type": "code",
      "execution_count": null,
      "metadata": {
        "id": "6Xk6OLLRQ4iD",
        "outputId": "49bfc8b8-bd52-4e15-f42d-65822728369b"
      },
      "outputs": [
        {
          "data": {
            "text/plain": [
              "{1: 'Córdoba',\n",
              " 4: 'Ibarra',\n",
              " 2: 'Bermúdez',\n",
              " 13: 'Traverso',\n",
              " 6: 'Matellán',\n",
              " 22: 'Battaglia',\n",
              " 5: 'Serna',\n",
              " 18: 'Basualdo',\n",
              " 10: 'Riquelme',\n",
              " 9: 'Palermo',\n",
              " 16: 'Delgado'}"
            ]
          },
          "execution_count": 27,
          "metadata": {},
          "output_type": "execute_result"
        }
      ],
      "source": [
        "players = dict()\n",
        "players = {\n",
        "    1 : \"Córdoba\", 4 : \"Ibarra\",\n",
        "    2 : \"Bermúdez\", 13 : \"Traverso\",\n",
        "    6 : \"Matellán\", 22 : \"Battaglia\",\n",
        "    5 : \"Serna\", 18 : \"Basualdo\",\n",
        "    10 : \"Riquelme\", 9 : \"Palermo\",\n",
        "    16 : \"Delgado\"\n",
        "}\n",
        "players"
      ]
    },
    {
      "cell_type": "markdown",
      "metadata": {
        "id": "mr9p3KyuQ4iE"
      },
      "source": [
        "As we can see, the dictionary is declared between the characters {} and each of the elements is separated by commas (,). We define each element with its key:value pair, which can be the key and the value of any data type ('int', 'float', 'chr', 'str', 'bool', 'object').\n",
        "\n",
        "Next we are going to loop through the dictionary and print its key:value pairs (we will see all the dictionary methods later):"
      ]
    },
    {
      "cell_type": "code",
      "execution_count": null,
      "metadata": {
        "id": "28QgzpXjQ4iF",
        "outputId": "4413809a-d976-423b-ab69-9ba815c804d5"
      },
      "outputs": [
        {
          "name": "stdout",
          "output_type": "stream",
          "text": [
            "1 -> Córdoba\n",
            "4 -> Ibarra\n",
            "2 -> Bermúdez\n",
            "13 -> Traverso\n",
            "6 -> Matellán\n",
            "22 -> Battaglia\n",
            "5 -> Serna\n",
            "18 -> Basualdo\n",
            "10 -> Riquelme\n",
            "9 -> Palermo\n",
            "16 -> Delgado\n"
          ]
        }
      ],
      "source": [
        "for k, v in players.items():\n",
        "    print(\"%s -> %s\"%(k,v))"
      ]
    },
    {
      "cell_type": "markdown",
      "metadata": {
        "id": "X2M9cbcVQ4iF"
      },
      "source": [
        "**TODO:** Print dictionary keys"
      ]
    },
    {
      "cell_type": "code",
      "execution_count": null,
      "metadata": {
        "id": "0Bbuw6K6Q4iF"
      },
      "outputs": [],
      "source": [
        "# To complete"
      ]
    },
    {
      "cell_type": "markdown",
      "metadata": {
        "id": "orOE2-qhQ4iG"
      },
      "source": [
        "**TODO:** Print dictionary values"
      ]
    },
    {
      "cell_type": "code",
      "execution_count": null,
      "metadata": {
        "id": "E-aUFTc0Q4iG"
      },
      "outputs": [],
      "source": [
        "# To complete"
      ]
    },
    {
      "cell_type": "markdown",
      "metadata": {
        "id": "OHeWcddVQ4iG"
      },
      "source": [
        "**TODO:** Insert a new player into the dictionary, 7: 'Schelotto'"
      ]
    },
    {
      "cell_type": "code",
      "execution_count": null,
      "metadata": {
        "id": "94Cs3k_1Q4iH"
      },
      "outputs": [],
      "source": [
        "# To complete"
      ]
    },
    {
      "cell_type": "markdown",
      "metadata": {
        "id": "c4x4QzRQQ4iH"
      },
      "source": [
        "**TODO:** Investigate the setdefault method"
      ]
    },
    {
      "cell_type": "code",
      "execution_count": null,
      "metadata": {
        "id": "olgN0zFhQ4iI"
      },
      "outputs": [],
      "source": [
        "# To complete"
      ]
    },
    {
      "cell_type": "markdown",
      "metadata": {
        "id": "6dgGf8bCQ4iI"
      },
      "source": [
        "**TODO:** Delete the element whose key is 22"
      ]
    },
    {
      "cell_type": "code",
      "execution_count": null,
      "metadata": {
        "id": "3IboMxyHQ4iI"
      },
      "outputs": [],
      "source": [
        "# To complete"
      ]
    },
    {
      "cell_type": "markdown",
      "metadata": {
        "id": "ZXZPZ80vQ4iJ"
      },
      "source": [
        "**TODO:** Copy the dictionary to a new dictionary"
      ]
    },
    {
      "cell_type": "code",
      "execution_count": null,
      "metadata": {
        "id": "O8wriEjAQ4iJ"
      },
      "outputs": [],
      "source": [
        "# To complete"
      ]
    },
    {
      "cell_type": "markdown",
      "metadata": {
        "id": "Xj2hnhYCQ4iJ"
      },
      "source": [
        "**TODO:** Deletes all previously copied dictionary content"
      ]
    },
    {
      "cell_type": "code",
      "execution_count": null,
      "metadata": {
        "id": "hl6qylNnQ4iK"
      },
      "outputs": [],
      "source": [
        "# To complete"
      ]
    },
    {
      "cell_type": "markdown",
      "metadata": {
        "id": "NIzCRej0Q4iK"
      },
      "source": [
        "**TODO:** Check that keys 2 and 8 exist in the players dictionary"
      ]
    },
    {
      "cell_type": "code",
      "execution_count": null,
      "metadata": {
        "id": "do2PPxIoQ4iK"
      },
      "outputs": [],
      "source": [
        "# To complete"
      ]
    },
    {
      "cell_type": "markdown",
      "metadata": {
        "id": "ErvXe3dFQ4iL"
      },
      "source": [
        "Another very useful method; is the items() method that returns the elements of the dictionaries in tuples, in which in each of them the key is in the first position and the value in the second.\n",
        "\n",
        "**TODO**: Using items() iterate over the dictionary and print each key:value pair from the dictionary"
      ]
    },
    {
      "cell_type": "code",
      "execution_count": null,
      "metadata": {
        "id": "f-y-p2VtQ4iL"
      },
      "outputs": [],
      "source": [
        "# To complete"
      ]
    },
    {
      "cell_type": "markdown",
      "metadata": {
        "id": "fntSuzgXQ4iL"
      },
      "source": [
        "Finally we are going to see the update(dict) method that will allow us to join the elements of two dictionaries. This method inserts into the dictionary those elements of the dictionary passed to it as a parameter, whose keys are not in the dictionary.\n",
        "\n",
        "**TODO:**\n",
        "Create a dictionary with substitute players (no matter the names or numbers, you can invent them) and add those players to the original dictionary."
      ]
    },
    {
      "cell_type": "code",
      "execution_count": null,
      "metadata": {
        "id": "XI7HySuJQ4iM"
      },
      "outputs": [],
      "source": [
        "# To complete"
      ]
    },
    {
      "cell_type": "markdown",
      "metadata": {
        "id": "XLIFMRr-Q4iM"
      },
      "source": [
        "## Sets\n",
        "\n",
        "A set is created by placing all the items (elements) inside curly braces {}, separated by comma, or by using the built-in set() function.\n",
        "\n",
        "It can have any number of items and they may be of different types (integer, float, tuple, string etc.). But a set cannot have mutable elements like lists, sets or dictionaries as its elements."
      ]
    },
    {
      "cell_type": "code",
      "execution_count": null,
      "metadata": {
        "id": "mPkQHL40Q4iM"
      },
      "outputs": [],
      "source": [
        "A = {'python', 'pandas', 'numpy', 'matplotlib', 'csv', 'reports', 'sql', 'cloud'} # tools/skills for DS/ML\n",
        "B = {'python', 'cloud', 'java', 'ruby', 'sql', 'jacascript'} # tools/skills for Backend"
      ]
    },
    {
      "cell_type": "markdown",
      "metadata": {
        "id": "7ocOcf4cQ4iN"
      },
      "source": [
        "If we want to obtain the union of both sets of skills we can generate the union of the sets"
      ]
    },
    {
      "cell_type": "code",
      "execution_count": null,
      "metadata": {
        "id": "4M6whC_aQ4iN",
        "outputId": "35dcdc88-e313-4ad9-a614-a6ff060c6f23"
      },
      "outputs": [
        {
          "data": {
            "text/plain": [
              "{'cloud',\n",
              " 'csv',\n",
              " 'jacascript',\n",
              " 'java',\n",
              " 'matplotlib',\n",
              " 'numpy',\n",
              " 'pandas',\n",
              " 'python',\n",
              " 'reports',\n",
              " 'ruby',\n",
              " 'sql'}"
            ]
          },
          "execution_count": 40,
          "metadata": {},
          "output_type": "execute_result"
        }
      ],
      "source": [
        "A.union(B)"
      ]
    },
    {
      "cell_type": "markdown",
      "metadata": {
        "id": "ebN14zaQQ4iO"
      },
      "source": [
        "**TODO:** What are the skills shared by both jobs?"
      ]
    },
    {
      "cell_type": "code",
      "execution_count": null,
      "metadata": {
        "id": "cG2w9PsHQ4iP"
      },
      "outputs": [],
      "source": [
        "# To complete"
      ]
    },
    {
      "cell_type": "markdown",
      "metadata": {
        "id": "KdhepyfCQ4iP"
      },
      "source": [
        "**TODO:** What skills correspond to a DS position but not to a Backend position?"
      ]
    },
    {
      "cell_type": "code",
      "execution_count": null,
      "metadata": {
        "id": "J-N8zgtbQ4iQ"
      },
      "outputs": [],
      "source": [
        "# To complete"
      ]
    },
    {
      "cell_type": "markdown",
      "metadata": {
        "id": "AwuKEbOsQ4iR"
      },
      "source": [
        "**TODO:** What skills correspond to a Backend position but not to a DS position?"
      ]
    },
    {
      "cell_type": "code",
      "execution_count": null,
      "metadata": {
        "id": "IJnCfpcmQ4iR"
      },
      "outputs": [],
      "source": [
        "# To complete"
      ]
    },
    {
      "cell_type": "markdown",
      "metadata": {
        "id": "es6_wpFgQ4iS"
      },
      "source": [
        "## Loops"
      ]
    },
    {
      "cell_type": "markdown",
      "metadata": {
        "id": "0Ff6PuNzQ4iS"
      },
      "source": [
        "In general, when we are programming, we want to repeat an operation several times. For example, applying an operation to the elements of a list. If the list has many elements, it can be cumbersome to write the application of that operation to each element one by one, so we need some code structure that facilitates that syntax.\n",
        "\n",
        "Loops are fundamental code structures in any programming language. They consist of blocks of code that are repeated a certain number of times given a condition. There are two basic ways to create loops, for statements and while statements."
      ]
    },
    {
      "cell_type": "markdown",
      "metadata": {
        "id": "J-w_xmyaQ4iT"
      },
      "source": [
        "### For"
      ]
    },
    {
      "cell_type": "code",
      "execution_count": null,
      "metadata": {
        "id": "NB4DEbUWQ4iT",
        "outputId": "a0d4b432-f492-4885-a9b3-c15506e3df1d",
        "colab": {
          "base_uri": "https://localhost:8080/"
        }
      },
      "outputs": [
        {
          "output_type": "stream",
          "name": "stdout",
          "text": [
            "3\n",
            "55\n",
            "1\n",
            "876\n",
            "12\n"
          ]
        }
      ],
      "source": [
        "list_numbers = [3, 55, 1, 876, 12]\n",
        "\n",
        "for n in list_numbers:\n",
        "    print(n)"
      ]
    },
    {
      "cell_type": "markdown",
      "metadata": {
        "id": "jlvaZ4rbQ4iU"
      },
      "source": [
        "Pay particular attention that the code \"inside\" the for is indented. In some programming languages, indentation is used to order the code, making it more readable. In Python, however, it is required. It is achieved with four spaces or a tab."
      ]
    },
    {
      "cell_type": "code",
      "execution_count": null,
      "metadata": {
        "id": "tocvn4nkQ4iU",
        "outputId": "fe17e60d-d7db-4413-8648-ec8fc9817cb4",
        "colab": {
          "base_uri": "https://localhost:8080/"
        }
      },
      "outputs": [
        {
          "output_type": "stream",
          "name": "stdout",
          "text": [
            "3 1\n",
            "55 2\n",
            "1 3\n",
            "876 4\n",
            "12 5\n"
          ]
        }
      ],
      "source": [
        "list_numbers = [3, 55, 1, 876, 12]\n",
        "i = 0\n",
        "\n",
        "for n in list_numbers:    \n",
        "    i = i + 1\n",
        "    print(n, i)"
      ]
    },
    {
      "cell_type": "code",
      "execution_count": null,
      "metadata": {
        "id": "DOiZfLRvQ4iV",
        "outputId": "664d8bd0-5244-4e04-db72-2bedabfa4ab1",
        "colab": {
          "base_uri": "https://localhost:8080/"
        }
      },
      "outputs": [
        {
          "output_type": "stream",
          "name": "stdout",
          "text": [
            "['My name is Martin', 'My name is Juan', 'My name is Ana']\n"
          ]
        }
      ],
      "source": [
        "list_names = ['Martin', 'Juan', 'Ana']\n",
        "new_list = []\n",
        "\n",
        "for item in list_names:\n",
        "    sentence = 'My name is ' + item\n",
        "    new_list.append(sentence)\n",
        "\n",
        "print(new_list)"
      ]
    },
    {
      "cell_type": "markdown",
      "metadata": {
        "id": "EG9LUGhRQ4iV"
      },
      "source": [
        "**TODO:**\n",
        "\n",
        "If we have a list of numbers, for example the first ten natural numbers, and we try to add a fixed number to the list, for example 5, we may try something similar to the following:"
      ]
    },
    {
      "cell_type": "code",
      "execution_count": null,
      "metadata": {
        "id": "SPhzB9L3Q4iW",
        "outputId": "ed053aea-d525-4b2f-8ad2-a216cf1b7629",
        "colab": {
          "base_uri": "https://localhost:8080/",
          "height": 182
        }
      },
      "outputs": [
        {
          "output_type": "error",
          "ename": "TypeError",
          "evalue": "ignored",
          "traceback": [
            "\u001b[0;31m---------------------------------------------------------------------------\u001b[0m",
            "\u001b[0;31mTypeError\u001b[0m                                 Traceback (most recent call last)",
            "\u001b[0;32m<ipython-input-18-13deab6bee71>\u001b[0m in \u001b[0;36m<module>\u001b[0;34m()\u001b[0m\n\u001b[1;32m      1\u001b[0m \u001b[0mnumbers\u001b[0m \u001b[0;34m=\u001b[0m \u001b[0;34m[\u001b[0m\u001b[0;36m0\u001b[0m\u001b[0;34m,\u001b[0m \u001b[0;36m1\u001b[0m\u001b[0;34m,\u001b[0m \u001b[0;36m2\u001b[0m\u001b[0;34m,\u001b[0m \u001b[0;36m3\u001b[0m\u001b[0;34m,\u001b[0m \u001b[0;36m4\u001b[0m\u001b[0;34m,\u001b[0m \u001b[0;36m5\u001b[0m\u001b[0;34m,\u001b[0m \u001b[0;36m6\u001b[0m\u001b[0;34m,\u001b[0m \u001b[0;36m7\u001b[0m\u001b[0;34m,\u001b[0m \u001b[0;36m8\u001b[0m\u001b[0;34m,\u001b[0m \u001b[0;36m9\u001b[0m\u001b[0;34m]\u001b[0m\u001b[0;34m\u001b[0m\u001b[0;34m\u001b[0m\u001b[0m\n\u001b[0;32m----> 2\u001b[0;31m \u001b[0mprint\u001b[0m\u001b[0;34m(\u001b[0m\u001b[0mnumbers\u001b[0m \u001b[0;34m+\u001b[0m \u001b[0;36m3\u001b[0m\u001b[0;34m)\u001b[0m\u001b[0;34m\u001b[0m\u001b[0;34m\u001b[0m\u001b[0m\n\u001b[0m",
            "\u001b[0;31mTypeError\u001b[0m: can only concatenate list (not \"int\") to list"
          ]
        }
      ],
      "source": [
        "numbers = [0, 1, 2, 3, 4, 5, 6, 7, 8, 9]\n",
        "print(numbers + 3)"
      ]
    },
    {
      "cell_type": "markdown",
      "metadata": {
        "id": "cV0R7_PUQ4iW"
      },
      "source": [
        "We get an error! (Note that the option to Google the error on Stack Overflow this time is more informative).\n",
        "So, we suggest you solve the following exercises:\n",
        "\n",
        "* Create a routine that adds three to the first ten natural numbers and prints on the screen as it does so.\n",
        "* Create a routine that adds three to the first ten natural numbers and saves the results in a new list. At the end, print that list on screen."
      ]
    },
    {
      "cell_type": "code",
      "execution_count": null,
      "metadata": {
        "id": "BKKgEAHiQ4iX",
        "outputId": "a7dd6457-9888-4b2c-bb71-cdbbe40566fe",
        "colab": {
          "base_uri": "https://localhost:8080/"
        }
      },
      "outputs": [
        {
          "output_type": "stream",
          "name": "stdout",
          "text": [
            "3\n",
            "4\n",
            "5\n",
            "6\n",
            "7\n",
            "8\n",
            "9\n",
            "10\n",
            "11\n",
            "12\n"
          ]
        }
      ],
      "source": [
        "numbers = [0, 1, 2, 3, 4, 5, 6, 7, 8, 9]\n",
        "for number in numbers:\n",
        "    print(number + 3)"
      ]
    },
    {
      "cell_type": "code",
      "execution_count": null,
      "metadata": {
        "id": "-xl3vlG3Q4iX",
        "outputId": "0e46f2c0-9a92-48e6-da98-90708252252b",
        "colab": {
          "base_uri": "https://localhost:8080/"
        }
      },
      "outputs": [
        {
          "output_type": "stream",
          "name": "stdout",
          "text": [
            "[3, 4, 5, 6, 7, 8, 9, 10, 11, 12]\n"
          ]
        }
      ],
      "source": [
        "numbers = [0, 1, 2, 3, 4, 5, 6, 7, 8, 9]\n",
        "results = []\n",
        "for number in numbers:\n",
        "    results.append(number + 3)\n",
        "print(results)"
      ]
    },
    {
      "cell_type": "markdown",
      "metadata": {
        "id": "HQDYvjX1Q4iY"
      },
      "source": [
        "**TODO:** Repeat the same but now for the first 100 natural numbers. Don't manually write the full list, use `range`."
      ]
    },
    {
      "cell_type": "code",
      "execution_count": null,
      "metadata": {
        "id": "2t7Bt7MqQ4iY"
      },
      "outputs": [],
      "source": [
        "# To complete"
      ]
    },
    {
      "cell_type": "markdown",
      "metadata": {
        "id": "w_2W8LhFQ4iY"
      },
      "source": [
        "**TODO:** Generate a list called my_list that contains the square of each element in the numbers list"
      ]
    },
    {
      "cell_type": "code",
      "execution_count": null,
      "metadata": {
        "id": "Lals_4qxQ4iZ"
      },
      "outputs": [],
      "source": [
        "numbers = [3, 1, 5, 7, 12, 10, 17, 4, 22]"
      ]
    },
    {
      "cell_type": "code",
      "execution_count": null,
      "metadata": {
        "id": "KQrN6oIXQ4iZ"
      },
      "outputs": [],
      "source": [
        "# To complete"
      ]
    },
    {
      "cell_type": "markdown",
      "metadata": {
        "id": "5g7SwcOCQ4iZ"
      },
      "source": [
        "**TODO:** Add all the elements of the following list"
      ]
    },
    {
      "cell_type": "code",
      "execution_count": null,
      "metadata": {
        "id": "tsYkCRKdQ4ia"
      },
      "outputs": [],
      "source": [
        "numbers = [4, 8, 3, 1, -3, 3, -5, 1, 2, -8]"
      ]
    },
    {
      "cell_type": "code",
      "execution_count": null,
      "metadata": {
        "id": "bfsx2zf3Q4ia"
      },
      "outputs": [],
      "source": [
        "# To complete"
      ]
    },
    {
      "cell_type": "markdown",
      "metadata": {
        "id": "neMJGiuzQ4ia"
      },
      "source": [
        "**TODO:** Print the table from 1 to 9"
      ]
    },
    {
      "cell_type": "code",
      "execution_count": null,
      "metadata": {
        "id": "nGBdW87CQ4ib",
        "outputId": "6afc103d-8874-477b-b2ab-e083bbf62271",
        "colab": {
          "base_uri": "https://localhost:8080/"
        }
      },
      "outputs": [
        {
          "output_type": "stream",
          "name": "stdout",
          "text": [
            "\n",
            "\n",
            "Esta es la tabla del 1\n",
            "1 X 0 = 0\n",
            "1 X 1 = 1\n",
            "1 X 2 = 2\n",
            "1 X 3 = 3\n",
            "1 X 4 = 4\n",
            "1 X 5 = 5\n",
            "1 X 6 = 6\n",
            "1 X 7 = 7\n",
            "1 X 8 = 8\n",
            "1 X 9 = 9\n",
            "\n",
            "\n",
            "Esta es la tabla del 2\n",
            "2 X 0 = 0\n",
            "2 X 1 = 2\n",
            "2 X 2 = 4\n",
            "2 X 3 = 6\n",
            "2 X 4 = 8\n",
            "2 X 5 = 10\n",
            "2 X 6 = 12\n",
            "2 X 7 = 14\n",
            "2 X 8 = 16\n",
            "2 X 9 = 18\n",
            "\n",
            "\n",
            "Esta es la tabla del 3\n",
            "3 X 0 = 0\n",
            "3 X 1 = 3\n",
            "3 X 2 = 6\n",
            "3 X 3 = 9\n",
            "3 X 4 = 12\n",
            "3 X 5 = 15\n",
            "3 X 6 = 18\n",
            "3 X 7 = 21\n",
            "3 X 8 = 24\n",
            "3 X 9 = 27\n",
            "\n",
            "\n",
            "Esta es la tabla del 4\n",
            "4 X 0 = 0\n",
            "4 X 1 = 4\n",
            "4 X 2 = 8\n",
            "4 X 3 = 12\n",
            "4 X 4 = 16\n",
            "4 X 5 = 20\n",
            "4 X 6 = 24\n",
            "4 X 7 = 28\n",
            "4 X 8 = 32\n",
            "4 X 9 = 36\n",
            "\n",
            "\n",
            "Esta es la tabla del 5\n",
            "5 X 0 = 0\n",
            "5 X 1 = 5\n",
            "5 X 2 = 10\n",
            "5 X 3 = 15\n",
            "5 X 4 = 20\n",
            "5 X 5 = 25\n",
            "5 X 6 = 30\n",
            "5 X 7 = 35\n",
            "5 X 8 = 40\n",
            "5 X 9 = 45\n",
            "\n",
            "\n",
            "Esta es la tabla del 6\n",
            "6 X 0 = 0\n",
            "6 X 1 = 6\n",
            "6 X 2 = 12\n",
            "6 X 3 = 18\n",
            "6 X 4 = 24\n",
            "6 X 5 = 30\n",
            "6 X 6 = 36\n",
            "6 X 7 = 42\n",
            "6 X 8 = 48\n",
            "6 X 9 = 54\n",
            "\n",
            "\n",
            "Esta es la tabla del 7\n",
            "7 X 0 = 0\n",
            "7 X 1 = 7\n",
            "7 X 2 = 14\n",
            "7 X 3 = 21\n",
            "7 X 4 = 28\n",
            "7 X 5 = 35\n",
            "7 X 6 = 42\n",
            "7 X 7 = 49\n",
            "7 X 8 = 56\n",
            "7 X 9 = 63\n",
            "\n",
            "\n",
            "Esta es la tabla del 8\n",
            "8 X 0 = 0\n",
            "8 X 1 = 8\n",
            "8 X 2 = 16\n",
            "8 X 3 = 24\n",
            "8 X 4 = 32\n",
            "8 X 5 = 40\n",
            "8 X 6 = 48\n",
            "8 X 7 = 56\n",
            "8 X 8 = 64\n",
            "8 X 9 = 72\n",
            "\n",
            "\n",
            "Esta es la tabla del 9\n",
            "9 X 0 = 0\n",
            "9 X 1 = 9\n",
            "9 X 2 = 18\n",
            "9 X 3 = 27\n",
            "9 X 4 = 36\n",
            "9 X 5 = 45\n",
            "9 X 6 = 54\n",
            "9 X 7 = 63\n",
            "9 X 8 = 72\n",
            "9 X 9 = 81\n",
            "\n",
            "\n",
            "Esta es la tabla del 10\n",
            "10 X 0 = 0\n",
            "10 X 1 = 10\n",
            "10 X 2 = 20\n",
            "10 X 3 = 30\n",
            "10 X 4 = 40\n",
            "10 X 5 = 50\n",
            "10 X 6 = 60\n",
            "10 X 7 = 70\n",
            "10 X 8 = 80\n",
            "10 X 9 = 90\n"
          ]
        }
      ],
      "source": [
        "for i in range(1,11):\n",
        "  print(\"\\n\")\n",
        "  print(f'Esta es la tabla del {i}')\n",
        "  for b in range(0,10):\n",
        "    m = (i*b)\n",
        "    print(f'{i} X {b} = {m}')\n",
        "    \n",
        "\n",
        "\n",
        "\n"
      ]
    },
    {
      "cell_type": "markdown",
      "metadata": {
        "id": "0dOgCQ5UQ4ib"
      },
      "source": [
        "### While\n",
        "\n",
        "Python While Loop is used to execute a block of statements repeatedly until a given condition is satisfied."
      ]
    },
    {
      "cell_type": "code",
      "execution_count": null,
      "metadata": {
        "id": "EPQg_6v9Q4ic",
        "outputId": "af8757f0-4fd3-4084-86cc-7b7d10f7e849",
        "colab": {
          "base_uri": "https://localhost:8080/"
        }
      },
      "outputs": [
        {
          "output_type": "stream",
          "name": "stdout",
          "text": [
            "1\n",
            "2\n",
            "3\n",
            "4\n",
            "5\n",
            "6\n",
            "7\n"
          ]
        }
      ],
      "source": [
        "count = 0\n",
        "while count < 7:\n",
        "    count = count + 1\n",
        "    print(count)"
      ]
    },
    {
      "cell_type": "markdown",
      "metadata": {
        "id": "c7zr74CEQ4ic"
      },
      "source": [
        "**TODO:** Using python's input() function, create a loop that prints the characters the user enters, until the char __z__ is detected."
      ]
    },
    {
      "cell_type": "code",
      "execution_count": null,
      "metadata": {
        "id": "EMqK6l-pQ4id",
        "outputId": "762a4db8-b1b7-434b-83f7-4f5cfdeb06ca",
        "colab": {
          "base_uri": "https://localhost:8080/",
          "height": 623
        }
      },
      "outputs": [
        {
          "output_type": "stream",
          "name": "stdout",
          "text": [
            "Ingresa tu nombre: fede\n",
            "f\n",
            "e\n",
            "d\n",
            "e\n"
          ]
        },
        {
          "output_type": "error",
          "ename": "KeyboardInterrupt",
          "evalue": "ignored",
          "traceback": [
            "\u001b[0;31m---------------------------------------------------------------------------\u001b[0m",
            "\u001b[0;31mKeyboardInterrupt\u001b[0m                         Traceback (most recent call last)",
            "\u001b[0;32m/usr/local/lib/python3.7/dist-packages/ipykernel/kernelbase.py\u001b[0m in \u001b[0;36m_input_request\u001b[0;34m(self, prompt, ident, parent, password)\u001b[0m\n\u001b[1;32m    728\u001b[0m             \u001b[0;32mtry\u001b[0m\u001b[0;34m:\u001b[0m\u001b[0;34m\u001b[0m\u001b[0;34m\u001b[0m\u001b[0m\n\u001b[0;32m--> 729\u001b[0;31m                 \u001b[0mident\u001b[0m\u001b[0;34m,\u001b[0m \u001b[0mreply\u001b[0m \u001b[0;34m=\u001b[0m \u001b[0mself\u001b[0m\u001b[0;34m.\u001b[0m\u001b[0msession\u001b[0m\u001b[0;34m.\u001b[0m\u001b[0mrecv\u001b[0m\u001b[0;34m(\u001b[0m\u001b[0mself\u001b[0m\u001b[0;34m.\u001b[0m\u001b[0mstdin_socket\u001b[0m\u001b[0;34m,\u001b[0m \u001b[0;36m0\u001b[0m\u001b[0;34m)\u001b[0m\u001b[0;34m\u001b[0m\u001b[0;34m\u001b[0m\u001b[0m\n\u001b[0m\u001b[1;32m    730\u001b[0m             \u001b[0;32mexcept\u001b[0m \u001b[0mException\u001b[0m\u001b[0;34m:\u001b[0m\u001b[0;34m\u001b[0m\u001b[0;34m\u001b[0m\u001b[0m\n",
            "\u001b[0;32m/usr/local/lib/python3.7/dist-packages/jupyter_client/session.py\u001b[0m in \u001b[0;36mrecv\u001b[0;34m(self, socket, mode, content, copy)\u001b[0m\n\u001b[1;32m    802\u001b[0m         \u001b[0;32mtry\u001b[0m\u001b[0;34m:\u001b[0m\u001b[0;34m\u001b[0m\u001b[0;34m\u001b[0m\u001b[0m\n\u001b[0;32m--> 803\u001b[0;31m             \u001b[0mmsg_list\u001b[0m \u001b[0;34m=\u001b[0m \u001b[0msocket\u001b[0m\u001b[0;34m.\u001b[0m\u001b[0mrecv_multipart\u001b[0m\u001b[0;34m(\u001b[0m\u001b[0mmode\u001b[0m\u001b[0;34m,\u001b[0m \u001b[0mcopy\u001b[0m\u001b[0;34m=\u001b[0m\u001b[0mcopy\u001b[0m\u001b[0;34m)\u001b[0m\u001b[0;34m\u001b[0m\u001b[0;34m\u001b[0m\u001b[0m\n\u001b[0m\u001b[1;32m    804\u001b[0m         \u001b[0;32mexcept\u001b[0m \u001b[0mzmq\u001b[0m\u001b[0;34m.\u001b[0m\u001b[0mZMQError\u001b[0m \u001b[0;32mas\u001b[0m \u001b[0me\u001b[0m\u001b[0;34m:\u001b[0m\u001b[0;34m\u001b[0m\u001b[0;34m\u001b[0m\u001b[0m\n",
            "\u001b[0;32m/usr/local/lib/python3.7/dist-packages/zmq/sugar/socket.py\u001b[0m in \u001b[0;36mrecv_multipart\u001b[0;34m(self, flags, copy, track)\u001b[0m\n\u001b[1;32m    624\u001b[0m         \"\"\"\n\u001b[0;32m--> 625\u001b[0;31m         \u001b[0mparts\u001b[0m \u001b[0;34m=\u001b[0m \u001b[0;34m[\u001b[0m\u001b[0mself\u001b[0m\u001b[0;34m.\u001b[0m\u001b[0mrecv\u001b[0m\u001b[0;34m(\u001b[0m\u001b[0mflags\u001b[0m\u001b[0;34m,\u001b[0m \u001b[0mcopy\u001b[0m\u001b[0;34m=\u001b[0m\u001b[0mcopy\u001b[0m\u001b[0;34m,\u001b[0m \u001b[0mtrack\u001b[0m\u001b[0;34m=\u001b[0m\u001b[0mtrack\u001b[0m\u001b[0;34m)\u001b[0m\u001b[0;34m]\u001b[0m\u001b[0;34m\u001b[0m\u001b[0;34m\u001b[0m\u001b[0m\n\u001b[0m\u001b[1;32m    626\u001b[0m         \u001b[0;31m# have first part already, only loop while more to receive\u001b[0m\u001b[0;34m\u001b[0m\u001b[0;34m\u001b[0m\u001b[0;34m\u001b[0m\u001b[0m\n",
            "\u001b[0;32mzmq/backend/cython/socket.pyx\u001b[0m in \u001b[0;36mzmq.backend.cython.socket.Socket.recv\u001b[0;34m()\u001b[0m\n",
            "\u001b[0;32mzmq/backend/cython/socket.pyx\u001b[0m in \u001b[0;36mzmq.backend.cython.socket.Socket.recv\u001b[0;34m()\u001b[0m\n",
            "\u001b[0;32mzmq/backend/cython/socket.pyx\u001b[0m in \u001b[0;36mzmq.backend.cython.socket._recv_copy\u001b[0;34m()\u001b[0m\n",
            "\u001b[0;32m/usr/local/lib/python3.7/dist-packages/zmq/backend/cython/checkrc.pxd\u001b[0m in \u001b[0;36mzmq.backend.cython.checkrc._check_rc\u001b[0;34m()\u001b[0m\n",
            "\u001b[0;31mKeyboardInterrupt\u001b[0m: ",
            "\nDuring handling of the above exception, another exception occurred:\n",
            "\u001b[0;31mKeyboardInterrupt\u001b[0m                         Traceback (most recent call last)",
            "\u001b[0;32m<ipython-input-46-ede34f98422a>\u001b[0m in \u001b[0;36m<module>\u001b[0;34m()\u001b[0m\n\u001b[1;32m      1\u001b[0m \u001b[0;32mwhile\u001b[0m \u001b[0;32mTrue\u001b[0m\u001b[0;34m:\u001b[0m\u001b[0;34m\u001b[0m\u001b[0;34m\u001b[0m\u001b[0m\n\u001b[0;32m----> 2\u001b[0;31m   \u001b[0mb\u001b[0m \u001b[0;34m=\u001b[0m \u001b[0minput\u001b[0m\u001b[0;34m(\u001b[0m\u001b[0;34m\"Ingresa tu nombre: \"\u001b[0m\u001b[0;34m)\u001b[0m\u001b[0;34m\u001b[0m\u001b[0;34m\u001b[0m\u001b[0m\n\u001b[0m\u001b[1;32m      3\u001b[0m   \u001b[0;32mfor\u001b[0m \u001b[0ma\u001b[0m \u001b[0;32min\u001b[0m \u001b[0mb\u001b[0m\u001b[0;34m:\u001b[0m\u001b[0;34m\u001b[0m\u001b[0;34m\u001b[0m\u001b[0m\n\u001b[1;32m      4\u001b[0m     \u001b[0;32mif\u001b[0m \u001b[0ma\u001b[0m \u001b[0;34m!=\u001b[0m \u001b[0;34m\"z\"\u001b[0m\u001b[0;34m:\u001b[0m\u001b[0;34m\u001b[0m\u001b[0;34m\u001b[0m\u001b[0m\n\u001b[1;32m      5\u001b[0m       \u001b[0mprint\u001b[0m\u001b[0;34m(\u001b[0m\u001b[0ma\u001b[0m\u001b[0;34m)\u001b[0m\u001b[0;34m\u001b[0m\u001b[0;34m\u001b[0m\u001b[0m\n",
            "\u001b[0;32m/usr/local/lib/python3.7/dist-packages/ipykernel/kernelbase.py\u001b[0m in \u001b[0;36mraw_input\u001b[0;34m(self, prompt)\u001b[0m\n\u001b[1;32m    702\u001b[0m             \u001b[0mself\u001b[0m\u001b[0;34m.\u001b[0m\u001b[0m_parent_ident\u001b[0m\u001b[0;34m,\u001b[0m\u001b[0;34m\u001b[0m\u001b[0;34m\u001b[0m\u001b[0m\n\u001b[1;32m    703\u001b[0m             \u001b[0mself\u001b[0m\u001b[0;34m.\u001b[0m\u001b[0m_parent_header\u001b[0m\u001b[0;34m,\u001b[0m\u001b[0;34m\u001b[0m\u001b[0;34m\u001b[0m\u001b[0m\n\u001b[0;32m--> 704\u001b[0;31m             \u001b[0mpassword\u001b[0m\u001b[0;34m=\u001b[0m\u001b[0;32mFalse\u001b[0m\u001b[0;34m,\u001b[0m\u001b[0;34m\u001b[0m\u001b[0;34m\u001b[0m\u001b[0m\n\u001b[0m\u001b[1;32m    705\u001b[0m         )\n\u001b[1;32m    706\u001b[0m \u001b[0;34m\u001b[0m\u001b[0m\n",
            "\u001b[0;32m/usr/local/lib/python3.7/dist-packages/ipykernel/kernelbase.py\u001b[0m in \u001b[0;36m_input_request\u001b[0;34m(self, prompt, ident, parent, password)\u001b[0m\n\u001b[1;32m    732\u001b[0m             \u001b[0;32mexcept\u001b[0m \u001b[0mKeyboardInterrupt\u001b[0m\u001b[0;34m:\u001b[0m\u001b[0;34m\u001b[0m\u001b[0;34m\u001b[0m\u001b[0m\n\u001b[1;32m    733\u001b[0m                 \u001b[0;31m# re-raise KeyboardInterrupt, to truncate traceback\u001b[0m\u001b[0;34m\u001b[0m\u001b[0;34m\u001b[0m\u001b[0;34m\u001b[0m\u001b[0m\n\u001b[0;32m--> 734\u001b[0;31m                 \u001b[0;32mraise\u001b[0m \u001b[0mKeyboardInterrupt\u001b[0m\u001b[0;34m\u001b[0m\u001b[0;34m\u001b[0m\u001b[0m\n\u001b[0m\u001b[1;32m    735\u001b[0m             \u001b[0;32melse\u001b[0m\u001b[0;34m:\u001b[0m\u001b[0;34m\u001b[0m\u001b[0;34m\u001b[0m\u001b[0m\n\u001b[1;32m    736\u001b[0m                 \u001b[0;32mbreak\u001b[0m\u001b[0;34m\u001b[0m\u001b[0;34m\u001b[0m\u001b[0m\n",
            "\u001b[0;31mKeyboardInterrupt\u001b[0m: "
          ]
        }
      ],
      "source": [
        "while True:\n",
        "  b = input(\"Ingresa tu nombre: \")\n",
        "  for a in b:\n",
        "    if a != \"z\":\n",
        "      print(a)\n",
        "      else:\n",
        "        pass\n",
        "    elif a == 'z':\n",
        "      print('I have a Z')\n",
        "      break\n",
        "    else:\n",
        "      pass\n",
        "\n",
        "\n"
      ]
    },
    {
      "cell_type": "markdown",
      "metadata": {
        "id": "13SZWJ3nQ4id"
      },
      "source": [
        "**TODO:** Using an input build a program that allows a user to enter only positive numbers and add them up. When the user sends the number 0, the program ends and shows the total sum of the numbers entered."
      ]
    },
    {
      "cell_type": "code",
      "execution_count": null,
      "metadata": {
        "id": "xmnXOBgMQ4ie",
        "outputId": "7c2ecb9e-1ee2-4ca8-837e-d4f5d5a1dc5c",
        "colab": {
          "base_uri": "https://localhost:8080/"
        }
      },
      "outputs": [
        {
          "output_type": "stream",
          "name": "stdout",
          "text": [
            "Ingrese un nro: 0\n",
            "Final del juego, el acumulado es 0\n"
          ]
        }
      ],
      "source": [
        "a = 0\n",
        "while True:\n",
        "  \n",
        "  # b no puede ser negativo\n",
        "  # b == CERO se corta el programa, debe sumar todos los inputs\n",
        "  # si b es positivo: almacenar suma y volver a preguntar otro nro.\n",
        "  \n",
        "  b = int(input('Ingrese un nro: '))\n",
        "  if b < 0:\n",
        "    print('usted ingresó un nro negativo, por favor, ponga un nro positivo')\n",
        "  elif b > 0:\n",
        "    a += b\n",
        "  elif b == 0:\n",
        "    print(f'Final del juego, el acumulado es {a}')\n",
        "    break\n",
        "  else:\n",
        "    print('sabes lo que son los numeros?')\n"
      ]
    },
    {
      "cell_type": "markdown",
      "metadata": {
        "id": "RBa52AgcQ4ie"
      },
      "source": [
        "#### History of chess\n",
        "\n",
        "When the creator of the game of chess showed his invention to the king of a far Eastern country, the latter was so pleased that he gave the inventor the right to decide for himself what his reward would be for such a creation. The man, who was very wise, asked the king something that at first appeared to be quite humble: that for the first square on the chessboard, he should receive one grain of wheat, two for the second, four for the third, and so on, doubling the amount each time.\n",
        "\n",
        "**TODO:** The chessboard has 64 squares, using a while show how many grains of wheat the creator would charge for each square that the board has"
      ]
    },
    {
      "cell_type": "code",
      "execution_count": null,
      "metadata": {
        "id": "0bFYN7rQQ4if",
        "outputId": "a742bb4a-a248-4e59-cab0-7120fedc46ce",
        "colab": {
          "base_uri": "https://localhost:8080/"
        }
      },
      "outputs": [
        {
          "output_type": "stream",
          "name": "stdout",
          "text": [
            "1\n",
            "2\n",
            "4\n",
            "8\n",
            "16\n",
            "32\n",
            "64\n",
            "128\n",
            "256\n",
            "512\n",
            "1024\n",
            "2048\n",
            "4096\n",
            "8192\n",
            "16384\n",
            "32768\n",
            "65536\n",
            "131072\n",
            "262144\n",
            "524288\n",
            "1048576\n",
            "2097152\n",
            "4194304\n",
            "8388608\n",
            "16777216\n",
            "33554432\n",
            "67108864\n",
            "134217728\n",
            "268435456\n",
            "536870912\n",
            "1073741824\n",
            "2147483648\n",
            "4294967296\n",
            "8589934592\n",
            "17179869184\n",
            "34359738368\n",
            "68719476736\n",
            "137438953472\n",
            "274877906944\n",
            "549755813888\n",
            "1099511627776\n",
            "2199023255552\n",
            "4398046511104\n",
            "8796093022208\n",
            "17592186044416\n",
            "35184372088832\n",
            "70368744177664\n",
            "140737488355328\n",
            "281474976710656\n",
            "562949953421312\n",
            "1125899906842624\n",
            "2251799813685248\n",
            "4503599627370496\n",
            "9007199254740992\n",
            "18014398509481984\n",
            "36028797018963968\n",
            "72057594037927936\n",
            "144115188075855872\n",
            "288230376151711744\n",
            "576460752303423488\n",
            "1152921504606846976\n",
            "2305843009213693952\n",
            "4611686018427387904\n",
            "9223372036854775808\n"
          ]
        }
      ],
      "source": [
        "'''a = 1\n",
        "while True:\n",
        "  # recorrer del 1 al 64, \n",
        "  # duplicar el anterior resultado\n",
        "  # mostrar el resultado por cada posición del tablero (1 al 64)\n",
        "\n",
        "  print(f'Para la posición 1, el jugador carga 1 grano de trigo')\n",
        "  b = 0\n",
        "  for i in range(2,65):\n",
        "    a = a*2\n",
        "    print(f'Para la posicion {i}, el jugador carga {a} granos de trigo')\n",
        "\n",
        "  break'''\n",
        "\n",
        "'''square = 0\n",
        "while square < 65:\n",
        "  \n",
        "  for n in range(1,65):\n",
        "        square  += 1\n",
        "        square_num = (2**(square-1))               \n",
        "        print(f\"Square_{n}: {square_num:,}\")\n",
        "        \n",
        "  break'''\n",
        "\n",
        "# tade\n",
        "square = 0\n",
        "total = 0\n",
        "\n",
        "while square < 65:\n",
        "    print(2**square)\n",
        "    square = square + 1\n",
        "\n"
      ]
    },
    {
      "cell_type": "markdown",
      "metadata": {
        "id": "biNyKH76Q4ig"
      },
      "source": [
        "## if/elif/else\n",
        "\n",
        "**TODO:** Using if, elif and else validate check if the variable `number` is positive, negative or equal to 0."
      ]
    },
    {
      "cell_type": "code",
      "execution_count": null,
      "metadata": {
        "id": "nS57m3NZQ4ih"
      },
      "outputs": [],
      "source": [
        "# You can change this variable to check different numbers\n",
        "number = -1\n",
        "\n",
        "# To complete"
      ]
    },
    {
      "cell_type": "markdown",
      "metadata": {
        "id": "kKXBY0nxQ4ih"
      },
      "source": [
        "**TODO:** Through an if compare the two variables (`age_1`, `age_2`) and show the highest value\n"
      ]
    },
    {
      "cell_type": "code",
      "execution_count": null,
      "metadata": {
        "id": "qQiStxamQ4ih"
      },
      "outputs": [],
      "source": [
        "age_1 = 10\n",
        "age_2 = 20\n",
        "\n",
        "# To complete"
      ]
    },
    {
      "cell_type": "markdown",
      "metadata": {
        "id": "QflDz7iYQ4ir"
      },
      "source": [
        "**TODO:** Validate through an if if the value stored in the `even_validation` variable is even or odd"
      ]
    },
    {
      "cell_type": "code",
      "execution_count": null,
      "metadata": {
        "id": "jhv5IpeiQ4ir"
      },
      "outputs": [],
      "source": [
        "even_validation = 19\n",
        "\n",
        "if even_validation % 2 == 0:\n",
        "  print('the number is even')\n",
        "else:\n",
        "  print('it´s odd')"
      ]
    },
    {
      "cell_type": "code",
      "source": [
        "a = 10\n",
        "print(type(a))"
      ],
      "metadata": {
        "id": "KDv6uIROempQ",
        "outputId": "406f3b74-76d7-423f-930b-992aa9310f53",
        "colab": {
          "base_uri": "https://localhost:8080/"
        }
      },
      "execution_count": null,
      "outputs": [
        {
          "output_type": "stream",
          "name": "stdout",
          "text": [
            "<class 'int'>\n"
          ]
        }
      ]
    },
    {
      "cell_type": "code",
      "source": [
        "b = a / 2\n",
        "print(type(b))"
      ],
      "metadata": {
        "id": "kx5wSM6Memt5",
        "outputId": "fc29b5b0-50b5-4d00-f96c-e92759cd9f14",
        "colab": {
          "base_uri": "https://localhost:8080/"
        }
      },
      "execution_count": null,
      "outputs": [
        {
          "output_type": "stream",
          "name": "stdout",
          "text": [
            "<class 'float'>\n"
          ]
        }
      ]
    },
    {
      "cell_type": "markdown",
      "metadata": {
        "id": "27f3YIHVQ4is"
      },
      "source": [
        "**TODO:** Compare the 3 variables (a, b, c) so that it returns which is the largest value. In case all 3 values are equal, return the message 'All values are equal'.\n",
        "\n",
        "Make different tests to show that A is greater, that B is greater, that C is greater and that the 3 are equal."
      ]
    },
    {
      "cell_type": "code",
      "execution_count": null,
      "metadata": {
        "id": "g0kE-JPwQ4is"
      },
      "outputs": [],
      "source": [
        "# To complete"
      ]
    },
    {
      "cell_type": "markdown",
      "metadata": {
        "id": "7_hubQ3XQ4it"
      },
      "source": [
        "**TODO:** Validate what type of data the variable is, returning the message 'It's a number' or 'It's a string' depending on the case. Swap values from string to numeric in the data_type variable to test if it works correctly."
      ]
    },
    {
      "cell_type": "code",
      "execution_count": null,
      "metadata": {
        "id": "ZeST2_qcQ4it"
      },
      "outputs": [],
      "source": [
        "# To complete\n",
        "input_var = 100.0\n",
        "\n",
        "# code\n",
        "\n"
      ]
    },
    {
      "cell_type": "markdown",
      "metadata": {
        "id": "xXvA72R-Q4it"
      },
      "source": [
        "**TODO:** Let's go with something a little more complicated.\n",
        "\n",
        "* Check if the variable number is a multiple of 2\n",
        "* If it is a multiple of 2, check if it is a multiple of 4.\n",
        "* If it is a multiple of 2, validate if it is a multiple of 6\n",
        "* And if it is a multiple of 4, validate if it is a multiple of 6"
      ]
    },
    {
      "cell_type": "code",
      "execution_count": null,
      "metadata": {
        "id": "Db2diBGzQ4iu"
      },
      "outputs": [],
      "source": [
        "# To complete"
      ]
    },
    {
      "cell_type": "markdown",
      "metadata": {
        "id": "kQTFbOd8Q4iv"
      },
      "source": [
        "**TODO:** Investigate how to do a REDUCED IF (or inline if).\n",
        "\n",
        "Once that is done, create a greeting variable that is equal to a reduced if that validates the language variable and shows by message 'HELLO' if the language is Spanish or 'HI' if the language is English"
      ]
    },
    {
      "cell_type": "code",
      "execution_count": null,
      "metadata": {
        "id": "UYbx3FCyQ4iw"
      },
      "outputs": [],
      "source": [
        "# To complete"
      ]
    },
    {
      "cell_type": "markdown",
      "metadata": {
        "id": "zz8eWQxBQ4iw"
      },
      "source": [
        "**TODO:** Investigate how to know if a value is inside a list\n",
        "\n",
        "Using the vowel list check with an IF if the value of the letter variable is inside the list. If this show by message 'It's a vowel'. If it is not show by message 'It is not a vowel'"
      ]
    },
    {
      "cell_type": "code",
      "execution_count": null,
      "metadata": {
        "id": "PYN2W4rMQ4ix"
      },
      "outputs": [],
      "source": [
        "vowel = ['a','e','i','o','u','á','é','í','ó','ú']\n",
        "letter = 'o'"
      ]
    },
    {
      "cell_type": "code",
      "execution_count": null,
      "metadata": {
        "id": "27Be1AxXQ4iy"
      },
      "outputs": [],
      "source": [
        "# To complete"
      ]
    },
    {
      "cell_type": "markdown",
      "metadata": {
        "id": "vgaw7sJYQ4iy"
      },
      "source": [
        "## Functions\n",
        "\n",
        "**TODO:** Create 4 functions and each one receives parameter 2 values\n",
        "* my_sum\n",
        "* my_subtraction\n",
        "* my_division\n",
        "* my_multiplication\n",
        "\n",
        "To each function add a description so that it can be seen when using help(). Explain in the description how to use the function and which values it accepts and which it does not. Validate in the function that the values received are integers, otherwise return a message saying \"Verify the data entered, both have to be integers\".\n",
        "\n",
        "Addition, subtraction and multiplication will be similar, but division has something different, validate that the dividend is not 0 or otherwise display the message \"The divisor cannot be zero\"."
      ]
    },
    {
      "cell_type": "code",
      "execution_count": null,
      "metadata": {
        "id": "0_KVejG4Q4iz"
      },
      "outputs": [],
      "source": [
        "# To complete"
      ]
    },
    {
      "cell_type": "code",
      "execution_count": null,
      "metadata": {
        "id": "iAHx4E1fQ4i0"
      },
      "outputs": [],
      "source": [
        "my_sum(13, 45)\n",
        "my_subtraction(1000, 545)\n",
        "my_division(200, 10)\n",
        "my_multiplication(10, 4343)"
      ]
    },
    {
      "cell_type": "markdown",
      "metadata": {
        "id": "4Mlc5tOcQ4i0"
      },
      "source": [
        "---\n",
        "\n",
        "# 2. NumPy"
      ]
    },
    {
      "cell_type": "markdown",
      "metadata": {
        "id": "z7SI3UG3Q4i1"
      },
      "source": [
        "It is very important that you google and consult the documentation. If you didn't install it, now is a good time. When we want to use a library, we must first import it.\n",
        "\n",
        "Now our work environment knows that if we put something like __np.__ it means that this functionality must be found in NumPy. Important: If the library was NOT installed correctly, you will get an error message.\n",
        "\n",
        "The main data type that NumPy works on are arrays. Arrays are similar to lists and can actually be created from them."
      ]
    },
    {
      "cell_type": "code",
      "execution_count": null,
      "metadata": {
        "id": "MAfdxIZ8Q4i1"
      },
      "outputs": [],
      "source": [
        "import numpy as np"
      ]
    },
    {
      "cell_type": "code",
      "execution_count": null,
      "metadata": {
        "id": "HXxW1c51Q4i2",
        "outputId": "01287201-0374-4870-ed40-4b372e4401da"
      },
      "outputs": [
        {
          "name": "stdout",
          "output_type": "stream",
          "text": [
            "[0, 1, 2, 3, 4, 5]\n",
            "[0 1 2 3 4 5]\n"
          ]
        }
      ],
      "source": [
        "my_list = [0,1,2,3,4,5]\n",
        "array = np.array(my_list)\n",
        "\n",
        "print(my_list)\n",
        "print(array)"
      ]
    },
    {
      "cell_type": "markdown",
      "metadata": {
        "id": "kKrgLFmmQ4i3"
      },
      "source": [
        "But they are more than a list. Some things that couldn't be done with lists can now be done with fixes. Remember that adding a number to the entire list was not allowed."
      ]
    },
    {
      "cell_type": "code",
      "execution_count": null,
      "metadata": {
        "id": "P1xVH2MqQ4i3",
        "outputId": "d3c25de3-0869-4106-b661-a57417bf6813"
      },
      "outputs": [
        {
          "ename": "TypeError",
          "evalue": "can only concatenate list (not \"int\") to list",
          "output_type": "error",
          "traceback": [
            "\u001b[1;31m---------------------------------------------------------------------------\u001b[0m",
            "\u001b[1;31mTypeError\u001b[0m                                 Traceback (most recent call last)",
            "\u001b[1;32m<ipython-input-72-c39b2b5ca5a3>\u001b[0m in \u001b[0;36m<module>\u001b[1;34m\u001b[0m\n\u001b[1;32m----> 1\u001b[1;33m \u001b[0mmy_list\u001b[0m \u001b[1;33m+\u001b[0m \u001b[1;36m1\u001b[0m\u001b[1;33m\u001b[0m\u001b[1;33m\u001b[0m\u001b[0m\n\u001b[0m",
            "\u001b[1;31mTypeError\u001b[0m: can only concatenate list (not \"int\") to list"
          ]
        }
      ],
      "source": [
        "my_list + 1"
      ]
    },
    {
      "cell_type": "markdown",
      "metadata": {
        "id": "DL-m12M9Q4i4"
      },
      "source": [
        "But now with the arrays yes!"
      ]
    },
    {
      "cell_type": "code",
      "execution_count": null,
      "metadata": {
        "id": "0N7TvUbVQ4i4",
        "outputId": "08e4da49-8e34-4c08-dccc-212ed418c3d8"
      },
      "outputs": [
        {
          "data": {
            "text/plain": [
              "array([1, 2, 3, 4, 5, 6])"
            ]
          },
          "execution_count": 73,
          "metadata": {},
          "output_type": "execute_result"
        }
      ],
      "source": [
        "array + 1"
      ]
    },
    {
      "cell_type": "code",
      "execution_count": null,
      "metadata": {
        "id": "Gr0HvDABQ4i4",
        "outputId": "06317a5b-ff23-480d-91e5-903f8c0ed952"
      },
      "outputs": [
        {
          "name": "stdout",
          "output_type": "stream",
          "text": [
            "[-5 -4 -3 -2 -1  0]\n",
            "[-2 -1  0  1  2  3]\n",
            "[ 0  4  8 12 16 20]\n",
            "[ 0  1  4  9 16 25]\n"
          ]
        }
      ],
      "source": [
        "print(array - 5)\n",
        "print(array - 2)\n",
        "print(array * 4)\n",
        "print(array ** 2)"
      ]
    },
    {
      "cell_type": "markdown",
      "metadata": {
        "id": "W2nMW2wDQ4i5"
      },
      "source": [
        "**TODO:** Except for multiplication, none was allowed in lists. What does multiplication do for a list?"
      ]
    },
    {
      "cell_type": "markdown",
      "metadata": {
        "id": "UPOFZHDmQ4i6"
      },
      "source": [
        "## Array Creation\n",
        "\n",
        "While we can create arrays from lists, NumPy comes with many features to do so. Let's see some.\n",
        "\n",
        "A widely used one is __np.arange()__. Check your documentation. Alternatively, in a code cell, type __np.arange__ and press __shift + tab__. That way, help will appear.\n",
        "\n",
        "Play around with the example below."
      ]
    },
    {
      "cell_type": "code",
      "execution_count": null,
      "metadata": {
        "id": "ZM0A1oYDQ4i6",
        "outputId": "f98c26e2-794c-401c-c8c4-899b39737c4b"
      },
      "outputs": [
        {
          "name": "stdout",
          "output_type": "stream",
          "text": [
            "[ 3  5  7  9 11 13 15 17 19]\n"
          ]
        }
      ],
      "source": [
        "array = np.arange(3, 20, 2)\n",
        "print(array)"
      ]
    },
    {
      "cell_type": "markdown",
      "metadata": {
        "id": "kzxpZWkuQ4i7"
      },
      "source": [
        "**TODO:**\n",
        "Investigate and create examples with the following functions\n",
        "\n",
        "* np.linspace\n",
        "* np.arange\n",
        "* np.zeros and np.ones"
      ]
    },
    {
      "cell_type": "markdown",
      "metadata": {
        "id": "e-DTySRuQ4i7"
      },
      "source": [
        "## Array Shape\n",
        "Arrays have many more properties than lists. In particular, they may have more than one axis or dimension. Let's see what we mean:"
      ]
    },
    {
      "cell_type": "code",
      "execution_count": null,
      "metadata": {
        "id": "qOdCnLniQ4i7",
        "outputId": "005c730e-f5b0-4b71-906c-81c140dad037"
      },
      "outputs": [
        {
          "name": "stdout",
          "output_type": "stream",
          "text": [
            "[[1 2 3 4]\n",
            " [5 6 7 8]]\n"
          ]
        }
      ],
      "source": [
        "array_2d = np.array([[1, 2, 3, 4], [5, 6, 7, 8]])\n",
        "print(array_2d)"
      ]
    },
    {
      "cell_type": "code",
      "execution_count": null,
      "metadata": {
        "id": "koWBCgngQ4i8",
        "outputId": "dae6c12b-5454-48bb-f684-fca8c87c88bb"
      },
      "outputs": [
        {
          "data": {
            "text/plain": [
              "(2, 4)"
            ]
          },
          "execution_count": 77,
          "metadata": {},
          "output_type": "execute_result"
        }
      ],
      "source": [
        "array_2d.shape"
      ]
    },
    {
      "cell_type": "code",
      "execution_count": null,
      "metadata": {
        "id": "Rwdmj1e2Q4i8",
        "outputId": "17b9ec89-5239-46f8-b1be-4832c5e8606d"
      },
      "outputs": [
        {
          "name": "stdout",
          "output_type": "stream",
          "text": [
            "[[1 2]\n",
            " [3 4]\n",
            " [5 6]\n",
            " [7 8]]\n",
            "(4, 2)\n"
          ]
        }
      ],
      "source": [
        "array_2d = np.array([[1, 2], [3, 4], [5, 6], [7, 8]])\n",
        "print(array_2d)\n",
        "print(array_2d.shape)"
      ]
    },
    {
      "cell_type": "markdown",
      "metadata": {
        "id": "bUg9aYnIQ4i9"
      },
      "source": [
        "If we want to know how many elements it has, we can use __.size__"
      ]
    },
    {
      "cell_type": "code",
      "execution_count": null,
      "metadata": {
        "id": "4d7vaqkZQ4i9",
        "outputId": "76145456-8a56-4b6f-e31b-f9ffd52019ec"
      },
      "outputs": [
        {
          "name": "stdout",
          "output_type": "stream",
          "text": [
            "8\n"
          ]
        }
      ],
      "source": [
        "print(array_2d.size)"
      ]
    },
    {
      "cell_type": "markdown",
      "metadata": {
        "id": "ndMX_RBzQ4i-"
      },
      "source": [
        "## Arrays operations\n",
        "\n",
        "NumPy arrays come with a bunch of functions that operate on arrays."
      ]
    },
    {
      "cell_type": "code",
      "execution_count": null,
      "metadata": {
        "id": "jj-AWKSvQ4i-",
        "outputId": "6559fe5a-86a1-4075-8f6b-d5997185b2b1"
      },
      "outputs": [
        {
          "name": "stdout",
          "output_type": "stream",
          "text": [
            "-100\n",
            "95\n"
          ]
        }
      ],
      "source": [
        "array = np.array([-100,2,3,17,25,1,95])\n",
        "\n",
        "print(array.min())\n",
        "print(array.max())"
      ]
    },
    {
      "cell_type": "markdown",
      "metadata": {
        "id": "TT2EFwZVQ4i-"
      },
      "source": [
        "In the 2D case, we can request that these functions operate on the entire array, or by axes."
      ]
    },
    {
      "cell_type": "markdown",
      "metadata": {
        "id": "At63EDYsQ4i_"
      },
      "source": [
        "**TODO:** Try to understand the difference between the following instructions"
      ]
    },
    {
      "cell_type": "code",
      "execution_count": null,
      "metadata": {
        "id": "3wCFlb1eQ4i_"
      },
      "outputs": [],
      "source": [
        "print(array_2d.max())\n",
        "print(array_2d.max(axis=0))\n",
        "print(array_2d.max(axis=1))"
      ]
    },
    {
      "cell_type": "markdown",
      "metadata": {
        "id": "WgrZ6Q6eQ4jA"
      },
      "source": [
        "## Slicing\n",
        "\n",
        "We didn't say anything about indexing or slicing. This is because, for 1D arrays, it is similar to that for lists. For 2D arrays, it's slightly more complicated."
      ]
    },
    {
      "cell_type": "code",
      "execution_count": null,
      "metadata": {
        "id": "F9XGL5koQ4jB",
        "outputId": "134df51b-cdef-48ae-849f-95d8c73580fd"
      },
      "outputs": [
        {
          "name": "stdout",
          "output_type": "stream",
          "text": [
            "[[0 1 2]\n",
            " [3 4 5]\n",
            " [6 7 8]]\n",
            "[3 4 5]\n"
          ]
        }
      ],
      "source": [
        "array_2d = np.arange(9).reshape(3,3)\n",
        "\n",
        "print(array_2d)\n",
        "print(array_2d[1,:])"
      ]
    },
    {
      "cell_type": "markdown",
      "metadata": {
        "id": "TxkIdhChQ4jB"
      },
      "source": [
        "**TODO:** Write an array with 100 equally spaced numbers from 0 to 9"
      ]
    },
    {
      "cell_type": "code",
      "execution_count": null,
      "metadata": {
        "id": "gdqO4y9jQ4jC"
      },
      "outputs": [],
      "source": [
        "# To complete"
      ]
    },
    {
      "cell_type": "markdown",
      "metadata": {
        "id": "tOKt8KohQ4jC"
      },
      "source": [
        "**TODO:** Create a 1D array of 20 zeros. Replace the first 15 elements with ones."
      ]
    },
    {
      "cell_type": "code",
      "execution_count": null,
      "metadata": {
        "id": "mCw4-VTiQ4jD"
      },
      "outputs": [],
      "source": [
        "# To complete"
      ]
    },
    {
      "cell_type": "markdown",
      "metadata": {
        "id": "yCRBqGBWQ4jD"
      },
      "source": [
        "**TODO:** Create a 1D array of 50 zeros. Replace the first 25 elements with the natural numbers from 0 to 24."
      ]
    },
    {
      "cell_type": "code",
      "execution_count": null,
      "metadata": {
        "id": "7FaMKwsfQ4jD"
      },
      "outputs": [],
      "source": [
        "# To complete"
      ]
    },
    {
      "cell_type": "markdown",
      "metadata": {
        "id": "RLr6tcWSQ4jD"
      },
      "source": [
        "**TODO:** Create a 2D array of 3 rows and 3 columns, filled with zeros. Replace the elements of the second column by the numbers 1, 2 and 3 respectively."
      ]
    },
    {
      "cell_type": "code",
      "execution_count": null,
      "metadata": {
        "id": "TcLMXEVnQ4jE"
      },
      "outputs": [],
      "source": [
        "# To complete"
      ]
    },
    {
      "cell_type": "markdown",
      "metadata": {
        "id": "aML2A_OHQ4jE"
      },
      "source": [
        "**TODO:** Create a 2D array of 3 rows and 3 columns, filled with zeros. Replace the elements of the diagonal by ones."
      ]
    },
    {
      "cell_type": "code",
      "source": [
        "np.identity(3)\n"
      ],
      "metadata": {
        "colab": {
          "base_uri": "https://localhost:8080/"
        },
        "id": "QpunVnC90tGn",
        "outputId": "36555114-113f-4a64-9c75-e568f8f2e203"
      },
      "execution_count": null,
      "outputs": [
        {
          "output_type": "execute_result",
          "data": {
            "text/plain": [
              "array([[1., 0., 0.],\n",
              "       [0., 1., 0.],\n",
              "       [0., 0., 1.]])"
            ]
          },
          "metadata": {},
          "execution_count": 12
        }
      ]
    },
    {
      "cell_type": "code",
      "execution_count": null,
      "metadata": {
        "id": "pNHWOrvlQ4jE",
        "colab": {
          "base_uri": "https://localhost:8080/"
        },
        "outputId": "d6a870c5-403b-4c93-a109-f3dfefca3b17"
      },
      "outputs": [
        {
          "output_type": "execute_result",
          "data": {
            "text/plain": [
              "array([[1., 0., 0.],\n",
              "       [0., 1., 0.],\n",
              "       [0., 0., 1.]])"
            ]
          },
          "metadata": {},
          "execution_count": 11
        }
      ],
      "source": [
        "# To complete\n",
        "import numpy as np\n",
        "\n",
        "arr = np.zeros((3,3))\n",
        "diag = np.diag([1]*3)\n",
        "w = np.where(diag == 1)\n",
        "arr[w] = 1\n",
        "\n",
        "arr"
      ]
    },
    {
      "cell_type": "code",
      "source": [
        "w = np.where(diag == 1)\n",
        "arr = np.zeros((3,3))\n",
        "arr[w] = 1\n",
        "arr"
      ],
      "metadata": {
        "colab": {
          "base_uri": "https://localhost:8080/"
        },
        "id": "Rv3LsX-q0xTd",
        "outputId": "cc679e73-042a-4b05-98da-ebbeb49fabbc"
      },
      "execution_count": null,
      "outputs": [
        {
          "output_type": "execute_result",
          "data": {
            "text/plain": [
              "array([[1., 0., 0.],\n",
              "       [0., 1., 0.],\n",
              "       [0., 0., 1.]])"
            ]
          },
          "metadata": {},
          "execution_count": 22
        }
      ]
    },
    {
      "cell_type": "code",
      "source": [
        "np.where(diag == 1)"
      ],
      "metadata": {
        "colab": {
          "base_uri": "https://localhost:8080/"
        },
        "id": "C6cuGY3U1u6M",
        "outputId": "567f2fd0-a78e-449b-c5f7-a8fd972032d2"
      },
      "execution_count": null,
      "outputs": [
        {
          "output_type": "execute_result",
          "data": {
            "text/plain": [
              "(array([0, 1, 2]), array([0, 1, 2]))"
            ]
          },
          "metadata": {},
          "execution_count": 20
        }
      ]
    },
    {
      "cell_type": "code",
      "source": [
        "np.sort\n",
        "np.argsort\n"
      ],
      "metadata": {
        "colab": {
          "base_uri": "https://localhost:8080/"
        },
        "id": "W71v6Qii1aVo",
        "outputId": "64b1cbde-bdf2-4e63-8b8c-6d829a7fab69"
      },
      "execution_count": null,
      "outputs": [
        {
          "output_type": "execute_result",
          "data": {
            "text/plain": [
              "<function numpy.argwhere>"
            ]
          },
          "metadata": {},
          "execution_count": 18
        }
      ]
    },
    {
      "cell_type": "markdown",
      "metadata": {
        "id": "3hNTP5RdQ4jF"
      },
      "source": [
        "**TODO:** Create a 2D array of 100 rows and 100 columns, filled with zeros. Replace the elements of the diagonal by ones."
      ]
    },
    {
      "cell_type": "code",
      "execution_count": null,
      "metadata": {
        "id": "HbOr-tyYQ4jF"
      },
      "outputs": [],
      "source": [
        "# To complete"
      ]
    },
    {
      "cell_type": "markdown",
      "metadata": {
        "id": "uvgwzXDpQ4jF"
      },
      "source": [
        "## Statistics\n",
        "\n",
        "Descriptive Statistics helps us to begin to analyze and understand a set of data. In the case of numerical data, it does so by obtaining statistical values that, in some way, replace our data. For example, it is very difficult to read and understand the age of 1000 people. But with a reduced set of statistical values (minimum, maximum, mean and standard deviation, etc.) we can approximate that set in a much more understandable way.\n",
        "\n",
        "Given a set of numbers, the average is usually considered the most representative number of that set. This is not always the case.\n",
        "\n",
        "**TODO:**\n",
        "Given the following list of numbers, write a routine that computes their mean, [variance](https://en.wikipedia.org/wiki/Variance), and [standard deviation](https://en.wikipedia.org/wiki/Standard_deviation)."
      ]
    },
    {
      "cell_type": "code",
      "execution_count": null,
      "metadata": {
        "id": "Lh4JY3lDQ4jG"
      },
      "outputs": [],
      "source": [
        "my_list = [11, 12, 63, 31, 82, 56, 32, 686, 1, 2, 39, 9, 99, 2, 1]\n",
        "n = len(my_list)"
      ]
    },
    {
      "cell_type": "code",
      "execution_count": null,
      "metadata": {
        "id": "LVLU4WEnQ4jG"
      },
      "outputs": [],
      "source": [
        "# To complete"
      ]
    },
    {
      "cell_type": "markdown",
      "metadata": {
        "id": "-ozLQTU2Q4jH"
      },
      "source": [
        "**TODO:** Now with NumPy"
      ]
    },
    {
      "cell_type": "code",
      "execution_count": null,
      "metadata": {
        "id": "sXu6g6e_Q4jH"
      },
      "outputs": [],
      "source": [
        "# To complete"
      ]
    },
    {
      "cell_type": "markdown",
      "metadata": {
        "id": "URImy2I0Q4jI"
      },
      "source": [
        "## Random\n",
        "\n",
        "One extremely useful thing we can do with NumPy is to generate random samples. These functions are found within the NumPy random package."
      ]
    },
    {
      "cell_type": "code",
      "execution_count": null,
      "metadata": {
        "colab": {
          "base_uri": "https://localhost:8080/"
        },
        "id": "5kfyFXQeQ4jI",
        "outputId": "fb5666d9-6e04-4be3-9988-c72b0756bd01"
      },
      "outputs": [
        {
          "name": "stdout",
          "output_type": "stream",
          "text": [
            "[3 1 1 6 1 4 5 2 3 3 4 1 6 6 2]\n",
            "[2 3 2 2 3 5 5 3 4 1 2 6 2 6 4]\n"
          ]
        }
      ],
      "source": [
        "die_samples = np.random.randint(1, 7, size=15)\n",
        "print(die_samples)\n",
        "\n",
        "die_samples = np.random.choice([1, 2, 3, 4, 5, 6], size=15)\n",
        "print(die_samples)"
      ]
    },
    {
      "cell_type": "markdown",
      "metadata": {
        "id": "xPhqo5NGQ4jJ"
      },
      "source": [
        "**TODO:**\n",
        "What will be the mean of the values obtained by throwing a die many times? We are going to try to answer this question by simulating a die. For it:\n",
        "\n",
        "* Get random samples of a die with differet sample size (e.g. 10, 100, 1000, ...).\n",
        "* Calculate its mean and standard deviation.\n",
        "* From what number of samples does the average \"stabilize\"?"
      ]
    },
    {
      "cell_type": "code",
      "execution_count": null,
      "metadata": {
        "id": "y8tzLWFpQ4jJ"
      },
      "outputs": [],
      "source": [
        "# To complete"
      ]
    },
    {
      "cell_type": "markdown",
      "metadata": {
        "id": "bR76I96-Q4jJ"
      },
      "source": [
        "**TODO:**\n",
        "\n",
        "Simulate a loaded die to favor a value of your choice. For example, the 6. To do this, consult the help of the __np.random.choice__ function. How do you modify the mean and standard deviation?"
      ]
    },
    {
      "cell_type": "code",
      "execution_count": null,
      "metadata": {
        "id": "GhRdP_DlQ4jK"
      },
      "outputs": [],
      "source": [
        "# To complete"
      ]
    },
    {
      "cell_type": "markdown",
      "metadata": {
        "id": "1zZ80tdRQ4jK"
      },
      "source": [
        "---\n",
        "\n",
        "# 3. Pandas"
      ]
    },
    {
      "cell_type": "markdown",
      "metadata": {
        "id": "2qAlJy81Q4jK"
      },
      "source": [
        "Pandas is the best known Python library for manipulating and analyzing data. It is built on top of NumPy, so many features are similar. We will use Pandas to work with structured datasets.\n",
        "\n",
        "Just as NumPy provides us with arrays and with them we access many new features, Pandas provides us with DataFrames and Series. By far the most used object is the first one, DataFrames.\n",
        "\n",
        "We are going to use the open data of the Argentine government, so you will have to download the csv from the following link: [Names 2010-2014](https://www.datos.gob.ar/dataset/otros-nombres-personas-fisicas)"
      ]
    },
    {
      "cell_type": "code",
      "execution_count": 1,
      "metadata": {
        "id": "JY_I84c4Q4jL"
      },
      "outputs": [],
      "source": [
        "import pandas as pd\n",
        "import numpy as np"
      ]
    },
    {
      "cell_type": "markdown",
      "metadata": {
        "id": "A0xGFfvPQ4jL"
      },
      "source": [
        "## Reading a csv file"
      ]
    },
    {
      "cell_type": "code",
      "execution_count": 3,
      "metadata": {
        "id": "OzmclufMQ4jL",
        "outputId": "71dfc810-3333-40d1-cecc-511c633c803d",
        "colab": {
          "base_uri": "https://localhost:8080/",
          "height": 423
        }
      },
      "outputs": [
        {
          "output_type": "execute_result",
          "data": {
            "text/plain": [
              "                        nombre  cantidad  anio\n",
              "0                     Benjamin      2986  2010\n",
              "1                        Sofia      2252  2010\n",
              "2                     Bautista      2176  2010\n",
              "3                      Joaquín      2111  2010\n",
              "4                 Juan Ignacio      2039  2010\n",
              "...                        ...       ...   ...\n",
              "871489            Leire Jasmin         1  2014\n",
              "871490  Isaias Sebastian Ariel         1  2014\n",
              "871491        Yanira Valentina         1  2014\n",
              "871492            Angie Ainara         1  2014\n",
              "871493          Elias Hernando         1  2014\n",
              "\n",
              "[871494 rows x 3 columns]"
            ],
            "text/html": [
              "\n",
              "  <div id=\"df-a53e4305-3c0d-4aff-a340-2ae974d11b79\">\n",
              "    <div class=\"colab-df-container\">\n",
              "      <div>\n",
              "<style scoped>\n",
              "    .dataframe tbody tr th:only-of-type {\n",
              "        vertical-align: middle;\n",
              "    }\n",
              "\n",
              "    .dataframe tbody tr th {\n",
              "        vertical-align: top;\n",
              "    }\n",
              "\n",
              "    .dataframe thead th {\n",
              "        text-align: right;\n",
              "    }\n",
              "</style>\n",
              "<table border=\"1\" class=\"dataframe\">\n",
              "  <thead>\n",
              "    <tr style=\"text-align: right;\">\n",
              "      <th></th>\n",
              "      <th>nombre</th>\n",
              "      <th>cantidad</th>\n",
              "      <th>anio</th>\n",
              "    </tr>\n",
              "  </thead>\n",
              "  <tbody>\n",
              "    <tr>\n",
              "      <th>0</th>\n",
              "      <td>Benjamin</td>\n",
              "      <td>2986</td>\n",
              "      <td>2010</td>\n",
              "    </tr>\n",
              "    <tr>\n",
              "      <th>1</th>\n",
              "      <td>Sofia</td>\n",
              "      <td>2252</td>\n",
              "      <td>2010</td>\n",
              "    </tr>\n",
              "    <tr>\n",
              "      <th>2</th>\n",
              "      <td>Bautista</td>\n",
              "      <td>2176</td>\n",
              "      <td>2010</td>\n",
              "    </tr>\n",
              "    <tr>\n",
              "      <th>3</th>\n",
              "      <td>Joaquín</td>\n",
              "      <td>2111</td>\n",
              "      <td>2010</td>\n",
              "    </tr>\n",
              "    <tr>\n",
              "      <th>4</th>\n",
              "      <td>Juan Ignacio</td>\n",
              "      <td>2039</td>\n",
              "      <td>2010</td>\n",
              "    </tr>\n",
              "    <tr>\n",
              "      <th>...</th>\n",
              "      <td>...</td>\n",
              "      <td>...</td>\n",
              "      <td>...</td>\n",
              "    </tr>\n",
              "    <tr>\n",
              "      <th>871489</th>\n",
              "      <td>Leire Jasmin</td>\n",
              "      <td>1</td>\n",
              "      <td>2014</td>\n",
              "    </tr>\n",
              "    <tr>\n",
              "      <th>871490</th>\n",
              "      <td>Isaias Sebastian Ariel</td>\n",
              "      <td>1</td>\n",
              "      <td>2014</td>\n",
              "    </tr>\n",
              "    <tr>\n",
              "      <th>871491</th>\n",
              "      <td>Yanira Valentina</td>\n",
              "      <td>1</td>\n",
              "      <td>2014</td>\n",
              "    </tr>\n",
              "    <tr>\n",
              "      <th>871492</th>\n",
              "      <td>Angie Ainara</td>\n",
              "      <td>1</td>\n",
              "      <td>2014</td>\n",
              "    </tr>\n",
              "    <tr>\n",
              "      <th>871493</th>\n",
              "      <td>Elias Hernando</td>\n",
              "      <td>1</td>\n",
              "      <td>2014</td>\n",
              "    </tr>\n",
              "  </tbody>\n",
              "</table>\n",
              "<p>871494 rows × 3 columns</p>\n",
              "</div>\n",
              "      <button class=\"colab-df-convert\" onclick=\"convertToInteractive('df-a53e4305-3c0d-4aff-a340-2ae974d11b79')\"\n",
              "              title=\"Convert this dataframe to an interactive table.\"\n",
              "              style=\"display:none;\">\n",
              "        \n",
              "  <svg xmlns=\"http://www.w3.org/2000/svg\" height=\"24px\"viewBox=\"0 0 24 24\"\n",
              "       width=\"24px\">\n",
              "    <path d=\"M0 0h24v24H0V0z\" fill=\"none\"/>\n",
              "    <path d=\"M18.56 5.44l.94 2.06.94-2.06 2.06-.94-2.06-.94-.94-2.06-.94 2.06-2.06.94zm-11 1L8.5 8.5l.94-2.06 2.06-.94-2.06-.94L8.5 2.5l-.94 2.06-2.06.94zm10 10l.94 2.06.94-2.06 2.06-.94-2.06-.94-.94-2.06-.94 2.06-2.06.94z\"/><path d=\"M17.41 7.96l-1.37-1.37c-.4-.4-.92-.59-1.43-.59-.52 0-1.04.2-1.43.59L10.3 9.45l-7.72 7.72c-.78.78-.78 2.05 0 2.83L4 21.41c.39.39.9.59 1.41.59.51 0 1.02-.2 1.41-.59l7.78-7.78 2.81-2.81c.8-.78.8-2.07 0-2.86zM5.41 20L4 18.59l7.72-7.72 1.47 1.35L5.41 20z\"/>\n",
              "  </svg>\n",
              "      </button>\n",
              "      \n",
              "  <style>\n",
              "    .colab-df-container {\n",
              "      display:flex;\n",
              "      flex-wrap:wrap;\n",
              "      gap: 12px;\n",
              "    }\n",
              "\n",
              "    .colab-df-convert {\n",
              "      background-color: #E8F0FE;\n",
              "      border: none;\n",
              "      border-radius: 50%;\n",
              "      cursor: pointer;\n",
              "      display: none;\n",
              "      fill: #1967D2;\n",
              "      height: 32px;\n",
              "      padding: 0 0 0 0;\n",
              "      width: 32px;\n",
              "    }\n",
              "\n",
              "    .colab-df-convert:hover {\n",
              "      background-color: #E2EBFA;\n",
              "      box-shadow: 0px 1px 2px rgba(60, 64, 67, 0.3), 0px 1px 3px 1px rgba(60, 64, 67, 0.15);\n",
              "      fill: #174EA6;\n",
              "    }\n",
              "\n",
              "    [theme=dark] .colab-df-convert {\n",
              "      background-color: #3B4455;\n",
              "      fill: #D2E3FC;\n",
              "    }\n",
              "\n",
              "    [theme=dark] .colab-df-convert:hover {\n",
              "      background-color: #434B5C;\n",
              "      box-shadow: 0px 1px 3px 1px rgba(0, 0, 0, 0.15);\n",
              "      filter: drop-shadow(0px 1px 2px rgba(0, 0, 0, 0.3));\n",
              "      fill: #FFFFFF;\n",
              "    }\n",
              "  </style>\n",
              "\n",
              "      <script>\n",
              "        const buttonEl =\n",
              "          document.querySelector('#df-a53e4305-3c0d-4aff-a340-2ae974d11b79 button.colab-df-convert');\n",
              "        buttonEl.style.display =\n",
              "          google.colab.kernel.accessAllowed ? 'block' : 'none';\n",
              "\n",
              "        async function convertToInteractive(key) {\n",
              "          const element = document.querySelector('#df-a53e4305-3c0d-4aff-a340-2ae974d11b79');\n",
              "          const dataTable =\n",
              "            await google.colab.kernel.invokeFunction('convertToInteractive',\n",
              "                                                     [key], {});\n",
              "          if (!dataTable) return;\n",
              "\n",
              "          const docLinkHtml = 'Like what you see? Visit the ' +\n",
              "            '<a target=\"_blank\" href=https://colab.research.google.com/notebooks/data_table.ipynb>data table notebook</a>'\n",
              "            + ' to learn more about interactive tables.';\n",
              "          element.innerHTML = '';\n",
              "          dataTable['output_type'] = 'display_data';\n",
              "          await google.colab.output.renderOutput(dataTable, element);\n",
              "          const docLink = document.createElement('div');\n",
              "          docLink.innerHTML = docLinkHtml;\n",
              "          element.appendChild(docLink);\n",
              "        }\n",
              "      </script>\n",
              "    </div>\n",
              "  </div>\n",
              "  "
            ]
          },
          "metadata": {},
          "execution_count": 3
        }
      ],
      "source": [
        "df_names = pd.read_csv('nombres-2010-2014.csv')\n",
        "df_names"
      ]
    },
    {
      "cell_type": "markdown",
      "metadata": {
        "id": "slxR8rtXQ4jM"
      },
      "source": [
        "## Columns renaming"
      ]
    },
    {
      "cell_type": "markdown",
      "metadata": {
        "id": "mL3b7okLQ4jM"
      },
      "source": [
        "First of all let's rename the columns to name, amount and year"
      ]
    },
    {
      "cell_type": "code",
      "execution_count": 4,
      "metadata": {
        "id": "WAFt31xGQ4jN",
        "outputId": "7b9bc663-f7e7-4318-8636-8d7fc7b90ef2",
        "colab": {
          "base_uri": "https://localhost:8080/",
          "height": 423
        }
      },
      "outputs": [
        {
          "output_type": "execute_result",
          "data": {
            "text/plain": [
              "                          name  amount  year\n",
              "0                     Benjamin    2986  2010\n",
              "1                        Sofia    2252  2010\n",
              "2                     Bautista    2176  2010\n",
              "3                      Joaquín    2111  2010\n",
              "4                 Juan Ignacio    2039  2010\n",
              "...                        ...     ...   ...\n",
              "871489            Leire Jasmin       1  2014\n",
              "871490  Isaias Sebastian Ariel       1  2014\n",
              "871491        Yanira Valentina       1  2014\n",
              "871492            Angie Ainara       1  2014\n",
              "871493          Elias Hernando       1  2014\n",
              "\n",
              "[871494 rows x 3 columns]"
            ],
            "text/html": [
              "\n",
              "  <div id=\"df-06f42cfe-f54b-4fa3-b42c-21be08308fab\">\n",
              "    <div class=\"colab-df-container\">\n",
              "      <div>\n",
              "<style scoped>\n",
              "    .dataframe tbody tr th:only-of-type {\n",
              "        vertical-align: middle;\n",
              "    }\n",
              "\n",
              "    .dataframe tbody tr th {\n",
              "        vertical-align: top;\n",
              "    }\n",
              "\n",
              "    .dataframe thead th {\n",
              "        text-align: right;\n",
              "    }\n",
              "</style>\n",
              "<table border=\"1\" class=\"dataframe\">\n",
              "  <thead>\n",
              "    <tr style=\"text-align: right;\">\n",
              "      <th></th>\n",
              "      <th>name</th>\n",
              "      <th>amount</th>\n",
              "      <th>year</th>\n",
              "    </tr>\n",
              "  </thead>\n",
              "  <tbody>\n",
              "    <tr>\n",
              "      <th>0</th>\n",
              "      <td>Benjamin</td>\n",
              "      <td>2986</td>\n",
              "      <td>2010</td>\n",
              "    </tr>\n",
              "    <tr>\n",
              "      <th>1</th>\n",
              "      <td>Sofia</td>\n",
              "      <td>2252</td>\n",
              "      <td>2010</td>\n",
              "    </tr>\n",
              "    <tr>\n",
              "      <th>2</th>\n",
              "      <td>Bautista</td>\n",
              "      <td>2176</td>\n",
              "      <td>2010</td>\n",
              "    </tr>\n",
              "    <tr>\n",
              "      <th>3</th>\n",
              "      <td>Joaquín</td>\n",
              "      <td>2111</td>\n",
              "      <td>2010</td>\n",
              "    </tr>\n",
              "    <tr>\n",
              "      <th>4</th>\n",
              "      <td>Juan Ignacio</td>\n",
              "      <td>2039</td>\n",
              "      <td>2010</td>\n",
              "    </tr>\n",
              "    <tr>\n",
              "      <th>...</th>\n",
              "      <td>...</td>\n",
              "      <td>...</td>\n",
              "      <td>...</td>\n",
              "    </tr>\n",
              "    <tr>\n",
              "      <th>871489</th>\n",
              "      <td>Leire Jasmin</td>\n",
              "      <td>1</td>\n",
              "      <td>2014</td>\n",
              "    </tr>\n",
              "    <tr>\n",
              "      <th>871490</th>\n",
              "      <td>Isaias Sebastian Ariel</td>\n",
              "      <td>1</td>\n",
              "      <td>2014</td>\n",
              "    </tr>\n",
              "    <tr>\n",
              "      <th>871491</th>\n",
              "      <td>Yanira Valentina</td>\n",
              "      <td>1</td>\n",
              "      <td>2014</td>\n",
              "    </tr>\n",
              "    <tr>\n",
              "      <th>871492</th>\n",
              "      <td>Angie Ainara</td>\n",
              "      <td>1</td>\n",
              "      <td>2014</td>\n",
              "    </tr>\n",
              "    <tr>\n",
              "      <th>871493</th>\n",
              "      <td>Elias Hernando</td>\n",
              "      <td>1</td>\n",
              "      <td>2014</td>\n",
              "    </tr>\n",
              "  </tbody>\n",
              "</table>\n",
              "<p>871494 rows × 3 columns</p>\n",
              "</div>\n",
              "      <button class=\"colab-df-convert\" onclick=\"convertToInteractive('df-06f42cfe-f54b-4fa3-b42c-21be08308fab')\"\n",
              "              title=\"Convert this dataframe to an interactive table.\"\n",
              "              style=\"display:none;\">\n",
              "        \n",
              "  <svg xmlns=\"http://www.w3.org/2000/svg\" height=\"24px\"viewBox=\"0 0 24 24\"\n",
              "       width=\"24px\">\n",
              "    <path d=\"M0 0h24v24H0V0z\" fill=\"none\"/>\n",
              "    <path d=\"M18.56 5.44l.94 2.06.94-2.06 2.06-.94-2.06-.94-.94-2.06-.94 2.06-2.06.94zm-11 1L8.5 8.5l.94-2.06 2.06-.94-2.06-.94L8.5 2.5l-.94 2.06-2.06.94zm10 10l.94 2.06.94-2.06 2.06-.94-2.06-.94-.94-2.06-.94 2.06-2.06.94z\"/><path d=\"M17.41 7.96l-1.37-1.37c-.4-.4-.92-.59-1.43-.59-.52 0-1.04.2-1.43.59L10.3 9.45l-7.72 7.72c-.78.78-.78 2.05 0 2.83L4 21.41c.39.39.9.59 1.41.59.51 0 1.02-.2 1.41-.59l7.78-7.78 2.81-2.81c.8-.78.8-2.07 0-2.86zM5.41 20L4 18.59l7.72-7.72 1.47 1.35L5.41 20z\"/>\n",
              "  </svg>\n",
              "      </button>\n",
              "      \n",
              "  <style>\n",
              "    .colab-df-container {\n",
              "      display:flex;\n",
              "      flex-wrap:wrap;\n",
              "      gap: 12px;\n",
              "    }\n",
              "\n",
              "    .colab-df-convert {\n",
              "      background-color: #E8F0FE;\n",
              "      border: none;\n",
              "      border-radius: 50%;\n",
              "      cursor: pointer;\n",
              "      display: none;\n",
              "      fill: #1967D2;\n",
              "      height: 32px;\n",
              "      padding: 0 0 0 0;\n",
              "      width: 32px;\n",
              "    }\n",
              "\n",
              "    .colab-df-convert:hover {\n",
              "      background-color: #E2EBFA;\n",
              "      box-shadow: 0px 1px 2px rgba(60, 64, 67, 0.3), 0px 1px 3px 1px rgba(60, 64, 67, 0.15);\n",
              "      fill: #174EA6;\n",
              "    }\n",
              "\n",
              "    [theme=dark] .colab-df-convert {\n",
              "      background-color: #3B4455;\n",
              "      fill: #D2E3FC;\n",
              "    }\n",
              "\n",
              "    [theme=dark] .colab-df-convert:hover {\n",
              "      background-color: #434B5C;\n",
              "      box-shadow: 0px 1px 3px 1px rgba(0, 0, 0, 0.15);\n",
              "      filter: drop-shadow(0px 1px 2px rgba(0, 0, 0, 0.3));\n",
              "      fill: #FFFFFF;\n",
              "    }\n",
              "  </style>\n",
              "\n",
              "      <script>\n",
              "        const buttonEl =\n",
              "          document.querySelector('#df-06f42cfe-f54b-4fa3-b42c-21be08308fab button.colab-df-convert');\n",
              "        buttonEl.style.display =\n",
              "          google.colab.kernel.accessAllowed ? 'block' : 'none';\n",
              "\n",
              "        async function convertToInteractive(key) {\n",
              "          const element = document.querySelector('#df-06f42cfe-f54b-4fa3-b42c-21be08308fab');\n",
              "          const dataTable =\n",
              "            await google.colab.kernel.invokeFunction('convertToInteractive',\n",
              "                                                     [key], {});\n",
              "          if (!dataTable) return;\n",
              "\n",
              "          const docLinkHtml = 'Like what you see? Visit the ' +\n",
              "            '<a target=\"_blank\" href=https://colab.research.google.com/notebooks/data_table.ipynb>data table notebook</a>'\n",
              "            + ' to learn more about interactive tables.';\n",
              "          element.innerHTML = '';\n",
              "          dataTable['output_type'] = 'display_data';\n",
              "          await google.colab.output.renderOutput(dataTable, element);\n",
              "          const docLink = document.createElement('div');\n",
              "          docLink.innerHTML = docLinkHtml;\n",
              "          element.appendChild(docLink);\n",
              "        }\n",
              "      </script>\n",
              "    </div>\n",
              "  </div>\n",
              "  "
            ]
          },
          "metadata": {},
          "execution_count": 4
        }
      ],
      "source": [
        "df_names = df_names.rename(columns={'nombre': 'name', 'cantidad': 'amount', 'anio': 'year'})\n",
        "df_names"
      ]
    },
    {
      "cell_type": "code",
      "source": [
        "df_names.info()"
      ],
      "metadata": {
        "id": "OdB0zwpufWgN",
        "outputId": "0e663e7f-1f67-4588-dc1a-1c704d369d06",
        "colab": {
          "base_uri": "https://localhost:8080/"
        }
      },
      "execution_count": 5,
      "outputs": [
        {
          "output_type": "stream",
          "name": "stdout",
          "text": [
            "<class 'pandas.core.frame.DataFrame'>\n",
            "RangeIndex: 871494 entries, 0 to 871493\n",
            "Data columns (total 3 columns):\n",
            " #   Column  Non-Null Count   Dtype \n",
            "---  ------  --------------   ----- \n",
            " 0   name    871494 non-null  object\n",
            " 1   amount  871494 non-null  int64 \n",
            " 2   year    871494 non-null  int64 \n",
            "dtypes: int64(2), object(1)\n",
            "memory usage: 19.9+ MB\n"
          ]
        }
      ]
    },
    {
      "cell_type": "code",
      "source": [
        "df_names.describe()"
      ],
      "metadata": {
        "id": "kebfzOBLfXDs",
        "outputId": "03ad2da8-97f8-4c0c-d35c-1f5484a756af",
        "colab": {
          "base_uri": "https://localhost:8080/",
          "height": 300
        }
      },
      "execution_count": 6,
      "outputs": [
        {
          "output_type": "execute_result",
          "data": {
            "text/plain": [
              "              amount           year\n",
              "count  871494.000000  871494.000000\n",
              "mean        4.278225    2012.267647\n",
              "std        34.615712       1.370919\n",
              "min         1.000000    2010.000000\n",
              "25%         1.000000    2011.000000\n",
              "50%         1.000000    2012.000000\n",
              "75%         2.000000    2013.000000\n",
              "max      4960.000000    2014.000000"
            ],
            "text/html": [
              "\n",
              "  <div id=\"df-92bd2ede-5bdd-40e1-9f2a-6d255df7950e\">\n",
              "    <div class=\"colab-df-container\">\n",
              "      <div>\n",
              "<style scoped>\n",
              "    .dataframe tbody tr th:only-of-type {\n",
              "        vertical-align: middle;\n",
              "    }\n",
              "\n",
              "    .dataframe tbody tr th {\n",
              "        vertical-align: top;\n",
              "    }\n",
              "\n",
              "    .dataframe thead th {\n",
              "        text-align: right;\n",
              "    }\n",
              "</style>\n",
              "<table border=\"1\" class=\"dataframe\">\n",
              "  <thead>\n",
              "    <tr style=\"text-align: right;\">\n",
              "      <th></th>\n",
              "      <th>amount</th>\n",
              "      <th>year</th>\n",
              "    </tr>\n",
              "  </thead>\n",
              "  <tbody>\n",
              "    <tr>\n",
              "      <th>count</th>\n",
              "      <td>871494.000000</td>\n",
              "      <td>871494.000000</td>\n",
              "    </tr>\n",
              "    <tr>\n",
              "      <th>mean</th>\n",
              "      <td>4.278225</td>\n",
              "      <td>2012.267647</td>\n",
              "    </tr>\n",
              "    <tr>\n",
              "      <th>std</th>\n",
              "      <td>34.615712</td>\n",
              "      <td>1.370919</td>\n",
              "    </tr>\n",
              "    <tr>\n",
              "      <th>min</th>\n",
              "      <td>1.000000</td>\n",
              "      <td>2010.000000</td>\n",
              "    </tr>\n",
              "    <tr>\n",
              "      <th>25%</th>\n",
              "      <td>1.000000</td>\n",
              "      <td>2011.000000</td>\n",
              "    </tr>\n",
              "    <tr>\n",
              "      <th>50%</th>\n",
              "      <td>1.000000</td>\n",
              "      <td>2012.000000</td>\n",
              "    </tr>\n",
              "    <tr>\n",
              "      <th>75%</th>\n",
              "      <td>2.000000</td>\n",
              "      <td>2013.000000</td>\n",
              "    </tr>\n",
              "    <tr>\n",
              "      <th>max</th>\n",
              "      <td>4960.000000</td>\n",
              "      <td>2014.000000</td>\n",
              "    </tr>\n",
              "  </tbody>\n",
              "</table>\n",
              "</div>\n",
              "      <button class=\"colab-df-convert\" onclick=\"convertToInteractive('df-92bd2ede-5bdd-40e1-9f2a-6d255df7950e')\"\n",
              "              title=\"Convert this dataframe to an interactive table.\"\n",
              "              style=\"display:none;\">\n",
              "        \n",
              "  <svg xmlns=\"http://www.w3.org/2000/svg\" height=\"24px\"viewBox=\"0 0 24 24\"\n",
              "       width=\"24px\">\n",
              "    <path d=\"M0 0h24v24H0V0z\" fill=\"none\"/>\n",
              "    <path d=\"M18.56 5.44l.94 2.06.94-2.06 2.06-.94-2.06-.94-.94-2.06-.94 2.06-2.06.94zm-11 1L8.5 8.5l.94-2.06 2.06-.94-2.06-.94L8.5 2.5l-.94 2.06-2.06.94zm10 10l.94 2.06.94-2.06 2.06-.94-2.06-.94-.94-2.06-.94 2.06-2.06.94z\"/><path d=\"M17.41 7.96l-1.37-1.37c-.4-.4-.92-.59-1.43-.59-.52 0-1.04.2-1.43.59L10.3 9.45l-7.72 7.72c-.78.78-.78 2.05 0 2.83L4 21.41c.39.39.9.59 1.41.59.51 0 1.02-.2 1.41-.59l7.78-7.78 2.81-2.81c.8-.78.8-2.07 0-2.86zM5.41 20L4 18.59l7.72-7.72 1.47 1.35L5.41 20z\"/>\n",
              "  </svg>\n",
              "      </button>\n",
              "      \n",
              "  <style>\n",
              "    .colab-df-container {\n",
              "      display:flex;\n",
              "      flex-wrap:wrap;\n",
              "      gap: 12px;\n",
              "    }\n",
              "\n",
              "    .colab-df-convert {\n",
              "      background-color: #E8F0FE;\n",
              "      border: none;\n",
              "      border-radius: 50%;\n",
              "      cursor: pointer;\n",
              "      display: none;\n",
              "      fill: #1967D2;\n",
              "      height: 32px;\n",
              "      padding: 0 0 0 0;\n",
              "      width: 32px;\n",
              "    }\n",
              "\n",
              "    .colab-df-convert:hover {\n",
              "      background-color: #E2EBFA;\n",
              "      box-shadow: 0px 1px 2px rgba(60, 64, 67, 0.3), 0px 1px 3px 1px rgba(60, 64, 67, 0.15);\n",
              "      fill: #174EA6;\n",
              "    }\n",
              "\n",
              "    [theme=dark] .colab-df-convert {\n",
              "      background-color: #3B4455;\n",
              "      fill: #D2E3FC;\n",
              "    }\n",
              "\n",
              "    [theme=dark] .colab-df-convert:hover {\n",
              "      background-color: #434B5C;\n",
              "      box-shadow: 0px 1px 3px 1px rgba(0, 0, 0, 0.15);\n",
              "      filter: drop-shadow(0px 1px 2px rgba(0, 0, 0, 0.3));\n",
              "      fill: #FFFFFF;\n",
              "    }\n",
              "  </style>\n",
              "\n",
              "      <script>\n",
              "        const buttonEl =\n",
              "          document.querySelector('#df-92bd2ede-5bdd-40e1-9f2a-6d255df7950e button.colab-df-convert');\n",
              "        buttonEl.style.display =\n",
              "          google.colab.kernel.accessAllowed ? 'block' : 'none';\n",
              "\n",
              "        async function convertToInteractive(key) {\n",
              "          const element = document.querySelector('#df-92bd2ede-5bdd-40e1-9f2a-6d255df7950e');\n",
              "          const dataTable =\n",
              "            await google.colab.kernel.invokeFunction('convertToInteractive',\n",
              "                                                     [key], {});\n",
              "          if (!dataTable) return;\n",
              "\n",
              "          const docLinkHtml = 'Like what you see? Visit the ' +\n",
              "            '<a target=\"_blank\" href=https://colab.research.google.com/notebooks/data_table.ipynb>data table notebook</a>'\n",
              "            + ' to learn more about interactive tables.';\n",
              "          element.innerHTML = '';\n",
              "          dataTable['output_type'] = 'display_data';\n",
              "          await google.colab.output.renderOutput(dataTable, element);\n",
              "          const docLink = document.createElement('div');\n",
              "          docLink.innerHTML = docLinkHtml;\n",
              "          element.appendChild(docLink);\n",
              "        }\n",
              "      </script>\n",
              "    </div>\n",
              "  </div>\n",
              "  "
            ]
          },
          "metadata": {},
          "execution_count": 6
        }
      ]
    },
    {
      "cell_type": "markdown",
      "metadata": {
        "id": "W-kRHmkOQ4jN"
      },
      "source": [
        "## Some Pandas useful functions"
      ]
    },
    {
      "cell_type": "markdown",
      "metadata": {
        "id": "Ve4KOoEnQ4jN"
      },
      "source": [
        "**TODO:** Investigate the functions that are implemented in the next cell. What do they do? What do you think they can be useful for?"
      ]
    },
    {
      "cell_type": "code",
      "execution_count": 8,
      "metadata": {
        "id": "Mc9CkZwVQ4jO",
        "outputId": "edc9de70-011d-425f-ea10-5c84f62e4edf",
        "colab": {
          "base_uri": "https://localhost:8080/"
        }
      },
      "outputs": [
        {
          "output_type": "execute_result",
          "data": {
            "text/plain": [
              "(871494, 3)"
            ]
          },
          "metadata": {},
          "execution_count": 8
        }
      ],
      "source": [
        "# df_names.head()\n",
        "# df_names.tail()\n",
        "# df_names.count()\n",
        "df_names.shape"
      ]
    },
    {
      "cell_type": "markdown",
      "metadata": {
        "id": "u15ncIh3Q4jO"
      },
      "source": [
        "## Append a new row"
      ]
    },
    {
      "cell_type": "markdown",
      "metadata": {
        "id": "DyhUYuu2Q4jQ"
      },
      "source": [
        "**TODO:** Suppose that in the data load, someone forgot to add a name and its respective amount and year.\n",
        "\n",
        "Let's add to our dataset the following row with said information:\n",
        "\n",
        "Name: \"Daenerys Stormborn of the House Targaryen, First of Her Name de ella, the Unburnt, Queen of the Andals and the First Men, Khaleesi of the Great Grass Sea, Breaker of Chains, and Mother of Dragons\"\n",
        "\n",
        "Amount: 100\n",
        "Year: 2011"
      ]
    },
    {
      "cell_type": "code",
      "execution_count": 9,
      "metadata": {
        "id": "s_uvRquYQ4jR",
        "outputId": "3699a47f-69f4-4fb6-93e7-ea267fa581f6",
        "colab": {
          "base_uri": "https://localhost:8080/",
          "height": 423
        }
      },
      "outputs": [
        {
          "output_type": "execute_result",
          "data": {
            "text/plain": [
              "                                                     name  amount  year\n",
              "0                                                Benjamin    2986  2010\n",
              "1                                                   Sofia    2252  2010\n",
              "2                                                Bautista    2176  2010\n",
              "3                                                 Joaquín    2111  2010\n",
              "4                                            Juan Ignacio    2039  2010\n",
              "...                                                   ...     ...   ...\n",
              "871490                             Isaias Sebastian Ariel       1  2014\n",
              "871491                                   Yanira Valentina       1  2014\n",
              "871492                                       Angie Ainara       1  2014\n",
              "871493                                     Elias Hernando       1  2014\n",
              "871494  Daenerys Stormborn of the House Targaryen, Fir...     100  2011\n",
              "\n",
              "[871495 rows x 3 columns]"
            ],
            "text/html": [
              "\n",
              "  <div id=\"df-01d411a4-d6cd-4b82-b9ef-92b82e96f357\">\n",
              "    <div class=\"colab-df-container\">\n",
              "      <div>\n",
              "<style scoped>\n",
              "    .dataframe tbody tr th:only-of-type {\n",
              "        vertical-align: middle;\n",
              "    }\n",
              "\n",
              "    .dataframe tbody tr th {\n",
              "        vertical-align: top;\n",
              "    }\n",
              "\n",
              "    .dataframe thead th {\n",
              "        text-align: right;\n",
              "    }\n",
              "</style>\n",
              "<table border=\"1\" class=\"dataframe\">\n",
              "  <thead>\n",
              "    <tr style=\"text-align: right;\">\n",
              "      <th></th>\n",
              "      <th>name</th>\n",
              "      <th>amount</th>\n",
              "      <th>year</th>\n",
              "    </tr>\n",
              "  </thead>\n",
              "  <tbody>\n",
              "    <tr>\n",
              "      <th>0</th>\n",
              "      <td>Benjamin</td>\n",
              "      <td>2986</td>\n",
              "      <td>2010</td>\n",
              "    </tr>\n",
              "    <tr>\n",
              "      <th>1</th>\n",
              "      <td>Sofia</td>\n",
              "      <td>2252</td>\n",
              "      <td>2010</td>\n",
              "    </tr>\n",
              "    <tr>\n",
              "      <th>2</th>\n",
              "      <td>Bautista</td>\n",
              "      <td>2176</td>\n",
              "      <td>2010</td>\n",
              "    </tr>\n",
              "    <tr>\n",
              "      <th>3</th>\n",
              "      <td>Joaquín</td>\n",
              "      <td>2111</td>\n",
              "      <td>2010</td>\n",
              "    </tr>\n",
              "    <tr>\n",
              "      <th>4</th>\n",
              "      <td>Juan Ignacio</td>\n",
              "      <td>2039</td>\n",
              "      <td>2010</td>\n",
              "    </tr>\n",
              "    <tr>\n",
              "      <th>...</th>\n",
              "      <td>...</td>\n",
              "      <td>...</td>\n",
              "      <td>...</td>\n",
              "    </tr>\n",
              "    <tr>\n",
              "      <th>871490</th>\n",
              "      <td>Isaias Sebastian Ariel</td>\n",
              "      <td>1</td>\n",
              "      <td>2014</td>\n",
              "    </tr>\n",
              "    <tr>\n",
              "      <th>871491</th>\n",
              "      <td>Yanira Valentina</td>\n",
              "      <td>1</td>\n",
              "      <td>2014</td>\n",
              "    </tr>\n",
              "    <tr>\n",
              "      <th>871492</th>\n",
              "      <td>Angie Ainara</td>\n",
              "      <td>1</td>\n",
              "      <td>2014</td>\n",
              "    </tr>\n",
              "    <tr>\n",
              "      <th>871493</th>\n",
              "      <td>Elias Hernando</td>\n",
              "      <td>1</td>\n",
              "      <td>2014</td>\n",
              "    </tr>\n",
              "    <tr>\n",
              "      <th>871494</th>\n",
              "      <td>Daenerys Stormborn of the House Targaryen, Fir...</td>\n",
              "      <td>100</td>\n",
              "      <td>2011</td>\n",
              "    </tr>\n",
              "  </tbody>\n",
              "</table>\n",
              "<p>871495 rows × 3 columns</p>\n",
              "</div>\n",
              "      <button class=\"colab-df-convert\" onclick=\"convertToInteractive('df-01d411a4-d6cd-4b82-b9ef-92b82e96f357')\"\n",
              "              title=\"Convert this dataframe to an interactive table.\"\n",
              "              style=\"display:none;\">\n",
              "        \n",
              "  <svg xmlns=\"http://www.w3.org/2000/svg\" height=\"24px\"viewBox=\"0 0 24 24\"\n",
              "       width=\"24px\">\n",
              "    <path d=\"M0 0h24v24H0V0z\" fill=\"none\"/>\n",
              "    <path d=\"M18.56 5.44l.94 2.06.94-2.06 2.06-.94-2.06-.94-.94-2.06-.94 2.06-2.06.94zm-11 1L8.5 8.5l.94-2.06 2.06-.94-2.06-.94L8.5 2.5l-.94 2.06-2.06.94zm10 10l.94 2.06.94-2.06 2.06-.94-2.06-.94-.94-2.06-.94 2.06-2.06.94z\"/><path d=\"M17.41 7.96l-1.37-1.37c-.4-.4-.92-.59-1.43-.59-.52 0-1.04.2-1.43.59L10.3 9.45l-7.72 7.72c-.78.78-.78 2.05 0 2.83L4 21.41c.39.39.9.59 1.41.59.51 0 1.02-.2 1.41-.59l7.78-7.78 2.81-2.81c.8-.78.8-2.07 0-2.86zM5.41 20L4 18.59l7.72-7.72 1.47 1.35L5.41 20z\"/>\n",
              "  </svg>\n",
              "      </button>\n",
              "      \n",
              "  <style>\n",
              "    .colab-df-container {\n",
              "      display:flex;\n",
              "      flex-wrap:wrap;\n",
              "      gap: 12px;\n",
              "    }\n",
              "\n",
              "    .colab-df-convert {\n",
              "      background-color: #E8F0FE;\n",
              "      border: none;\n",
              "      border-radius: 50%;\n",
              "      cursor: pointer;\n",
              "      display: none;\n",
              "      fill: #1967D2;\n",
              "      height: 32px;\n",
              "      padding: 0 0 0 0;\n",
              "      width: 32px;\n",
              "    }\n",
              "\n",
              "    .colab-df-convert:hover {\n",
              "      background-color: #E2EBFA;\n",
              "      box-shadow: 0px 1px 2px rgba(60, 64, 67, 0.3), 0px 1px 3px 1px rgba(60, 64, 67, 0.15);\n",
              "      fill: #174EA6;\n",
              "    }\n",
              "\n",
              "    [theme=dark] .colab-df-convert {\n",
              "      background-color: #3B4455;\n",
              "      fill: #D2E3FC;\n",
              "    }\n",
              "\n",
              "    [theme=dark] .colab-df-convert:hover {\n",
              "      background-color: #434B5C;\n",
              "      box-shadow: 0px 1px 3px 1px rgba(0, 0, 0, 0.15);\n",
              "      filter: drop-shadow(0px 1px 2px rgba(0, 0, 0, 0.3));\n",
              "      fill: #FFFFFF;\n",
              "    }\n",
              "  </style>\n",
              "\n",
              "      <script>\n",
              "        const buttonEl =\n",
              "          document.querySelector('#df-01d411a4-d6cd-4b82-b9ef-92b82e96f357 button.colab-df-convert');\n",
              "        buttonEl.style.display =\n",
              "          google.colab.kernel.accessAllowed ? 'block' : 'none';\n",
              "\n",
              "        async function convertToInteractive(key) {\n",
              "          const element = document.querySelector('#df-01d411a4-d6cd-4b82-b9ef-92b82e96f357');\n",
              "          const dataTable =\n",
              "            await google.colab.kernel.invokeFunction('convertToInteractive',\n",
              "                                                     [key], {});\n",
              "          if (!dataTable) return;\n",
              "\n",
              "          const docLinkHtml = 'Like what you see? Visit the ' +\n",
              "            '<a target=\"_blank\" href=https://colab.research.google.com/notebooks/data_table.ipynb>data table notebook</a>'\n",
              "            + ' to learn more about interactive tables.';\n",
              "          element.innerHTML = '';\n",
              "          dataTable['output_type'] = 'display_data';\n",
              "          await google.colab.output.renderOutput(dataTable, element);\n",
              "          const docLink = document.createElement('div');\n",
              "          docLink.innerHTML = docLinkHtml;\n",
              "          element.appendChild(docLink);\n",
              "        }\n",
              "      </script>\n",
              "    </div>\n",
              "  </div>\n",
              "  "
            ]
          },
          "metadata": {},
          "execution_count": 9
        }
      ],
      "source": [
        "new_name = {'name': \"Daenerys Stormborn of the House Targaryen, First of Her Name de ella, the Unburnt, Queen of the Andals and the First Men, Khaleesi of the Great Grass Sea, Breaker of Chains, and Mother of Dragons\",\n",
        "    'amount': 100,\n",
        "    'year': 2011}\n",
        "\n",
        "df_names = df_names.append(new_name, ignore_index=True)\n",
        "df_names"
      ]
    },
    {
      "cell_type": "markdown",
      "metadata": {
        "id": "vWsZ-dziQ4jR"
      },
      "source": [
        "**TODO:** Investigate the columns and index functions. What do they do? What data type is their output? What known data type do they resemble?"
      ]
    },
    {
      "cell_type": "code",
      "execution_count": 10,
      "metadata": {
        "id": "o-dDWiEvQ4jS",
        "outputId": "855a5b62-f8bf-4e4a-fa83-ae8afd1d8d76",
        "colab": {
          "base_uri": "https://localhost:8080/"
        }
      },
      "outputs": [
        {
          "output_type": "execute_result",
          "data": {
            "text/plain": [
              "RangeIndex(start=0, stop=871495, step=1)"
            ]
          },
          "metadata": {},
          "execution_count": 10
        }
      ],
      "source": [
        "# df_names.columns\n",
        "df_names.index"
      ]
    },
    {
      "cell_type": "markdown",
      "metadata": {
        "id": "Bc2XuM81Q4jS"
      },
      "source": [
        "**TODO:** What do the following operations do"
      ]
    },
    {
      "cell_type": "code",
      "execution_count": 11,
      "metadata": {
        "id": "gJRT9lrLQ4jT",
        "outputId": "340285c7-3bdf-499f-d53b-511f6829c421",
        "colab": {
          "base_uri": "https://localhost:8080/"
        }
      },
      "outputs": [
        {
          "output_type": "execute_result",
          "data": {
            "text/plain": [
              "0         2986\n",
              "1         2252\n",
              "2         2176\n",
              "3         2111\n",
              "4         2039\n",
              "          ... \n",
              "871490       1\n",
              "871491       1\n",
              "871492       1\n",
              "871493       1\n",
              "871494     100\n",
              "Name: amount, Length: 871495, dtype: int64"
            ]
          },
          "metadata": {},
          "execution_count": 11
        }
      ],
      "source": [
        "df_names['amount']\n",
        "# df_names[['year', 'name']]\n",
        "# df_names.year\n",
        "# 'name' in df_names"
      ]
    },
    {
      "cell_type": "markdown",
      "metadata": {
        "id": "HPpauF0KQ4jT"
      },
      "source": [
        "**TODO:** Add a column to the dataframe that corresponds to the number of characters in each name"
      ]
    },
    {
      "cell_type": "markdown",
      "metadata": {
        "id": "PC8qZUapQ4jT"
      },
      "source": [
        "## Add a new column"
      ]
    },
    {
      "cell_type": "code",
      "execution_count": 16,
      "metadata": {
        "id": "KIIicg1VQ4jU",
        "outputId": "b621de43-271e-40bb-8556-de3022aeb73a",
        "colab": {
          "base_uri": "https://localhost:8080/",
          "height": 423
        }
      },
      "outputs": [
        {
          "output_type": "execute_result",
          "data": {
            "text/plain": [
              "                                                     name  amount  year  \\\n",
              "0                                                Benjamin    2986  2010   \n",
              "1                                                   Sofia    2252  2010   \n",
              "2                                                Bautista    2176  2010   \n",
              "3                                                 Joaquín    2111  2010   \n",
              "4                                            Juan Ignacio    2039  2010   \n",
              "...                                                   ...     ...   ...   \n",
              "871490                             Isaias Sebastian Ariel       1  2014   \n",
              "871491                                   Yanira Valentina       1  2014   \n",
              "871492                                       Angie Ainara       1  2014   \n",
              "871493                                     Elias Hernando       1  2014   \n",
              "871494  Daenerys Stormborn of the House Targaryen, Fir...     100  2011   \n",
              "\n",
              "        amount_char  \n",
              "0                 8  \n",
              "1                 5  \n",
              "2                 8  \n",
              "3                 7  \n",
              "4                12  \n",
              "...             ...  \n",
              "871490           22  \n",
              "871491           16  \n",
              "871492           12  \n",
              "871493           14  \n",
              "871494          195  \n",
              "\n",
              "[871495 rows x 4 columns]"
            ],
            "text/html": [
              "\n",
              "  <div id=\"df-19147885-7260-4e8e-9c4b-f7b6c84b4224\">\n",
              "    <div class=\"colab-df-container\">\n",
              "      <div>\n",
              "<style scoped>\n",
              "    .dataframe tbody tr th:only-of-type {\n",
              "        vertical-align: middle;\n",
              "    }\n",
              "\n",
              "    .dataframe tbody tr th {\n",
              "        vertical-align: top;\n",
              "    }\n",
              "\n",
              "    .dataframe thead th {\n",
              "        text-align: right;\n",
              "    }\n",
              "</style>\n",
              "<table border=\"1\" class=\"dataframe\">\n",
              "  <thead>\n",
              "    <tr style=\"text-align: right;\">\n",
              "      <th></th>\n",
              "      <th>name</th>\n",
              "      <th>amount</th>\n",
              "      <th>year</th>\n",
              "      <th>amount_char</th>\n",
              "    </tr>\n",
              "  </thead>\n",
              "  <tbody>\n",
              "    <tr>\n",
              "      <th>0</th>\n",
              "      <td>Benjamin</td>\n",
              "      <td>2986</td>\n",
              "      <td>2010</td>\n",
              "      <td>8</td>\n",
              "    </tr>\n",
              "    <tr>\n",
              "      <th>1</th>\n",
              "      <td>Sofia</td>\n",
              "      <td>2252</td>\n",
              "      <td>2010</td>\n",
              "      <td>5</td>\n",
              "    </tr>\n",
              "    <tr>\n",
              "      <th>2</th>\n",
              "      <td>Bautista</td>\n",
              "      <td>2176</td>\n",
              "      <td>2010</td>\n",
              "      <td>8</td>\n",
              "    </tr>\n",
              "    <tr>\n",
              "      <th>3</th>\n",
              "      <td>Joaquín</td>\n",
              "      <td>2111</td>\n",
              "      <td>2010</td>\n",
              "      <td>7</td>\n",
              "    </tr>\n",
              "    <tr>\n",
              "      <th>4</th>\n",
              "      <td>Juan Ignacio</td>\n",
              "      <td>2039</td>\n",
              "      <td>2010</td>\n",
              "      <td>12</td>\n",
              "    </tr>\n",
              "    <tr>\n",
              "      <th>...</th>\n",
              "      <td>...</td>\n",
              "      <td>...</td>\n",
              "      <td>...</td>\n",
              "      <td>...</td>\n",
              "    </tr>\n",
              "    <tr>\n",
              "      <th>871490</th>\n",
              "      <td>Isaias Sebastian Ariel</td>\n",
              "      <td>1</td>\n",
              "      <td>2014</td>\n",
              "      <td>22</td>\n",
              "    </tr>\n",
              "    <tr>\n",
              "      <th>871491</th>\n",
              "      <td>Yanira Valentina</td>\n",
              "      <td>1</td>\n",
              "      <td>2014</td>\n",
              "      <td>16</td>\n",
              "    </tr>\n",
              "    <tr>\n",
              "      <th>871492</th>\n",
              "      <td>Angie Ainara</td>\n",
              "      <td>1</td>\n",
              "      <td>2014</td>\n",
              "      <td>12</td>\n",
              "    </tr>\n",
              "    <tr>\n",
              "      <th>871493</th>\n",
              "      <td>Elias Hernando</td>\n",
              "      <td>1</td>\n",
              "      <td>2014</td>\n",
              "      <td>14</td>\n",
              "    </tr>\n",
              "    <tr>\n",
              "      <th>871494</th>\n",
              "      <td>Daenerys Stormborn of the House Targaryen, Fir...</td>\n",
              "      <td>100</td>\n",
              "      <td>2011</td>\n",
              "      <td>195</td>\n",
              "    </tr>\n",
              "  </tbody>\n",
              "</table>\n",
              "<p>871495 rows × 4 columns</p>\n",
              "</div>\n",
              "      <button class=\"colab-df-convert\" onclick=\"convertToInteractive('df-19147885-7260-4e8e-9c4b-f7b6c84b4224')\"\n",
              "              title=\"Convert this dataframe to an interactive table.\"\n",
              "              style=\"display:none;\">\n",
              "        \n",
              "  <svg xmlns=\"http://www.w3.org/2000/svg\" height=\"24px\"viewBox=\"0 0 24 24\"\n",
              "       width=\"24px\">\n",
              "    <path d=\"M0 0h24v24H0V0z\" fill=\"none\"/>\n",
              "    <path d=\"M18.56 5.44l.94 2.06.94-2.06 2.06-.94-2.06-.94-.94-2.06-.94 2.06-2.06.94zm-11 1L8.5 8.5l.94-2.06 2.06-.94-2.06-.94L8.5 2.5l-.94 2.06-2.06.94zm10 10l.94 2.06.94-2.06 2.06-.94-2.06-.94-.94-2.06-.94 2.06-2.06.94z\"/><path d=\"M17.41 7.96l-1.37-1.37c-.4-.4-.92-.59-1.43-.59-.52 0-1.04.2-1.43.59L10.3 9.45l-7.72 7.72c-.78.78-.78 2.05 0 2.83L4 21.41c.39.39.9.59 1.41.59.51 0 1.02-.2 1.41-.59l7.78-7.78 2.81-2.81c.8-.78.8-2.07 0-2.86zM5.41 20L4 18.59l7.72-7.72 1.47 1.35L5.41 20z\"/>\n",
              "  </svg>\n",
              "      </button>\n",
              "      \n",
              "  <style>\n",
              "    .colab-df-container {\n",
              "      display:flex;\n",
              "      flex-wrap:wrap;\n",
              "      gap: 12px;\n",
              "    }\n",
              "\n",
              "    .colab-df-convert {\n",
              "      background-color: #E8F0FE;\n",
              "      border: none;\n",
              "      border-radius: 50%;\n",
              "      cursor: pointer;\n",
              "      display: none;\n",
              "      fill: #1967D2;\n",
              "      height: 32px;\n",
              "      padding: 0 0 0 0;\n",
              "      width: 32px;\n",
              "    }\n",
              "\n",
              "    .colab-df-convert:hover {\n",
              "      background-color: #E2EBFA;\n",
              "      box-shadow: 0px 1px 2px rgba(60, 64, 67, 0.3), 0px 1px 3px 1px rgba(60, 64, 67, 0.15);\n",
              "      fill: #174EA6;\n",
              "    }\n",
              "\n",
              "    [theme=dark] .colab-df-convert {\n",
              "      background-color: #3B4455;\n",
              "      fill: #D2E3FC;\n",
              "    }\n",
              "\n",
              "    [theme=dark] .colab-df-convert:hover {\n",
              "      background-color: #434B5C;\n",
              "      box-shadow: 0px 1px 3px 1px rgba(0, 0, 0, 0.15);\n",
              "      filter: drop-shadow(0px 1px 2px rgba(0, 0, 0, 0.3));\n",
              "      fill: #FFFFFF;\n",
              "    }\n",
              "  </style>\n",
              "\n",
              "      <script>\n",
              "        const buttonEl =\n",
              "          document.querySelector('#df-19147885-7260-4e8e-9c4b-f7b6c84b4224 button.colab-df-convert');\n",
              "        buttonEl.style.display =\n",
              "          google.colab.kernel.accessAllowed ? 'block' : 'none';\n",
              "\n",
              "        async function convertToInteractive(key) {\n",
              "          const element = document.querySelector('#df-19147885-7260-4e8e-9c4b-f7b6c84b4224');\n",
              "          const dataTable =\n",
              "            await google.colab.kernel.invokeFunction('convertToInteractive',\n",
              "                                                     [key], {});\n",
              "          if (!dataTable) return;\n",
              "\n",
              "          const docLinkHtml = 'Like what you see? Visit the ' +\n",
              "            '<a target=\"_blank\" href=https://colab.research.google.com/notebooks/data_table.ipynb>data table notebook</a>'\n",
              "            + ' to learn more about interactive tables.';\n",
              "          element.innerHTML = '';\n",
              "          dataTable['output_type'] = 'display_data';\n",
              "          await google.colab.output.renderOutput(dataTable, element);\n",
              "          const docLink = document.createElement('div');\n",
              "          docLink.innerHTML = docLinkHtml;\n",
              "          element.appendChild(docLink);\n",
              "        }\n",
              "      </script>\n",
              "    </div>\n",
              "  </div>\n",
              "  "
            ]
          },
          "metadata": {},
          "execution_count": 16
        }
      ],
      "source": [
        "df_names['amount_char'] = df_names['name'].str.len()\n",
        "df_names"
      ]
    },
    {
      "cell_type": "markdown",
      "metadata": {
        "id": "RDKEXbxhQ4jU"
      },
      "source": [
        "## Filtering by mask\n",
        "\n",
        "Its implementation is very similar in both NumPy and Pandas, so we will see how to do it first in NumPy then in Pandas.\n",
        "\n",
        "Suppose we make 100 rolls of a dice, but we want to select only those rolls that were less than four. How can we do it?"
      ]
    },
    {
      "cell_type": "code",
      "execution_count": 38,
      "metadata": {
        "id": "6pRyLFwTQ4jV",
        "outputId": "6a168df1-0432-4b54-b9cb-94707db46b9f",
        "colab": {
          "base_uri": "https://localhost:8080/"
        }
      },
      "outputs": [
        {
          "output_type": "stream",
          "name": "stdout",
          "text": [
            "[4 4 5 4 5 6 2 5 6 5 6 1 4 2 2 3 6 6 2 2 5 3 4 2 2 3 4 3 3 5 2 2 3 4 1 1 5\n",
            " 5 6 5 6 4 1 3 2 4 5 5 2 1 6 5 3 6 2 5 3 2 5 5 1 1 6 6 5 2 5 6 2 3 3 2 2 4\n",
            " 1 1 5 1 4 2 1 3 1 3 3 1 5 4 1 2 2 5 6 5 2 4 6 5 5 2]\n"
          ]
        }
      ],
      "source": [
        "dice = np.random.randint(1, 7, size=100)\n",
        "print(dice)"
      ]
    },
    {
      "cell_type": "markdown",
      "metadata": {
        "id": "fsZjUzBAQ4jW"
      },
      "source": [
        "What we can do is create a mask:"
      ]
    },
    {
      "cell_type": "code",
      "execution_count": 39,
      "metadata": {
        "id": "xar0AoOSQ4jW",
        "outputId": "8cedd4a7-55b6-4b50-8569-afc3f6e616f6",
        "colab": {
          "base_uri": "https://localhost:8080/"
        }
      },
      "outputs": [
        {
          "output_type": "stream",
          "name": "stdout",
          "text": [
            "<class 'numpy.ndarray'>\n"
          ]
        }
      ],
      "source": [
        "a = dice > 3\n",
        "# print(a)\n",
        "print(type(a))"
      ]
    },
    {
      "cell_type": "code",
      "execution_count": 40,
      "metadata": {
        "id": "Iahv1gBrQ4jW",
        "outputId": "91c58676-af68-44b4-844b-5c0b326d567e",
        "colab": {
          "base_uri": "https://localhost:8080/"
        }
      },
      "outputs": [
        {
          "output_type": "stream",
          "name": "stdout",
          "text": [
            "[4 4 5 4 5 6 5 6 5 6 4 6 6 5 4 4 5 4 5 5 6 5 6 4 4 5 5 6 5 6 5 5 5 6 6 5 5\n",
            " 6 4 5 4 5 4 5 6 5 4 6 5 5]\n",
            "50\n"
          ]
        }
      ],
      "source": [
        "print(dice[a])\n",
        "b = 100 - len(dice[a])\n",
        "print(b)\n",
        "# dice = dice[a]"
      ]
    },
    {
      "cell_type": "code",
      "execution_count": 41,
      "metadata": {
        "id": "H0e40JjmQ4jX",
        "outputId": "eb8b8ddf-185e-4977-cfc1-65bdaf94946d",
        "colab": {
          "base_uri": "https://localhost:8080/"
        }
      },
      "outputs": [
        {
          "output_type": "stream",
          "name": "stdout",
          "text": [
            "351\n"
          ]
        }
      ],
      "source": [
        "print(dice.sum())"
      ]
    },
    {
      "cell_type": "code",
      "execution_count": 42,
      "metadata": {
        "id": "1RsauVufQ4jX",
        "outputId": "31f2d611-b19f-49b8-ad2b-37938dbaee89",
        "colab": {
          "base_uri": "https://localhost:8080/"
        }
      },
      "outputs": [
        {
          "output_type": "stream",
          "name": "stdout",
          "text": [
            "[4 4 5 4 5 6 5 6 5 6 4 6 6 5 4 4 5 4 5 5 6 5 6 4 4 5 5 6 5 6 5 5 5 6 6 5 5\n",
            " 6 4 5 4 5 4 5 6 5 4 6 5 5]\n"
          ]
        }
      ],
      "source": [
        "print(dice[dice > 3])"
      ]
    },
    {
      "cell_type": "markdown",
      "metadata": {
        "id": "Ug5EdAFiQ4jX"
      },
      "source": [
        "**TODO:** Going back to our dataset, suppose we want to keep those names that were repeated more than 2000 times"
      ]
    },
    {
      "cell_type": "code",
      "execution_count": 49,
      "metadata": {
        "id": "88FRrCo6Q4jY",
        "scrolled": true,
        "outputId": "84937505-edc7-4dd8-8553-adead10c4fff",
        "colab": {
          "base_uri": "https://localhost:8080/"
        }
      },
      "outputs": [
        {
          "output_type": "stream",
          "name": "stdout",
          "text": [
            "<class 'pandas.core.frame.DataFrame'>\n",
            "Int64Index: 60 entries, 0 to 662404\n",
            "Data columns (total 4 columns):\n",
            " #   Column       Non-Null Count  Dtype \n",
            "---  ------       --------------  ----- \n",
            " 0   name         60 non-null     object\n",
            " 1   amount       60 non-null     int64 \n",
            " 2   year         60 non-null     int64 \n",
            " 3   amount_char  60 non-null     int64 \n",
            "dtypes: int64(3), object(1)\n",
            "memory usage: 2.3+ KB\n"
          ]
        }
      ],
      "source": [
        "mu = df_names['amount'] > 2000\n",
        "#print(df_names[   df_names['amount'] > 2000]     )\n",
        "new_df = df_names[df_names['amount'] > 2000]\n",
        "#print(mu)\n",
        "new_df.info()"
      ]
    },
    {
      "cell_type": "markdown",
      "metadata": {
        "id": "Ojll_QyOQ4jY"
      },
      "source": [
        "**TODO:** What if we want to select those names with more than 8 letters and from 2010 onwards?"
      ]
    },
    {
      "cell_type": "code",
      "execution_count": 48,
      "metadata": {
        "id": "ZljRV67DQ4jY",
        "outputId": "02840072-d03e-4793-ff70-2f0c13d129a2",
        "colab": {
          "base_uri": "https://localhost:8080/"
        }
      },
      "outputs": [
        {
          "output_type": "stream",
          "name": "stdout",
          "text": [
            "                   name  amount  year  amount_char\n",
            "254439     Juan Ignacio    2632  2012           12\n",
            "254440        Valentina    2564  2012            9\n",
            "254441        Valentino    2514  2012            9\n",
            "457926        Francisco    2455  2013            9\n",
            "457927       Valentina     2450  2013           10\n",
            "457929        Valentino    2298  2013            9\n",
            "457930     Juan Ignacio    2198  2013           12\n",
            "457931  Thiago Benjamin    2107  2013           15\n",
            "662393        Valentino    2702  2014            9\n",
            "662398        Valentina    2432  2014            9\n",
            "662401     Juan Ignacio    2260  2014           12\n",
            "662403        Francisco    2140  2014            9\n"
          ]
        }
      ],
      "source": [
        "mu = df_names['amount'] > 2000\n",
        "mu1 = df_names['year'] != 2010\n",
        "mu2 = df_names['amount_char'] > 8\n",
        "\n",
        "print(df_names[mu & mu1 & mu2])"
      ]
    },
    {
      "cell_type": "markdown",
      "metadata": {
        "id": "XEwO0yB4Q4jZ"
      },
      "source": [
        "## Statistics"
      ]
    },
    {
      "cell_type": "markdown",
      "metadata": {
        "id": "YIkIyU8IQ4jZ"
      },
      "source": [
        "**TODO:** Obtain the mean value and standard deviation of each numeric column. Is there a function in Pandas that will give us even more statistics?"
      ]
    },
    {
      "cell_type": "code",
      "execution_count": 50,
      "metadata": {
        "id": "G3GLbtlYQ4jZ",
        "outputId": "8b837db9-ef25-4b83-a982-4a1a7c30fa66",
        "colab": {
          "base_uri": "https://localhost:8080/",
          "height": 300
        }
      },
      "outputs": [
        {
          "output_type": "execute_result",
          "data": {
            "text/plain": [
              "              amount           year    amount_char\n",
              "count  871495.000000  871495.000000  871495.000000\n",
              "mean        4.278334    2012.267646      14.357074\n",
              "std        34.615844       1.370918       3.677649\n",
              "min         1.000000    2010.000000       2.000000\n",
              "25%         1.000000    2011.000000      12.000000\n",
              "50%         1.000000    2012.000000      14.000000\n",
              "75%         2.000000    2013.000000      16.000000\n",
              "max      4960.000000    2014.000000     195.000000"
            ],
            "text/html": [
              "\n",
              "  <div id=\"df-138e2525-8aa1-4f28-98bd-92e9b48289cb\">\n",
              "    <div class=\"colab-df-container\">\n",
              "      <div>\n",
              "<style scoped>\n",
              "    .dataframe tbody tr th:only-of-type {\n",
              "        vertical-align: middle;\n",
              "    }\n",
              "\n",
              "    .dataframe tbody tr th {\n",
              "        vertical-align: top;\n",
              "    }\n",
              "\n",
              "    .dataframe thead th {\n",
              "        text-align: right;\n",
              "    }\n",
              "</style>\n",
              "<table border=\"1\" class=\"dataframe\">\n",
              "  <thead>\n",
              "    <tr style=\"text-align: right;\">\n",
              "      <th></th>\n",
              "      <th>amount</th>\n",
              "      <th>year</th>\n",
              "      <th>amount_char</th>\n",
              "    </tr>\n",
              "  </thead>\n",
              "  <tbody>\n",
              "    <tr>\n",
              "      <th>count</th>\n",
              "      <td>871495.000000</td>\n",
              "      <td>871495.000000</td>\n",
              "      <td>871495.000000</td>\n",
              "    </tr>\n",
              "    <tr>\n",
              "      <th>mean</th>\n",
              "      <td>4.278334</td>\n",
              "      <td>2012.267646</td>\n",
              "      <td>14.357074</td>\n",
              "    </tr>\n",
              "    <tr>\n",
              "      <th>std</th>\n",
              "      <td>34.615844</td>\n",
              "      <td>1.370918</td>\n",
              "      <td>3.677649</td>\n",
              "    </tr>\n",
              "    <tr>\n",
              "      <th>min</th>\n",
              "      <td>1.000000</td>\n",
              "      <td>2010.000000</td>\n",
              "      <td>2.000000</td>\n",
              "    </tr>\n",
              "    <tr>\n",
              "      <th>25%</th>\n",
              "      <td>1.000000</td>\n",
              "      <td>2011.000000</td>\n",
              "      <td>12.000000</td>\n",
              "    </tr>\n",
              "    <tr>\n",
              "      <th>50%</th>\n",
              "      <td>1.000000</td>\n",
              "      <td>2012.000000</td>\n",
              "      <td>14.000000</td>\n",
              "    </tr>\n",
              "    <tr>\n",
              "      <th>75%</th>\n",
              "      <td>2.000000</td>\n",
              "      <td>2013.000000</td>\n",
              "      <td>16.000000</td>\n",
              "    </tr>\n",
              "    <tr>\n",
              "      <th>max</th>\n",
              "      <td>4960.000000</td>\n",
              "      <td>2014.000000</td>\n",
              "      <td>195.000000</td>\n",
              "    </tr>\n",
              "  </tbody>\n",
              "</table>\n",
              "</div>\n",
              "      <button class=\"colab-df-convert\" onclick=\"convertToInteractive('df-138e2525-8aa1-4f28-98bd-92e9b48289cb')\"\n",
              "              title=\"Convert this dataframe to an interactive table.\"\n",
              "              style=\"display:none;\">\n",
              "        \n",
              "  <svg xmlns=\"http://www.w3.org/2000/svg\" height=\"24px\"viewBox=\"0 0 24 24\"\n",
              "       width=\"24px\">\n",
              "    <path d=\"M0 0h24v24H0V0z\" fill=\"none\"/>\n",
              "    <path d=\"M18.56 5.44l.94 2.06.94-2.06 2.06-.94-2.06-.94-.94-2.06-.94 2.06-2.06.94zm-11 1L8.5 8.5l.94-2.06 2.06-.94-2.06-.94L8.5 2.5l-.94 2.06-2.06.94zm10 10l.94 2.06.94-2.06 2.06-.94-2.06-.94-.94-2.06-.94 2.06-2.06.94z\"/><path d=\"M17.41 7.96l-1.37-1.37c-.4-.4-.92-.59-1.43-.59-.52 0-1.04.2-1.43.59L10.3 9.45l-7.72 7.72c-.78.78-.78 2.05 0 2.83L4 21.41c.39.39.9.59 1.41.59.51 0 1.02-.2 1.41-.59l7.78-7.78 2.81-2.81c.8-.78.8-2.07 0-2.86zM5.41 20L4 18.59l7.72-7.72 1.47 1.35L5.41 20z\"/>\n",
              "  </svg>\n",
              "      </button>\n",
              "      \n",
              "  <style>\n",
              "    .colab-df-container {\n",
              "      display:flex;\n",
              "      flex-wrap:wrap;\n",
              "      gap: 12px;\n",
              "    }\n",
              "\n",
              "    .colab-df-convert {\n",
              "      background-color: #E8F0FE;\n",
              "      border: none;\n",
              "      border-radius: 50%;\n",
              "      cursor: pointer;\n",
              "      display: none;\n",
              "      fill: #1967D2;\n",
              "      height: 32px;\n",
              "      padding: 0 0 0 0;\n",
              "      width: 32px;\n",
              "    }\n",
              "\n",
              "    .colab-df-convert:hover {\n",
              "      background-color: #E2EBFA;\n",
              "      box-shadow: 0px 1px 2px rgba(60, 64, 67, 0.3), 0px 1px 3px 1px rgba(60, 64, 67, 0.15);\n",
              "      fill: #174EA6;\n",
              "    }\n",
              "\n",
              "    [theme=dark] .colab-df-convert {\n",
              "      background-color: #3B4455;\n",
              "      fill: #D2E3FC;\n",
              "    }\n",
              "\n",
              "    [theme=dark] .colab-df-convert:hover {\n",
              "      background-color: #434B5C;\n",
              "      box-shadow: 0px 1px 3px 1px rgba(0, 0, 0, 0.15);\n",
              "      filter: drop-shadow(0px 1px 2px rgba(0, 0, 0, 0.3));\n",
              "      fill: #FFFFFF;\n",
              "    }\n",
              "  </style>\n",
              "\n",
              "      <script>\n",
              "        const buttonEl =\n",
              "          document.querySelector('#df-138e2525-8aa1-4f28-98bd-92e9b48289cb button.colab-df-convert');\n",
              "        buttonEl.style.display =\n",
              "          google.colab.kernel.accessAllowed ? 'block' : 'none';\n",
              "\n",
              "        async function convertToInteractive(key) {\n",
              "          const element = document.querySelector('#df-138e2525-8aa1-4f28-98bd-92e9b48289cb');\n",
              "          const dataTable =\n",
              "            await google.colab.kernel.invokeFunction('convertToInteractive',\n",
              "                                                     [key], {});\n",
              "          if (!dataTable) return;\n",
              "\n",
              "          const docLinkHtml = 'Like what you see? Visit the ' +\n",
              "            '<a target=\"_blank\" href=https://colab.research.google.com/notebooks/data_table.ipynb>data table notebook</a>'\n",
              "            + ' to learn more about interactive tables.';\n",
              "          element.innerHTML = '';\n",
              "          dataTable['output_type'] = 'display_data';\n",
              "          await google.colab.output.renderOutput(dataTable, element);\n",
              "          const docLink = document.createElement('div');\n",
              "          docLink.innerHTML = docLinkHtml;\n",
              "          element.appendChild(docLink);\n",
              "        }\n",
              "      </script>\n",
              "    </div>\n",
              "  </div>\n",
              "  "
            ]
          },
          "metadata": {},
          "execution_count": 50
        }
      ],
      "source": [
        "df_names.describe()"
      ]
    },
    {
      "cell_type": "markdown",
      "metadata": {
        "id": "x9vfcdK0Q4jZ"
      },
      "source": [
        "## Delete a column"
      ]
    },
    {
      "cell_type": "markdown",
      "metadata": {
        "id": "LqOMcrjHQ4ja"
      },
      "source": [
        "**TODO:** Throw the column amount_chars."
      ]
    },
    {
      "cell_type": "code",
      "execution_count": 54,
      "metadata": {
        "id": "B1EhPSujQ4ja"
      },
      "outputs": [],
      "source": [
        "df_names = df_names.drop(axis=1, columns=['amount_char'])"
      ]
    },
    {
      "cell_type": "code",
      "source": [
        "df_names"
      ],
      "metadata": {
        "id": "hfdA7QS53BYP",
        "outputId": "8e3fee2e-bc15-41f7-8847-656dd5fe0d05",
        "colab": {
          "base_uri": "https://localhost:8080/",
          "height": 423
        }
      },
      "execution_count": 55,
      "outputs": [
        {
          "output_type": "execute_result",
          "data": {
            "text/plain": [
              "                                                     name  amount  year\n",
              "0                                                Benjamin    2986  2010\n",
              "1                                                   Sofia    2252  2010\n",
              "2                                                Bautista    2176  2010\n",
              "3                                                 Joaquín    2111  2010\n",
              "4                                            Juan Ignacio    2039  2010\n",
              "...                                                   ...     ...   ...\n",
              "871490                             Isaias Sebastian Ariel       1  2014\n",
              "871491                                   Yanira Valentina       1  2014\n",
              "871492                                       Angie Ainara       1  2014\n",
              "871493                                     Elias Hernando       1  2014\n",
              "871494  Daenerys Stormborn of the House Targaryen, Fir...     100  2011\n",
              "\n",
              "[871495 rows x 3 columns]"
            ],
            "text/html": [
              "\n",
              "  <div id=\"df-f4a344b7-edbc-4137-a8a7-fd81737a53c6\">\n",
              "    <div class=\"colab-df-container\">\n",
              "      <div>\n",
              "<style scoped>\n",
              "    .dataframe tbody tr th:only-of-type {\n",
              "        vertical-align: middle;\n",
              "    }\n",
              "\n",
              "    .dataframe tbody tr th {\n",
              "        vertical-align: top;\n",
              "    }\n",
              "\n",
              "    .dataframe thead th {\n",
              "        text-align: right;\n",
              "    }\n",
              "</style>\n",
              "<table border=\"1\" class=\"dataframe\">\n",
              "  <thead>\n",
              "    <tr style=\"text-align: right;\">\n",
              "      <th></th>\n",
              "      <th>name</th>\n",
              "      <th>amount</th>\n",
              "      <th>year</th>\n",
              "    </tr>\n",
              "  </thead>\n",
              "  <tbody>\n",
              "    <tr>\n",
              "      <th>0</th>\n",
              "      <td>Benjamin</td>\n",
              "      <td>2986</td>\n",
              "      <td>2010</td>\n",
              "    </tr>\n",
              "    <tr>\n",
              "      <th>1</th>\n",
              "      <td>Sofia</td>\n",
              "      <td>2252</td>\n",
              "      <td>2010</td>\n",
              "    </tr>\n",
              "    <tr>\n",
              "      <th>2</th>\n",
              "      <td>Bautista</td>\n",
              "      <td>2176</td>\n",
              "      <td>2010</td>\n",
              "    </tr>\n",
              "    <tr>\n",
              "      <th>3</th>\n",
              "      <td>Joaquín</td>\n",
              "      <td>2111</td>\n",
              "      <td>2010</td>\n",
              "    </tr>\n",
              "    <tr>\n",
              "      <th>4</th>\n",
              "      <td>Juan Ignacio</td>\n",
              "      <td>2039</td>\n",
              "      <td>2010</td>\n",
              "    </tr>\n",
              "    <tr>\n",
              "      <th>...</th>\n",
              "      <td>...</td>\n",
              "      <td>...</td>\n",
              "      <td>...</td>\n",
              "    </tr>\n",
              "    <tr>\n",
              "      <th>871490</th>\n",
              "      <td>Isaias Sebastian Ariel</td>\n",
              "      <td>1</td>\n",
              "      <td>2014</td>\n",
              "    </tr>\n",
              "    <tr>\n",
              "      <th>871491</th>\n",
              "      <td>Yanira Valentina</td>\n",
              "      <td>1</td>\n",
              "      <td>2014</td>\n",
              "    </tr>\n",
              "    <tr>\n",
              "      <th>871492</th>\n",
              "      <td>Angie Ainara</td>\n",
              "      <td>1</td>\n",
              "      <td>2014</td>\n",
              "    </tr>\n",
              "    <tr>\n",
              "      <th>871493</th>\n",
              "      <td>Elias Hernando</td>\n",
              "      <td>1</td>\n",
              "      <td>2014</td>\n",
              "    </tr>\n",
              "    <tr>\n",
              "      <th>871494</th>\n",
              "      <td>Daenerys Stormborn of the House Targaryen, Fir...</td>\n",
              "      <td>100</td>\n",
              "      <td>2011</td>\n",
              "    </tr>\n",
              "  </tbody>\n",
              "</table>\n",
              "<p>871495 rows × 3 columns</p>\n",
              "</div>\n",
              "      <button class=\"colab-df-convert\" onclick=\"convertToInteractive('df-f4a344b7-edbc-4137-a8a7-fd81737a53c6')\"\n",
              "              title=\"Convert this dataframe to an interactive table.\"\n",
              "              style=\"display:none;\">\n",
              "        \n",
              "  <svg xmlns=\"http://www.w3.org/2000/svg\" height=\"24px\"viewBox=\"0 0 24 24\"\n",
              "       width=\"24px\">\n",
              "    <path d=\"M0 0h24v24H0V0z\" fill=\"none\"/>\n",
              "    <path d=\"M18.56 5.44l.94 2.06.94-2.06 2.06-.94-2.06-.94-.94-2.06-.94 2.06-2.06.94zm-11 1L8.5 8.5l.94-2.06 2.06-.94-2.06-.94L8.5 2.5l-.94 2.06-2.06.94zm10 10l.94 2.06.94-2.06 2.06-.94-2.06-.94-.94-2.06-.94 2.06-2.06.94z\"/><path d=\"M17.41 7.96l-1.37-1.37c-.4-.4-.92-.59-1.43-.59-.52 0-1.04.2-1.43.59L10.3 9.45l-7.72 7.72c-.78.78-.78 2.05 0 2.83L4 21.41c.39.39.9.59 1.41.59.51 0 1.02-.2 1.41-.59l7.78-7.78 2.81-2.81c.8-.78.8-2.07 0-2.86zM5.41 20L4 18.59l7.72-7.72 1.47 1.35L5.41 20z\"/>\n",
              "  </svg>\n",
              "      </button>\n",
              "      \n",
              "  <style>\n",
              "    .colab-df-container {\n",
              "      display:flex;\n",
              "      flex-wrap:wrap;\n",
              "      gap: 12px;\n",
              "    }\n",
              "\n",
              "    .colab-df-convert {\n",
              "      background-color: #E8F0FE;\n",
              "      border: none;\n",
              "      border-radius: 50%;\n",
              "      cursor: pointer;\n",
              "      display: none;\n",
              "      fill: #1967D2;\n",
              "      height: 32px;\n",
              "      padding: 0 0 0 0;\n",
              "      width: 32px;\n",
              "    }\n",
              "\n",
              "    .colab-df-convert:hover {\n",
              "      background-color: #E2EBFA;\n",
              "      box-shadow: 0px 1px 2px rgba(60, 64, 67, 0.3), 0px 1px 3px 1px rgba(60, 64, 67, 0.15);\n",
              "      fill: #174EA6;\n",
              "    }\n",
              "\n",
              "    [theme=dark] .colab-df-convert {\n",
              "      background-color: #3B4455;\n",
              "      fill: #D2E3FC;\n",
              "    }\n",
              "\n",
              "    [theme=dark] .colab-df-convert:hover {\n",
              "      background-color: #434B5C;\n",
              "      box-shadow: 0px 1px 3px 1px rgba(0, 0, 0, 0.15);\n",
              "      filter: drop-shadow(0px 1px 2px rgba(0, 0, 0, 0.3));\n",
              "      fill: #FFFFFF;\n",
              "    }\n",
              "  </style>\n",
              "\n",
              "      <script>\n",
              "        const buttonEl =\n",
              "          document.querySelector('#df-f4a344b7-edbc-4137-a8a7-fd81737a53c6 button.colab-df-convert');\n",
              "        buttonEl.style.display =\n",
              "          google.colab.kernel.accessAllowed ? 'block' : 'none';\n",
              "\n",
              "        async function convertToInteractive(key) {\n",
              "          const element = document.querySelector('#df-f4a344b7-edbc-4137-a8a7-fd81737a53c6');\n",
              "          const dataTable =\n",
              "            await google.colab.kernel.invokeFunction('convertToInteractive',\n",
              "                                                     [key], {});\n",
              "          if (!dataTable) return;\n",
              "\n",
              "          const docLinkHtml = 'Like what you see? Visit the ' +\n",
              "            '<a target=\"_blank\" href=https://colab.research.google.com/notebooks/data_table.ipynb>data table notebook</a>'\n",
              "            + ' to learn more about interactive tables.';\n",
              "          element.innerHTML = '';\n",
              "          dataTable['output_type'] = 'display_data';\n",
              "          await google.colab.output.renderOutput(dataTable, element);\n",
              "          const docLink = document.createElement('div');\n",
              "          docLink.innerHTML = docLinkHtml;\n",
              "          element.appendChild(docLink);\n",
              "        }\n",
              "      </script>\n",
              "    </div>\n",
              "  </div>\n",
              "  "
            ]
          },
          "metadata": {},
          "execution_count": 55
        }
      ]
    },
    {
      "cell_type": "markdown",
      "metadata": {
        "id": "XE195QIAQ4ja"
      },
      "source": [
        "## Sorting by column"
      ]
    },
    {
      "cell_type": "markdown",
      "metadata": {
        "id": "GudaIbBhQ4ja"
      },
      "source": [
        "**TODO:** Sort the dataframe by amount and descending"
      ]
    },
    {
      "cell_type": "code",
      "execution_count": 59,
      "metadata": {
        "id": "wbH-kHiRQ4jb",
        "outputId": "bc012a26-bad3-4700-eee5-45b9dfc32653",
        "colab": {
          "base_uri": "https://localhost:8080/",
          "height": 423
        }
      },
      "outputs": [
        {
          "output_type": "execute_result",
          "data": {
            "text/plain": [
              "                         name  amount  year\n",
              "457917               Benjamin    4960  2013\n",
              "254431               Benjamin    4724  2012\n",
              "662387               Benjamin    4286  2014\n",
              "457918               Isabella    3587  2013\n",
              "662388                Martina    3563  2014\n",
              "...                       ...     ...   ...\n",
              "387497   Abraham Jose Emanuel       1  2012\n",
              "387498          Yeison Dionel       1  2012\n",
              "387499          Sherin Luisel       1  2012\n",
              "387500  Antuan Hernán William       1  2012\n",
              "435747           YazmÍn Zaira       1  2012\n",
              "\n",
              "[871495 rows x 3 columns]"
            ],
            "text/html": [
              "\n",
              "  <div id=\"df-478c423b-35d9-48f3-bb68-fd131c84ad2e\">\n",
              "    <div class=\"colab-df-container\">\n",
              "      <div>\n",
              "<style scoped>\n",
              "    .dataframe tbody tr th:only-of-type {\n",
              "        vertical-align: middle;\n",
              "    }\n",
              "\n",
              "    .dataframe tbody tr th {\n",
              "        vertical-align: top;\n",
              "    }\n",
              "\n",
              "    .dataframe thead th {\n",
              "        text-align: right;\n",
              "    }\n",
              "</style>\n",
              "<table border=\"1\" class=\"dataframe\">\n",
              "  <thead>\n",
              "    <tr style=\"text-align: right;\">\n",
              "      <th></th>\n",
              "      <th>name</th>\n",
              "      <th>amount</th>\n",
              "      <th>year</th>\n",
              "    </tr>\n",
              "  </thead>\n",
              "  <tbody>\n",
              "    <tr>\n",
              "      <th>457917</th>\n",
              "      <td>Benjamin</td>\n",
              "      <td>4960</td>\n",
              "      <td>2013</td>\n",
              "    </tr>\n",
              "    <tr>\n",
              "      <th>254431</th>\n",
              "      <td>Benjamin</td>\n",
              "      <td>4724</td>\n",
              "      <td>2012</td>\n",
              "    </tr>\n",
              "    <tr>\n",
              "      <th>662387</th>\n",
              "      <td>Benjamin</td>\n",
              "      <td>4286</td>\n",
              "      <td>2014</td>\n",
              "    </tr>\n",
              "    <tr>\n",
              "      <th>457918</th>\n",
              "      <td>Isabella</td>\n",
              "      <td>3587</td>\n",
              "      <td>2013</td>\n",
              "    </tr>\n",
              "    <tr>\n",
              "      <th>662388</th>\n",
              "      <td>Martina</td>\n",
              "      <td>3563</td>\n",
              "      <td>2014</td>\n",
              "    </tr>\n",
              "    <tr>\n",
              "      <th>...</th>\n",
              "      <td>...</td>\n",
              "      <td>...</td>\n",
              "      <td>...</td>\n",
              "    </tr>\n",
              "    <tr>\n",
              "      <th>387497</th>\n",
              "      <td>Abraham Jose Emanuel</td>\n",
              "      <td>1</td>\n",
              "      <td>2012</td>\n",
              "    </tr>\n",
              "    <tr>\n",
              "      <th>387498</th>\n",
              "      <td>Yeison Dionel</td>\n",
              "      <td>1</td>\n",
              "      <td>2012</td>\n",
              "    </tr>\n",
              "    <tr>\n",
              "      <th>387499</th>\n",
              "      <td>Sherin Luisel</td>\n",
              "      <td>1</td>\n",
              "      <td>2012</td>\n",
              "    </tr>\n",
              "    <tr>\n",
              "      <th>387500</th>\n",
              "      <td>Antuan Hernán William</td>\n",
              "      <td>1</td>\n",
              "      <td>2012</td>\n",
              "    </tr>\n",
              "    <tr>\n",
              "      <th>435747</th>\n",
              "      <td>YazmÍn Zaira</td>\n",
              "      <td>1</td>\n",
              "      <td>2012</td>\n",
              "    </tr>\n",
              "  </tbody>\n",
              "</table>\n",
              "<p>871495 rows × 3 columns</p>\n",
              "</div>\n",
              "      <button class=\"colab-df-convert\" onclick=\"convertToInteractive('df-478c423b-35d9-48f3-bb68-fd131c84ad2e')\"\n",
              "              title=\"Convert this dataframe to an interactive table.\"\n",
              "              style=\"display:none;\">\n",
              "        \n",
              "  <svg xmlns=\"http://www.w3.org/2000/svg\" height=\"24px\"viewBox=\"0 0 24 24\"\n",
              "       width=\"24px\">\n",
              "    <path d=\"M0 0h24v24H0V0z\" fill=\"none\"/>\n",
              "    <path d=\"M18.56 5.44l.94 2.06.94-2.06 2.06-.94-2.06-.94-.94-2.06-.94 2.06-2.06.94zm-11 1L8.5 8.5l.94-2.06 2.06-.94-2.06-.94L8.5 2.5l-.94 2.06-2.06.94zm10 10l.94 2.06.94-2.06 2.06-.94-2.06-.94-.94-2.06-.94 2.06-2.06.94z\"/><path d=\"M17.41 7.96l-1.37-1.37c-.4-.4-.92-.59-1.43-.59-.52 0-1.04.2-1.43.59L10.3 9.45l-7.72 7.72c-.78.78-.78 2.05 0 2.83L4 21.41c.39.39.9.59 1.41.59.51 0 1.02-.2 1.41-.59l7.78-7.78 2.81-2.81c.8-.78.8-2.07 0-2.86zM5.41 20L4 18.59l7.72-7.72 1.47 1.35L5.41 20z\"/>\n",
              "  </svg>\n",
              "      </button>\n",
              "      \n",
              "  <style>\n",
              "    .colab-df-container {\n",
              "      display:flex;\n",
              "      flex-wrap:wrap;\n",
              "      gap: 12px;\n",
              "    }\n",
              "\n",
              "    .colab-df-convert {\n",
              "      background-color: #E8F0FE;\n",
              "      border: none;\n",
              "      border-radius: 50%;\n",
              "      cursor: pointer;\n",
              "      display: none;\n",
              "      fill: #1967D2;\n",
              "      height: 32px;\n",
              "      padding: 0 0 0 0;\n",
              "      width: 32px;\n",
              "    }\n",
              "\n",
              "    .colab-df-convert:hover {\n",
              "      background-color: #E2EBFA;\n",
              "      box-shadow: 0px 1px 2px rgba(60, 64, 67, 0.3), 0px 1px 3px 1px rgba(60, 64, 67, 0.15);\n",
              "      fill: #174EA6;\n",
              "    }\n",
              "\n",
              "    [theme=dark] .colab-df-convert {\n",
              "      background-color: #3B4455;\n",
              "      fill: #D2E3FC;\n",
              "    }\n",
              "\n",
              "    [theme=dark] .colab-df-convert:hover {\n",
              "      background-color: #434B5C;\n",
              "      box-shadow: 0px 1px 3px 1px rgba(0, 0, 0, 0.15);\n",
              "      filter: drop-shadow(0px 1px 2px rgba(0, 0, 0, 0.3));\n",
              "      fill: #FFFFFF;\n",
              "    }\n",
              "  </style>\n",
              "\n",
              "      <script>\n",
              "        const buttonEl =\n",
              "          document.querySelector('#df-478c423b-35d9-48f3-bb68-fd131c84ad2e button.colab-df-convert');\n",
              "        buttonEl.style.display =\n",
              "          google.colab.kernel.accessAllowed ? 'block' : 'none';\n",
              "\n",
              "        async function convertToInteractive(key) {\n",
              "          const element = document.querySelector('#df-478c423b-35d9-48f3-bb68-fd131c84ad2e');\n",
              "          const dataTable =\n",
              "            await google.colab.kernel.invokeFunction('convertToInteractive',\n",
              "                                                     [key], {});\n",
              "          if (!dataTable) return;\n",
              "\n",
              "          const docLinkHtml = 'Like what you see? Visit the ' +\n",
              "            '<a target=\"_blank\" href=https://colab.research.google.com/notebooks/data_table.ipynb>data table notebook</a>'\n",
              "            + ' to learn more about interactive tables.';\n",
              "          element.innerHTML = '';\n",
              "          dataTable['output_type'] = 'display_data';\n",
              "          await google.colab.output.renderOutput(dataTable, element);\n",
              "          const docLink = document.createElement('div');\n",
              "          docLink.innerHTML = docLinkHtml;\n",
              "          element.appendChild(docLink);\n",
              "        }\n",
              "      </script>\n",
              "    </div>\n",
              "  </div>\n",
              "  "
            ]
          },
          "metadata": {},
          "execution_count": 59
        }
      ],
      "source": [
        "df_names.sort_values(by='amount', ascending=False)"
      ]
    },
    {
      "cell_type": "markdown",
      "metadata": {
        "id": "5xpwZ5UnQ4jb"
      },
      "source": [
        "## Pandas groupby and plot"
      ]
    },
    {
      "cell_type": "markdown",
      "metadata": {
        "id": "WQwTuXNWQ4jb"
      },
      "source": [
        "**TODO:** Group the number of names by year and plot it using vertical bars"
      ]
    },
    {
      "cell_type": "code",
      "execution_count": 84,
      "metadata": {
        "id": "jaT3BhtEQ4jb"
      },
      "outputs": [],
      "source": [
        "# df_names.groupby(by=['year']).count()\n",
        "table1 = df_names.groupby(by=['year']).sum().sort_values(by='amount', ascending=False)"
      ]
    },
    {
      "cell_type": "code",
      "execution_count": 87,
      "metadata": {
        "id": "-0UckiANQ4jc",
        "outputId": "9a71cffa-1ea0-4495-d043-296d9af69e70",
        "colab": {
          "base_uri": "https://localhost:8080/",
          "height": 296
        }
      },
      "outputs": [
        {
          "output_type": "execute_result",
          "data": {
            "text/plain": [
              "<matplotlib.axes._subplots.AxesSubplot at 0x7f2a54196a90>"
            ]
          },
          "metadata": {},
          "execution_count": 87
        },
        {
          "output_type": "display_data",
          "data": {
            "text/plain": [
              "<Figure size 432x288 with 1 Axes>"
            ],
            "image/png": "[encoded data removed]"
          },
          "metadata": {
            "needs_background": "light"
          }
        }
      ],
      "source": [
        "table1.plot(y = 'amount')"
      ]
    },
    {
      "cell_type": "code",
      "source": [
        "gb = df_names.groupby(by=\"year\").sum()\n",
        "gb.plot()"
      ],
      "metadata": {
        "id": "gOpBq6Gq8vZR",
        "outputId": "44e57a80-c5f1-4bf6-ab3a-9df99a40d6f5",
        "colab": {
          "base_uri": "https://localhost:8080/",
          "height": 296
        }
      },
      "execution_count": 88,
      "outputs": [
        {
          "output_type": "execute_result",
          "data": {
            "text/plain": [
              "<matplotlib.axes._subplots.AxesSubplot at 0x7f2a5570e450>"
            ]
          },
          "metadata": {},
          "execution_count": 88
        },
        {
          "output_type": "display_data",
          "data": {
            "text/plain": [
              "<Figure size 432x288 with 1 Axes>"
            ],
            "image/png": "[encoded data removed]"
          },
          "metadata": {
            "needs_background": "light"
          }
        }
      ]
    },
    {
      "cell_type": "code",
      "source": [
        "import seaborn as sns\n",
        "sns.countplot(data=df_names, x=\"year\", palette='pastel')"
      ],
      "metadata": {
        "id": "oz4bv03A9azX",
        "outputId": "8322ee15-35b0-4bad-c0bb-8af2e8a77365",
        "colab": {
          "base_uri": "https://localhost:8080/",
          "height": 296
        }
      },
      "execution_count": 91,
      "outputs": [
        {
          "output_type": "execute_result",
          "data": {
            "text/plain": [
              "<matplotlib.axes._subplots.AxesSubplot at 0x7f2a469b6a10>"
            ]
          },
          "metadata": {},
          "execution_count": 91
        },
        {
          "output_type": "display_data",
          "data": {
            "text/plain": [
              "<Figure size 432x288 with 1 Axes>"
            ],
            "image/png": "[encoded data removed]"
          },
          "metadata": {
            "needs_background": "light"
          }
        }
      ]
    },
    {
      "cell_type": "code",
      "source": [
        ""
      ],
      "metadata": {
        "id": "cKbzUaJF9maB"
      },
      "execution_count": null,
      "outputs": []
    }
  ],
  "metadata": {
    "colab": {
      "collapsed_sections": [
        "TeJGerOHQ4hy",
        "qJdXAHzqQ4iC",
        "XLIFMRr-Q4iM",
        "es6_wpFgQ4iS",
        "J-w_xmyaQ4iT",
        "0dOgCQ5UQ4ib",
        "RBa52AgcQ4ie",
        "biNyKH76Q4ig",
        "vgaw7sJYQ4iy",
        "UPOFZHDmQ4i6",
        "e-DTySRuQ4i7",
        "ndMX_RBzQ4i-",
        "WgrZ6Q6eQ4jA",
        "uvgwzXDpQ4jF",
        "URImy2I0Q4jI",
        "A0xGFfvPQ4jL",
        "slxR8rtXQ4jM",
        "W-kRHmkOQ4jN",
        "u15ncIh3Q4jO",
        "PC8qZUapQ4jT",
        "RDKEXbxhQ4jU",
        "XEwO0yB4Q4jZ",
        "x9vfcdK0Q4jZ",
        "XE195QIAQ4ja",
        "5xpwZ5UnQ4jb"
      ],
      "name": "Practice_Python_NumPy_Pandas.ipynb",
      "provenance": [],
      "include_colab_link": true
    },
    "kernelspec": {
      "display_name": "Python 3 (ipykernel)",
      "language": "python",
      "name": "python3"
    },
    "language_info": {
      "codemirror_mode": {
        "name": "ipython",
        "version": 3
      },
      "file_extension": ".py",
      "mimetype": "text/x-python",
      "name": "python",
      "nbconvert_exporter": "python",
      "pygments_lexer": "ipython3",
      "version": "3.9.7"
    }
  },
  "nbformat": 4,
  "nbformat_minor": 0
}