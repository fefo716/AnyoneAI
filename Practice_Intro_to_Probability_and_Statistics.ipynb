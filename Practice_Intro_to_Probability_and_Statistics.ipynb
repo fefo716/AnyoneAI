{
  "cells": [
    {
      "cell_type": "markdown",
      "metadata": {
        "id": "view-in-github",
        "colab_type": "text"
      },
      "source": [
        "<a href=\"https://colab.research.google.com/github/fefo716/AnyoneAI/blob/main/Practice_Intro_to_Probability_and_Statistics.ipynb\" target=\"_parent\"><img src=\"https://colab.research.google.com/assets/colab-badge.svg\" alt=\"Open In Colab\"/></a>"
      ]
    },
    {
      "cell_type": "markdown",
      "metadata": {
        "_cell_guid": "891db468-cd01-4c43-b31b-2c9b89ae4074",
        "_uuid": "734a3a9a6749c369857af7aedf9c76a52293e5c0",
        "id": "VNSCx8LChWtH"
      },
      "source": [
        "# Intro to Probability & Statistics\n",
        "\n",
        "#### TODO:\n",
        "1. Descriptive Statistics:\n",
        "    * Calculate statistics such as Mode, Mean, Median and Standard Deviation of weight and age. Do they respond to any known distribution?\n",
        "    * Carry out an analysis of outliers and missing values.\n",
        "    * Explain how the metrics vary when we breakdown the dataset by gender. Do they respond to any known distribution? Qualitatively and graphically compare both distributions.\n",
        "2. Calculate the marginal and joint probability, and the correlation between two other variables, for example alcohol consumption and smoking.\n",
        "    * Visually represent the joint probability between the possible values of the chosen variables.\n",
        "3. Answer the following questions: What would happen to smoking levels if smoking is banned in bars? What would happen to the number of alcohol consumers if the number of smokers who drink alcohol decreases?"
      ]
    },
    {
      "cell_type": "code",
      "execution_count": 1,
      "metadata": {
        "_cell_guid": "7b9b5703-1e29-47f2-a1a9-2e0ba2db581f",
        "_execution_state": "idle",
        "_uuid": "8e20f5b53ce35391006b921cd79280cf3756d929",
        "id": "jZx4qEnqhWtK"
      },
      "outputs": [],
      "source": [
        "import copy\n",
        "import numpy as np\n",
        "import pandas as pd\n",
        "import seaborn as sns\n",
        "import matplotlib.pyplot as plt\n",
        "sns.set_theme()\n",
        "\n",
        "import warnings\n",
        "warnings.filterwarnings(\"ignore\")"
      ]
    },
    {
      "cell_type": "code",
      "execution_count": 2,
      "metadata": {
        "_cell_guid": "22243ad2-790b-4e36-8cf5-01a30210b580",
        "_execution_state": "idle",
        "_uuid": "130c13cbd4d1fcde16644265f1e288158ad97fe7",
        "id": "1O0CE_rjhWtL"
      },
      "outputs": [],
      "source": [
        "young = pd.read_csv('https://raw.githubusercontent.com/anyoneai/notebooks/main/datasets/people_responses.csv')"
      ]
    },
    {
      "cell_type": "code",
      "execution_count": 3,
      "metadata": {
        "_cell_guid": "f6c4f282-6184-4f64-a028-7a415e5815b6",
        "_execution_state": "idle",
        "_uuid": "6dd8dd30468941f0530a04ee7db7b3db0ea42269",
        "id": "orAYN2MihWtL",
        "outputId": "bb95e0e9-f323-4ac4-9b36-07b2e8cdb148",
        "colab": {
          "base_uri": "https://localhost:8080/",
          "height": 456
        }
      },
      "outputs": [
        {
          "output_type": "execute_result",
          "data": {
            "text/plain": [
              "   Music  Slow songs or fast songs  Dance  Folk  Country  Classical music  \\\n",
              "0    5.0                       3.0    2.0   1.0      2.0              2.0   \n",
              "1    4.0                       4.0    2.0   1.0      1.0              1.0   \n",
              "2    5.0                       5.0    2.0   2.0      3.0              4.0   \n",
              "3    5.0                       3.0    2.0   1.0      1.0              1.0   \n",
              "4    5.0                       3.0    4.0   3.0      2.0              4.0   \n",
              "\n",
              "   Musical  Pop  Rock  Metal or Hardrock  ...   Age  Height  Weight  \\\n",
              "0      1.0  5.0   5.0                1.0  ...  20.0   163.0    48.0   \n",
              "1      2.0  3.0   5.0                4.0  ...  19.0   163.0    58.0   \n",
              "2      5.0  3.0   5.0                3.0  ...  20.0   176.0    67.0   \n",
              "3      1.0  2.0   2.0                1.0  ...  22.0   172.0    59.0   \n",
              "4      3.0  5.0   3.0                1.0  ...  20.0   170.0    59.0   \n",
              "\n",
              "   Number of siblings  Gender  Left - right handed                Education  \\\n",
              "0                 1.0  female         right handed  college/bachelor degree   \n",
              "1                 2.0  female         right handed  college/bachelor degree   \n",
              "2                 2.0  female         right handed         secondary school   \n",
              "3                 1.0  female         right handed  college/bachelor degree   \n",
              "4                 1.0  female         right handed         secondary school   \n",
              "\n",
              "   Only child  Village - town  House - block of flats  \n",
              "0          no         village          block of flats  \n",
              "1          no            city          block of flats  \n",
              "2          no            city          block of flats  \n",
              "3         yes            city          house/bungalow  \n",
              "4          no         village          house/bungalow  \n",
              "\n",
              "[5 rows x 150 columns]"
            ],
            "text/html": [
              "\n",
              "  <div id=\"df-e9950351-aa4b-4b18-8cdd-9a73f8b508dc\">\n",
              "    <div class=\"colab-df-container\">\n",
              "      <div>\n",
              "<style scoped>\n",
              "    .dataframe tbody tr th:only-of-type {\n",
              "        vertical-align: middle;\n",
              "    }\n",
              "\n",
              "    .dataframe tbody tr th {\n",
              "        vertical-align: top;\n",
              "    }\n",
              "\n",
              "    .dataframe thead th {\n",
              "        text-align: right;\n",
              "    }\n",
              "</style>\n",
              "<table border=\"1\" class=\"dataframe\">\n",
              "  <thead>\n",
              "    <tr style=\"text-align: right;\">\n",
              "      <th></th>\n",
              "      <th>Music</th>\n",
              "      <th>Slow songs or fast songs</th>\n",
              "      <th>Dance</th>\n",
              "      <th>Folk</th>\n",
              "      <th>Country</th>\n",
              "      <th>Classical music</th>\n",
              "      <th>Musical</th>\n",
              "      <th>Pop</th>\n",
              "      <th>Rock</th>\n",
              "      <th>Metal or Hardrock</th>\n",
              "      <th>...</th>\n",
              "      <th>Age</th>\n",
              "      <th>Height</th>\n",
              "      <th>Weight</th>\n",
              "      <th>Number of siblings</th>\n",
              "      <th>Gender</th>\n",
              "      <th>Left - right handed</th>\n",
              "      <th>Education</th>\n",
              "      <th>Only child</th>\n",
              "      <th>Village - town</th>\n",
              "      <th>House - block of flats</th>\n",
              "    </tr>\n",
              "  </thead>\n",
              "  <tbody>\n",
              "    <tr>\n",
              "      <th>0</th>\n",
              "      <td>5.0</td>\n",
              "      <td>3.0</td>\n",
              "      <td>2.0</td>\n",
              "      <td>1.0</td>\n",
              "      <td>2.0</td>\n",
              "      <td>2.0</td>\n",
              "      <td>1.0</td>\n",
              "      <td>5.0</td>\n",
              "      <td>5.0</td>\n",
              "      <td>1.0</td>\n",
              "      <td>...</td>\n",
              "      <td>20.0</td>\n",
              "      <td>163.0</td>\n",
              "      <td>48.0</td>\n",
              "      <td>1.0</td>\n",
              "      <td>female</td>\n",
              "      <td>right handed</td>\n",
              "      <td>college/bachelor degree</td>\n",
              "      <td>no</td>\n",
              "      <td>village</td>\n",
              "      <td>block of flats</td>\n",
              "    </tr>\n",
              "    <tr>\n",
              "      <th>1</th>\n",
              "      <td>4.0</td>\n",
              "      <td>4.0</td>\n",
              "      <td>2.0</td>\n",
              "      <td>1.0</td>\n",
              "      <td>1.0</td>\n",
              "      <td>1.0</td>\n",
              "      <td>2.0</td>\n",
              "      <td>3.0</td>\n",
              "      <td>5.0</td>\n",
              "      <td>4.0</td>\n",
              "      <td>...</td>\n",
              "      <td>19.0</td>\n",
              "      <td>163.0</td>\n",
              "      <td>58.0</td>\n",
              "      <td>2.0</td>\n",
              "      <td>female</td>\n",
              "      <td>right handed</td>\n",
              "      <td>college/bachelor degree</td>\n",
              "      <td>no</td>\n",
              "      <td>city</td>\n",
              "      <td>block of flats</td>\n",
              "    </tr>\n",
              "    <tr>\n",
              "      <th>2</th>\n",
              "      <td>5.0</td>\n",
              "      <td>5.0</td>\n",
              "      <td>2.0</td>\n",
              "      <td>2.0</td>\n",
              "      <td>3.0</td>\n",
              "      <td>4.0</td>\n",
              "      <td>5.0</td>\n",
              "      <td>3.0</td>\n",
              "      <td>5.0</td>\n",
              "      <td>3.0</td>\n",
              "      <td>...</td>\n",
              "      <td>20.0</td>\n",
              "      <td>176.0</td>\n",
              "      <td>67.0</td>\n",
              "      <td>2.0</td>\n",
              "      <td>female</td>\n",
              "      <td>right handed</td>\n",
              "      <td>secondary school</td>\n",
              "      <td>no</td>\n",
              "      <td>city</td>\n",
              "      <td>block of flats</td>\n",
              "    </tr>\n",
              "    <tr>\n",
              "      <th>3</th>\n",
              "      <td>5.0</td>\n",
              "      <td>3.0</td>\n",
              "      <td>2.0</td>\n",
              "      <td>1.0</td>\n",
              "      <td>1.0</td>\n",
              "      <td>1.0</td>\n",
              "      <td>1.0</td>\n",
              "      <td>2.0</td>\n",
              "      <td>2.0</td>\n",
              "      <td>1.0</td>\n",
              "      <td>...</td>\n",
              "      <td>22.0</td>\n",
              "      <td>172.0</td>\n",
              "      <td>59.0</td>\n",
              "      <td>1.0</td>\n",
              "      <td>female</td>\n",
              "      <td>right handed</td>\n",
              "      <td>college/bachelor degree</td>\n",
              "      <td>yes</td>\n",
              "      <td>city</td>\n",
              "      <td>house/bungalow</td>\n",
              "    </tr>\n",
              "    <tr>\n",
              "      <th>4</th>\n",
              "      <td>5.0</td>\n",
              "      <td>3.0</td>\n",
              "      <td>4.0</td>\n",
              "      <td>3.0</td>\n",
              "      <td>2.0</td>\n",
              "      <td>4.0</td>\n",
              "      <td>3.0</td>\n",
              "      <td>5.0</td>\n",
              "      <td>3.0</td>\n",
              "      <td>1.0</td>\n",
              "      <td>...</td>\n",
              "      <td>20.0</td>\n",
              "      <td>170.0</td>\n",
              "      <td>59.0</td>\n",
              "      <td>1.0</td>\n",
              "      <td>female</td>\n",
              "      <td>right handed</td>\n",
              "      <td>secondary school</td>\n",
              "      <td>no</td>\n",
              "      <td>village</td>\n",
              "      <td>house/bungalow</td>\n",
              "    </tr>\n",
              "  </tbody>\n",
              "</table>\n",
              "<p>5 rows × 150 columns</p>\n",
              "</div>\n",
              "      <button class=\"colab-df-convert\" onclick=\"convertToInteractive('df-e9950351-aa4b-4b18-8cdd-9a73f8b508dc')\"\n",
              "              title=\"Convert this dataframe to an interactive table.\"\n",
              "              style=\"display:none;\">\n",
              "        \n",
              "  <svg xmlns=\"http://www.w3.org/2000/svg\" height=\"24px\"viewBox=\"0 0 24 24\"\n",
              "       width=\"24px\">\n",
              "    <path d=\"M0 0h24v24H0V0z\" fill=\"none\"/>\n",
              "    <path d=\"M18.56 5.44l.94 2.06.94-2.06 2.06-.94-2.06-.94-.94-2.06-.94 2.06-2.06.94zm-11 1L8.5 8.5l.94-2.06 2.06-.94-2.06-.94L8.5 2.5l-.94 2.06-2.06.94zm10 10l.94 2.06.94-2.06 2.06-.94-2.06-.94-.94-2.06-.94 2.06-2.06.94z\"/><path d=\"M17.41 7.96l-1.37-1.37c-.4-.4-.92-.59-1.43-.59-.52 0-1.04.2-1.43.59L10.3 9.45l-7.72 7.72c-.78.78-.78 2.05 0 2.83L4 21.41c.39.39.9.59 1.41.59.51 0 1.02-.2 1.41-.59l7.78-7.78 2.81-2.81c.8-.78.8-2.07 0-2.86zM5.41 20L4 18.59l7.72-7.72 1.47 1.35L5.41 20z\"/>\n",
              "  </svg>\n",
              "      </button>\n",
              "      \n",
              "  <style>\n",
              "    .colab-df-container {\n",
              "      display:flex;\n",
              "      flex-wrap:wrap;\n",
              "      gap: 12px;\n",
              "    }\n",
              "\n",
              "    .colab-df-convert {\n",
              "      background-color: #E8F0FE;\n",
              "      border: none;\n",
              "      border-radius: 50%;\n",
              "      cursor: pointer;\n",
              "      display: none;\n",
              "      fill: #1967D2;\n",
              "      height: 32px;\n",
              "      padding: 0 0 0 0;\n",
              "      width: 32px;\n",
              "    }\n",
              "\n",
              "    .colab-df-convert:hover {\n",
              "      background-color: #E2EBFA;\n",
              "      box-shadow: 0px 1px 2px rgba(60, 64, 67, 0.3), 0px 1px 3px 1px rgba(60, 64, 67, 0.15);\n",
              "      fill: #174EA6;\n",
              "    }\n",
              "\n",
              "    [theme=dark] .colab-df-convert {\n",
              "      background-color: #3B4455;\n",
              "      fill: #D2E3FC;\n",
              "    }\n",
              "\n",
              "    [theme=dark] .colab-df-convert:hover {\n",
              "      background-color: #434B5C;\n",
              "      box-shadow: 0px 1px 3px 1px rgba(0, 0, 0, 0.15);\n",
              "      filter: drop-shadow(0px 1px 2px rgba(0, 0, 0, 0.3));\n",
              "      fill: #FFFFFF;\n",
              "    }\n",
              "  </style>\n",
              "\n",
              "      <script>\n",
              "        const buttonEl =\n",
              "          document.querySelector('#df-e9950351-aa4b-4b18-8cdd-9a73f8b508dc button.colab-df-convert');\n",
              "        buttonEl.style.display =\n",
              "          google.colab.kernel.accessAllowed ? 'block' : 'none';\n",
              "\n",
              "        async function convertToInteractive(key) {\n",
              "          const element = document.querySelector('#df-e9950351-aa4b-4b18-8cdd-9a73f8b508dc');\n",
              "          const dataTable =\n",
              "            await google.colab.kernel.invokeFunction('convertToInteractive',\n",
              "                                                     [key], {});\n",
              "          if (!dataTable) return;\n",
              "\n",
              "          const docLinkHtml = 'Like what you see? Visit the ' +\n",
              "            '<a target=\"_blank\" href=https://colab.research.google.com/notebooks/data_table.ipynb>data table notebook</a>'\n",
              "            + ' to learn more about interactive tables.';\n",
              "          element.innerHTML = '';\n",
              "          dataTable['output_type'] = 'display_data';\n",
              "          await google.colab.output.renderOutput(dataTable, element);\n",
              "          const docLink = document.createElement('div');\n",
              "          docLink.innerHTML = docLinkHtml;\n",
              "          element.appendChild(docLink);\n",
              "        }\n",
              "      </script>\n",
              "    </div>\n",
              "  </div>\n",
              "  "
            ]
          },
          "metadata": {},
          "execution_count": 3
        }
      ],
      "source": [
        "young.head(5)"
      ]
    },
    {
      "cell_type": "markdown",
      "metadata": {
        "id": "f6lxJaQFhWtM"
      },
      "source": [
        "*****\n",
        "## 1. Descriptive statistics"
      ]
    },
    {
      "cell_type": "code",
      "execution_count": 4,
      "metadata": {
        "id": "bxlz4flohWtM",
        "outputId": "13e6c1cf-f358-4209-cf34-8e4ca561e0ef",
        "colab": {
          "base_uri": "https://localhost:8080/",
          "height": 446
        }
      },
      "outputs": [
        {
          "output_type": "execute_result",
          "data": {
            "text/plain": [
              "             Music  Slow songs or fast songs        Dance         Folk  \\\n",
              "count  1007.000000               1008.000000  1006.000000  1005.000000   \n",
              "mean      4.731877                  3.328373     3.113320     2.288557   \n",
              "std       0.664049                  0.833931     1.170568     1.138916   \n",
              "min       1.000000                  1.000000     1.000000     1.000000   \n",
              "25%       5.000000                  3.000000     2.000000     1.000000   \n",
              "50%       5.000000                  3.000000     3.000000     2.000000   \n",
              "75%       5.000000                  4.000000     4.000000     3.000000   \n",
              "max       5.000000                  5.000000     5.000000     5.000000   \n",
              "\n",
              "           Country  Classical music      Musical          Pop         Rock  \\\n",
              "count  1005.000000      1003.000000  1008.000000  1007.000000  1004.000000   \n",
              "mean      2.123383         2.956132     2.761905     3.471698     3.761952   \n",
              "std       1.076136         1.252570     1.260845     1.161400     1.184861   \n",
              "min       1.000000         1.000000     1.000000     1.000000     1.000000   \n",
              "25%       1.000000         2.000000     2.000000     3.000000     3.000000   \n",
              "50%       2.000000         3.000000     3.000000     4.000000     4.000000   \n",
              "75%       3.000000         4.000000     4.000000     4.000000     5.000000   \n",
              "max       5.000000         5.000000     5.000000     5.000000     5.000000   \n",
              "\n",
              "       Metal or Hardrock  ...  Shopping centres  Branded clothing  \\\n",
              "count        1007.000000  ...       1008.000000       1008.000000   \n",
              "mean            2.361470  ...          3.234127          3.050595   \n",
              "std             1.372995  ...          1.323062          1.306321   \n",
              "min             1.000000  ...          1.000000          1.000000   \n",
              "25%             1.000000  ...          2.000000          2.000000   \n",
              "50%             2.000000  ...          3.000000          3.000000   \n",
              "75%             3.000000  ...          4.000000          4.000000   \n",
              "max             5.000000  ...          5.000000          5.000000   \n",
              "\n",
              "       Entertainment spending  Spending on looks  Spending on gadgets  \\\n",
              "count             1007.000000        1007.000000          1010.000000   \n",
              "mean                 3.201589           3.106256             2.870297   \n",
              "std                  1.188947           1.205368             1.284970   \n",
              "min                  1.000000           1.000000             1.000000   \n",
              "25%                  2.000000           2.000000             2.000000   \n",
              "50%                  3.000000           3.000000             3.000000   \n",
              "75%                  4.000000           4.000000             4.000000   \n",
              "max                  5.000000           5.000000             5.000000   \n",
              "\n",
              "       Spending on healthy eating          Age      Height      Weight  \\\n",
              "count                  1008.00000  1003.000000  990.000000  990.000000   \n",
              "mean                      3.55754    20.433699  173.514141   66.405051   \n",
              "std                       1.09375     2.828840   10.024505   13.839561   \n",
              "min                       1.00000    15.000000   62.000000   41.000000   \n",
              "25%                       3.00000    19.000000  167.000000   55.000000   \n",
              "50%                       4.00000    20.000000  173.000000   64.000000   \n",
              "75%                       4.00000    22.000000  180.000000   75.000000   \n",
              "max                       5.00000    30.000000  203.000000  165.000000   \n",
              "\n",
              "       Number of siblings  \n",
              "count         1004.000000  \n",
              "mean             1.297809  \n",
              "std              1.013348  \n",
              "min              0.000000  \n",
              "25%              1.000000  \n",
              "50%              1.000000  \n",
              "75%              2.000000  \n",
              "max             10.000000  \n",
              "\n",
              "[8 rows x 139 columns]"
            ],
            "text/html": [
              "\n",
              "  <div id=\"df-639142e9-5107-4a0d-8715-3fb19e6a18af\">\n",
              "    <div class=\"colab-df-container\">\n",
              "      <div>\n",
              "<style scoped>\n",
              "    .dataframe tbody tr th:only-of-type {\n",
              "        vertical-align: middle;\n",
              "    }\n",
              "\n",
              "    .dataframe tbody tr th {\n",
              "        vertical-align: top;\n",
              "    }\n",
              "\n",
              "    .dataframe thead th {\n",
              "        text-align: right;\n",
              "    }\n",
              "</style>\n",
              "<table border=\"1\" class=\"dataframe\">\n",
              "  <thead>\n",
              "    <tr style=\"text-align: right;\">\n",
              "      <th></th>\n",
              "      <th>Music</th>\n",
              "      <th>Slow songs or fast songs</th>\n",
              "      <th>Dance</th>\n",
              "      <th>Folk</th>\n",
              "      <th>Country</th>\n",
              "      <th>Classical music</th>\n",
              "      <th>Musical</th>\n",
              "      <th>Pop</th>\n",
              "      <th>Rock</th>\n",
              "      <th>Metal or Hardrock</th>\n",
              "      <th>...</th>\n",
              "      <th>Shopping centres</th>\n",
              "      <th>Branded clothing</th>\n",
              "      <th>Entertainment spending</th>\n",
              "      <th>Spending on looks</th>\n",
              "      <th>Spending on gadgets</th>\n",
              "      <th>Spending on healthy eating</th>\n",
              "      <th>Age</th>\n",
              "      <th>Height</th>\n",
              "      <th>Weight</th>\n",
              "      <th>Number of siblings</th>\n",
              "    </tr>\n",
              "  </thead>\n",
              "  <tbody>\n",
              "    <tr>\n",
              "      <th>count</th>\n",
              "      <td>1007.000000</td>\n",
              "      <td>1008.000000</td>\n",
              "      <td>1006.000000</td>\n",
              "      <td>1005.000000</td>\n",
              "      <td>1005.000000</td>\n",
              "      <td>1003.000000</td>\n",
              "      <td>1008.000000</td>\n",
              "      <td>1007.000000</td>\n",
              "      <td>1004.000000</td>\n",
              "      <td>1007.000000</td>\n",
              "      <td>...</td>\n",
              "      <td>1008.000000</td>\n",
              "      <td>1008.000000</td>\n",
              "      <td>1007.000000</td>\n",
              "      <td>1007.000000</td>\n",
              "      <td>1010.000000</td>\n",
              "      <td>1008.00000</td>\n",
              "      <td>1003.000000</td>\n",
              "      <td>990.000000</td>\n",
              "      <td>990.000000</td>\n",
              "      <td>1004.000000</td>\n",
              "    </tr>\n",
              "    <tr>\n",
              "      <th>mean</th>\n",
              "      <td>4.731877</td>\n",
              "      <td>3.328373</td>\n",
              "      <td>3.113320</td>\n",
              "      <td>2.288557</td>\n",
              "      <td>2.123383</td>\n",
              "      <td>2.956132</td>\n",
              "      <td>2.761905</td>\n",
              "      <td>3.471698</td>\n",
              "      <td>3.761952</td>\n",
              "      <td>2.361470</td>\n",
              "      <td>...</td>\n",
              "      <td>3.234127</td>\n",
              "      <td>3.050595</td>\n",
              "      <td>3.201589</td>\n",
              "      <td>3.106256</td>\n",
              "      <td>2.870297</td>\n",
              "      <td>3.55754</td>\n",
              "      <td>20.433699</td>\n",
              "      <td>173.514141</td>\n",
              "      <td>66.405051</td>\n",
              "      <td>1.297809</td>\n",
              "    </tr>\n",
              "    <tr>\n",
              "      <th>std</th>\n",
              "      <td>0.664049</td>\n",
              "      <td>0.833931</td>\n",
              "      <td>1.170568</td>\n",
              "      <td>1.138916</td>\n",
              "      <td>1.076136</td>\n",
              "      <td>1.252570</td>\n",
              "      <td>1.260845</td>\n",
              "      <td>1.161400</td>\n",
              "      <td>1.184861</td>\n",
              "      <td>1.372995</td>\n",
              "      <td>...</td>\n",
              "      <td>1.323062</td>\n",
              "      <td>1.306321</td>\n",
              "      <td>1.188947</td>\n",
              "      <td>1.205368</td>\n",
              "      <td>1.284970</td>\n",
              "      <td>1.09375</td>\n",
              "      <td>2.828840</td>\n",
              "      <td>10.024505</td>\n",
              "      <td>13.839561</td>\n",
              "      <td>1.013348</td>\n",
              "    </tr>\n",
              "    <tr>\n",
              "      <th>min</th>\n",
              "      <td>1.000000</td>\n",
              "      <td>1.000000</td>\n",
              "      <td>1.000000</td>\n",
              "      <td>1.000000</td>\n",
              "      <td>1.000000</td>\n",
              "      <td>1.000000</td>\n",
              "      <td>1.000000</td>\n",
              "      <td>1.000000</td>\n",
              "      <td>1.000000</td>\n",
              "      <td>1.000000</td>\n",
              "      <td>...</td>\n",
              "      <td>1.000000</td>\n",
              "      <td>1.000000</td>\n",
              "      <td>1.000000</td>\n",
              "      <td>1.000000</td>\n",
              "      <td>1.000000</td>\n",
              "      <td>1.00000</td>\n",
              "      <td>15.000000</td>\n",
              "      <td>62.000000</td>\n",
              "      <td>41.000000</td>\n",
              "      <td>0.000000</td>\n",
              "    </tr>\n",
              "    <tr>\n",
              "      <th>25%</th>\n",
              "      <td>5.000000</td>\n",
              "      <td>3.000000</td>\n",
              "      <td>2.000000</td>\n",
              "      <td>1.000000</td>\n",
              "      <td>1.000000</td>\n",
              "      <td>2.000000</td>\n",
              "      <td>2.000000</td>\n",
              "      <td>3.000000</td>\n",
              "      <td>3.000000</td>\n",
              "      <td>1.000000</td>\n",
              "      <td>...</td>\n",
              "      <td>2.000000</td>\n",
              "      <td>2.000000</td>\n",
              "      <td>2.000000</td>\n",
              "      <td>2.000000</td>\n",
              "      <td>2.000000</td>\n",
              "      <td>3.00000</td>\n",
              "      <td>19.000000</td>\n",
              "      <td>167.000000</td>\n",
              "      <td>55.000000</td>\n",
              "      <td>1.000000</td>\n",
              "    </tr>\n",
              "    <tr>\n",
              "      <th>50%</th>\n",
              "      <td>5.000000</td>\n",
              "      <td>3.000000</td>\n",
              "      <td>3.000000</td>\n",
              "      <td>2.000000</td>\n",
              "      <td>2.000000</td>\n",
              "      <td>3.000000</td>\n",
              "      <td>3.000000</td>\n",
              "      <td>4.000000</td>\n",
              "      <td>4.000000</td>\n",
              "      <td>2.000000</td>\n",
              "      <td>...</td>\n",
              "      <td>3.000000</td>\n",
              "      <td>3.000000</td>\n",
              "      <td>3.000000</td>\n",
              "      <td>3.000000</td>\n",
              "      <td>3.000000</td>\n",
              "      <td>4.00000</td>\n",
              "      <td>20.000000</td>\n",
              "      <td>173.000000</td>\n",
              "      <td>64.000000</td>\n",
              "      <td>1.000000</td>\n",
              "    </tr>\n",
              "    <tr>\n",
              "      <th>75%</th>\n",
              "      <td>5.000000</td>\n",
              "      <td>4.000000</td>\n",
              "      <td>4.000000</td>\n",
              "      <td>3.000000</td>\n",
              "      <td>3.000000</td>\n",
              "      <td>4.000000</td>\n",
              "      <td>4.000000</td>\n",
              "      <td>4.000000</td>\n",
              "      <td>5.000000</td>\n",
              "      <td>3.000000</td>\n",
              "      <td>...</td>\n",
              "      <td>4.000000</td>\n",
              "      <td>4.000000</td>\n",
              "      <td>4.000000</td>\n",
              "      <td>4.000000</td>\n",
              "      <td>4.000000</td>\n",
              "      <td>4.00000</td>\n",
              "      <td>22.000000</td>\n",
              "      <td>180.000000</td>\n",
              "      <td>75.000000</td>\n",
              "      <td>2.000000</td>\n",
              "    </tr>\n",
              "    <tr>\n",
              "      <th>max</th>\n",
              "      <td>5.000000</td>\n",
              "      <td>5.000000</td>\n",
              "      <td>5.000000</td>\n",
              "      <td>5.000000</td>\n",
              "      <td>5.000000</td>\n",
              "      <td>5.000000</td>\n",
              "      <td>5.000000</td>\n",
              "      <td>5.000000</td>\n",
              "      <td>5.000000</td>\n",
              "      <td>5.000000</td>\n",
              "      <td>...</td>\n",
              "      <td>5.000000</td>\n",
              "      <td>5.000000</td>\n",
              "      <td>5.000000</td>\n",
              "      <td>5.000000</td>\n",
              "      <td>5.000000</td>\n",
              "      <td>5.00000</td>\n",
              "      <td>30.000000</td>\n",
              "      <td>203.000000</td>\n",
              "      <td>165.000000</td>\n",
              "      <td>10.000000</td>\n",
              "    </tr>\n",
              "  </tbody>\n",
              "</table>\n",
              "<p>8 rows × 139 columns</p>\n",
              "</div>\n",
              "      <button class=\"colab-df-convert\" onclick=\"convertToInteractive('df-639142e9-5107-4a0d-8715-3fb19e6a18af')\"\n",
              "              title=\"Convert this dataframe to an interactive table.\"\n",
              "              style=\"display:none;\">\n",
              "        \n",
              "  <svg xmlns=\"http://www.w3.org/2000/svg\" height=\"24px\"viewBox=\"0 0 24 24\"\n",
              "       width=\"24px\">\n",
              "    <path d=\"M0 0h24v24H0V0z\" fill=\"none\"/>\n",
              "    <path d=\"M18.56 5.44l.94 2.06.94-2.06 2.06-.94-2.06-.94-.94-2.06-.94 2.06-2.06.94zm-11 1L8.5 8.5l.94-2.06 2.06-.94-2.06-.94L8.5 2.5l-.94 2.06-2.06.94zm10 10l.94 2.06.94-2.06 2.06-.94-2.06-.94-.94-2.06-.94 2.06-2.06.94z\"/><path d=\"M17.41 7.96l-1.37-1.37c-.4-.4-.92-.59-1.43-.59-.52 0-1.04.2-1.43.59L10.3 9.45l-7.72 7.72c-.78.78-.78 2.05 0 2.83L4 21.41c.39.39.9.59 1.41.59.51 0 1.02-.2 1.41-.59l7.78-7.78 2.81-2.81c.8-.78.8-2.07 0-2.86zM5.41 20L4 18.59l7.72-7.72 1.47 1.35L5.41 20z\"/>\n",
              "  </svg>\n",
              "      </button>\n",
              "      \n",
              "  <style>\n",
              "    .colab-df-container {\n",
              "      display:flex;\n",
              "      flex-wrap:wrap;\n",
              "      gap: 12px;\n",
              "    }\n",
              "\n",
              "    .colab-df-convert {\n",
              "      background-color: #E8F0FE;\n",
              "      border: none;\n",
              "      border-radius: 50%;\n",
              "      cursor: pointer;\n",
              "      display: none;\n",
              "      fill: #1967D2;\n",
              "      height: 32px;\n",
              "      padding: 0 0 0 0;\n",
              "      width: 32px;\n",
              "    }\n",
              "\n",
              "    .colab-df-convert:hover {\n",
              "      background-color: #E2EBFA;\n",
              "      box-shadow: 0px 1px 2px rgba(60, 64, 67, 0.3), 0px 1px 3px 1px rgba(60, 64, 67, 0.15);\n",
              "      fill: #174EA6;\n",
              "    }\n",
              "\n",
              "    [theme=dark] .colab-df-convert {\n",
              "      background-color: #3B4455;\n",
              "      fill: #D2E3FC;\n",
              "    }\n",
              "\n",
              "    [theme=dark] .colab-df-convert:hover {\n",
              "      background-color: #434B5C;\n",
              "      box-shadow: 0px 1px 3px 1px rgba(0, 0, 0, 0.15);\n",
              "      filter: drop-shadow(0px 1px 2px rgba(0, 0, 0, 0.3));\n",
              "      fill: #FFFFFF;\n",
              "    }\n",
              "  </style>\n",
              "\n",
              "      <script>\n",
              "        const buttonEl =\n",
              "          document.querySelector('#df-639142e9-5107-4a0d-8715-3fb19e6a18af button.colab-df-convert');\n",
              "        buttonEl.style.display =\n",
              "          google.colab.kernel.accessAllowed ? 'block' : 'none';\n",
              "\n",
              "        async function convertToInteractive(key) {\n",
              "          const element = document.querySelector('#df-639142e9-5107-4a0d-8715-3fb19e6a18af');\n",
              "          const dataTable =\n",
              "            await google.colab.kernel.invokeFunction('convertToInteractive',\n",
              "                                                     [key], {});\n",
              "          if (!dataTable) return;\n",
              "\n",
              "          const docLinkHtml = 'Like what you see? Visit the ' +\n",
              "            '<a target=\"_blank\" href=https://colab.research.google.com/notebooks/data_table.ipynb>data table notebook</a>'\n",
              "            + ' to learn more about interactive tables.';\n",
              "          element.innerHTML = '';\n",
              "          dataTable['output_type'] = 'display_data';\n",
              "          await google.colab.output.renderOutput(dataTable, element);\n",
              "          const docLink = document.createElement('div');\n",
              "          docLink.innerHTML = docLinkHtml;\n",
              "          element.appendChild(docLink);\n",
              "        }\n",
              "      </script>\n",
              "    </div>\n",
              "  </div>\n",
              "  "
            ]
          },
          "metadata": {},
          "execution_count": 4
        }
      ],
      "source": [
        "young.describe()"
      ]
    },
    {
      "cell_type": "markdown",
      "metadata": {
        "id": "lWsCc7p3hWtM"
      },
      "source": [
        "### Frequency Distribution by Age and Weight"
      ]
    },
    {
      "cell_type": "code",
      "execution_count": 9,
      "metadata": {
        "id": "-L8RI24ehWtN",
        "outputId": "d7c5ec49-e2f0-4d41-eb2d-2d26109fbcc6",
        "colab": {
          "base_uri": "https://localhost:8080/"
        }
      },
      "outputs": [
        {
          "output_type": "stream",
          "name": "stdout",
          "text": [
            "19.0    210\n",
            "20.0    194\n",
            "21.0    127\n",
            "18.0    123\n",
            "22.0     84\n",
            "17.0     53\n",
            "23.0     47\n",
            "25.0     30\n",
            "16.0     29\n",
            "24.0     28\n",
            "28.0     17\n",
            "26.0     15\n",
            "27.0     14\n",
            "15.0     11\n",
            "29.0     11\n",
            "30.0     10\n",
            "Name: Age, dtype: int64\n",
            "60.0     76\n",
            "55.0     62\n",
            "70.0     51\n",
            "80.0     50\n",
            "65.0     49\n",
            "         ..\n",
            "111.0     1\n",
            "41.0      1\n",
            "103.0     1\n",
            "101.0     1\n",
            "105.0     1\n",
            "Name: Weight, Length: 69, dtype: int64\n"
          ]
        }
      ],
      "source": [
        "a = young['Age'].value_counts()\n",
        "b = young['Weight'].value_counts()\n",
        "\n",
        "print(a)\n",
        "print(b)"
      ]
    },
    {
      "cell_type": "markdown",
      "metadata": {
        "id": "xi8eBik4hWtN"
      },
      "source": [
        "### Histogram"
      ]
    },
    {
      "cell_type": "code",
      "execution_count": null,
      "metadata": {
        "id": "B6rLnzNkhWtN"
      },
      "outputs": [],
      "source": [
        ""
      ]
    },
    {
      "cell_type": "markdown",
      "metadata": {
        "id": "Ras2a8j3hWtN"
      },
      "source": [
        "### Missing values"
      ]
    },
    {
      "cell_type": "code",
      "execution_count": null,
      "metadata": {
        "id": "AzRYowcIhWtO"
      },
      "outputs": [],
      "source": [
        "young."
      ]
    },
    {
      "cell_type": "markdown",
      "metadata": {
        "id": "ClNbs6NchWtO"
      },
      "source": [
        "### Outliers"
      ]
    },
    {
      "cell_type": "code",
      "execution_count": null,
      "metadata": {
        "id": "nCMpPktDhWtO"
      },
      "outputs": [],
      "source": [
        ""
      ]
    },
    {
      "cell_type": "markdown",
      "metadata": {
        "id": "YMoAtgPahWtO"
      },
      "source": [
        "### Gender breakdown"
      ]
    },
    {
      "cell_type": "code",
      "execution_count": null,
      "metadata": {
        "id": "-osd26WjhWtO"
      },
      "outputs": [],
      "source": [
        ""
      ]
    },
    {
      "cell_type": "markdown",
      "metadata": {
        "id": "k0WAliG2hWtP"
      },
      "source": [
        "### Correlation between variables"
      ]
    },
    {
      "cell_type": "code",
      "execution_count": null,
      "metadata": {
        "id": "aHPJq5jihWtP"
      },
      "outputs": [],
      "source": [
        ""
      ]
    },
    {
      "cell_type": "markdown",
      "metadata": {
        "id": "Y8XPkfU6hWtP"
      },
      "source": [
        "****\n",
        "## 2. Joint probability"
      ]
    },
    {
      "cell_type": "markdown",
      "metadata": {
        "id": "Z7Y7rotQhWtP"
      },
      "source": [
        "#### To do this we will define the concepts of marginal probability and joint probability\n",
        "\n",
        "Marginal Probability: Probability of one variable without considering another, for example:\n",
        "\n",
        "$$P_X=P[X=x]=\\sum_{\\forall y_i}p_{xy}(x,y_i)$$"
      ]
    },
    {
      "cell_type": "code",
      "execution_count": null,
      "metadata": {
        "id": "l4QqqNBqhWtP"
      },
      "outputs": [],
      "source": [
        ""
      ]
    },
    {
      "cell_type": "markdown",
      "metadata": {
        "id": "oehQSvZNhWtP"
      },
      "source": [
        "#### Joint Probability: In a bivariate or multimavariate sample space, each possible outcome refers to two or more characteristics. Then the probability of a joint outcome is denoted $P(X \\cap Y)$ and is defined as:\n",
        "\n",
        "$$P_{XY}=P[(X=x)\\cap(Y=y)]$$\n",
        "\n",
        "__TODO:__\n",
        "Do some research on [crosstab](https://pandas.pydata.org/docs/reference/api/pandas.crosstab.html) pandas function."
      ]
    },
    {
      "cell_type": "code",
      "execution_count": null,
      "metadata": {
        "id": "XlzufKM2hWtQ"
      },
      "outputs": [],
      "source": [
        ""
      ]
    },
    {
      "cell_type": "markdown",
      "metadata": {
        "id": "44Nc0gPWhWtQ"
      },
      "source": [
        "****\n",
        "## 3. Answers\n",
        "### Smoking levels and smoking bans in bars"
      ]
    },
    {
      "cell_type": "code",
      "execution_count": null,
      "metadata": {
        "id": "d-8oLRPZhWtQ"
      },
      "outputs": [],
      "source": [
        ""
      ]
    },
    {
      "cell_type": "markdown",
      "metadata": {
        "id": "Y7OreMYIhWtQ"
      },
      "source": [
        "****\n",
        "# Extras:"
      ]
    },
    {
      "cell_type": "markdown",
      "metadata": {
        "_cell_guid": "9cc06f7f-cea2-4d5a-baec-6be4f491c251",
        "_uuid": "19f7bf02a33ef1616a8b8e23001fcae8889d0d7a",
        "id": "_Ld0LwKihWtQ"
      },
      "source": [
        "## Other data visualizations"
      ]
    },
    {
      "cell_type": "markdown",
      "metadata": {
        "_cell_guid": "75ac7bcc-1cb7-4c97-9e15-a66db03a5553",
        "_uuid": "875061af6669258f6c504f8b1c5baefea83c1e56",
        "id": "JXb-lcRChWtQ"
      },
      "source": [
        "#### We choose some characteristics (numerical) and analyze them breaking down by gender using a box plot"
      ]
    },
    {
      "cell_type": "code",
      "execution_count": null,
      "metadata": {
        "id": "1cmNAqsAhWtQ"
      },
      "outputs": [],
      "source": [
        ""
      ]
    }
  ],
  "metadata": {
    "kernelspec": {
      "display_name": "Python 3 (ipykernel)",
      "language": "python",
      "name": "python3"
    },
    "language_info": {
      "codemirror_mode": {
        "name": "ipython",
        "version": 3
      },
      "file_extension": ".py",
      "mimetype": "text/x-python",
      "name": "python",
      "nbconvert_exporter": "python",
      "pygments_lexer": "ipython3",
      "version": "3.9.7"
    },
    "colab": {
      "name": "Practice_Intro_to_Probability_and_Statistics.ipynb",
      "provenance": [],
      "collapsed_sections": [],
      "include_colab_link": true
    }
  },
  "nbformat": 4,
  "nbformat_minor": 0
}